{
  "nbformat": 4,
  "nbformat_minor": 0,
  "metadata": {
    "colab": {
      "provenance": [],
      "collapsed_sections": [
        "vncDsAP0Gaoa",
        "FJNUwmbgGyua",
        "w6K7xa23Elo4",
        "yQaldy8SH6Dl",
        "PH-0ReGfmX4f",
        "mDgbUHAGgjLW",
        "O_i_v8NEhb9l",
        "HhfV-JJviCcP",
        "Y3lxredqlCYt",
        "3RnN4peoiCZX",
        "x71ZqKXriCWQ",
        "7hBIi_osiCS2",
        "JlHwYmJAmNHm",
        "35m5QtbWiB9F",
        "PoPl-ycgm1ru",
        "H0kj-8xxnORC",
        "nA9Y7ga8ng1Z",
        "PBTbrJXOngz2",
        "u3PMJOP6ngxN",
        "dauF4eBmngu3",
        "bKJF3rekwFvQ",
        "MSa1f5Uengrz",
        "GF8Ens_Soomf",
        "0wOQAZs5pc--",
        "K5QZ13OEpz2H",
        "lQ7QKXXCp7Bj",
        "448CDAPjqfQr",
        "KSlN3yHqYklG",
        "t6dVpIINYklI",
        "ijmpgYnKYklI",
        "-JiQyfWJYklI",
        "EM7whBJCYoAo",
        "fge-S5ZAYoAp",
        "85gYPyotYoAp",
        "RoGjAbkUYoAp",
        "4Of9eVA-YrdM",
        "iky9q4vBYrdO",
        "F6T5p64dYrdO",
        "y-Ehk30pYrdP",
        "bamQiAODYuh1",
        "QHF8YVU7Yuh3",
        "GwzvFGzlYuh3",
        "qYpmQ266Yuh3",
        "OH-pJp9IphqM",
        "bbFf2-_FphqN",
        "_ouA3fa0phqN",
        "Seke61FWphqN",
        "PIIx-8_IphqN",
        "t27r6nlMphqO",
        "r2jJGEOYphqO",
        "b0JNsNcRphqO",
        "BZR9WyysphqO",
        "jj7wYXLtphqO",
        "eZrbJ2SmphqO",
        "rFu4xreNphqO",
        "YJ55k-q6phqO",
        "gCFgpxoyphqP",
        "OVtJsKN_phqQ",
        "lssrdh5qphqQ",
        "U2RJ9gkRphqQ",
        "1M8mcRywphqQ",
        "tgIPom80phqQ",
        "JMzcOPDDphqR",
        "x-EpHcCOp1ci",
        "X_VqEhTip1ck",
        "8zGJKyg5p1ck",
        "PVzmfK_Ep1ck",
        "n3dbpmDWp1ck",
        "ylSl6qgtp1ck",
        "ZWILFDl5p1ck",
        "M7G43BXep1ck",
        "Ag9LCva-p1cl",
        "E6MkPsBcp1cl",
        "2cELzS2fp1cl",
        "3MPXvC8up1cl",
        "NC_X3p0fY2L0",
        "UV0SzAkaZNRQ",
        "YPEH6qLeZNRQ",
        "q29F0dvdveiT",
        "EXh0U9oCveiU",
        "22aHeOlLveiV",
        "JcMwzZxoAimU",
        "8G2x9gOozGDZ",
        "gCX9965dhzqZ",
        "gIfDvo9L0UH2"
      ],
      "include_colab_link": true
    },
    "kernelspec": {
      "name": "python3",
      "display_name": "Python 3"
    },
    "language_info": {
      "name": "python"
    },
    "gpuClass": "standard"
  },
  "cells": [
    {
      "cell_type": "markdown",
      "metadata": {
        "id": "view-in-github",
        "colab_type": "text"
      },
      "source": [
        "<a href=\"https://colab.research.google.com/github/rajathAgalkote/EDA1-Telecom-Churn---Capstone/blob/main/Rajathadri_EDA_Telecom_Churn_Analysis_Project.ipynb\" target=\"_parent\"><img src=\"https://colab.research.google.com/assets/colab-badge.svg\" alt=\"Open In Colab\"/></a>"
      ]
    },
    {
      "cell_type": "markdown",
      "source": [
        "# **Project Name**    - Telecom Churn Analysis\n",
        "\n"
      ],
      "metadata": {
        "id": "vncDsAP0Gaoa"
      }
    },
    {
      "cell_type": "markdown",
      "source": [
        "##### **Project Type**    - EDA/Regression/Classification/Unsupervised\n",
        "##### **Contribution**    - Individual\n",
        "##### **Member 1 -** Rajathadri Agalakote"
      ],
      "metadata": {
        "id": "beRrZCGUAJYm"
      }
    },
    {
      "cell_type": "markdown",
      "source": [
        "# **Project Summary -**"
      ],
      "metadata": {
        "id": "FJNUwmbgGyua"
      }
    },
    {
      "cell_type": "markdown",
      "source": [
        "**PROBLEM STATEMENT :**\n",
        "\n",
        "\n",
        "---\n",
        "\n",
        "\n",
        "The Telecom sector is a service based business that is defined and scaled based on the number of customers using the service.\n",
        "\n",
        "Hence, it is crucial for telecom companies to maintain a significant number of customer base at all times. Furthermore, the cost of retaining existing customers is significantly lower than the cost of acquiring new customers.\n",
        "\n",
        "**Customer churn/attrition** is defined as the number of existing customers that fail to become repeat customers. The reasons behind customer churn may be voluntary or involuntary.\n",
        "\n",
        "It is highly necessary for companies to understand the reasons behind this so as to avoid future attrition and provide better quality service."
      ],
      "metadata": {
        "id": "F6v_1wHtG2nS"
      }
    },
    {
      "cell_type": "markdown",
      "source": [
        "**BUSINESS OBJECTIVE :**\n",
        "\n",
        "---\n",
        "\n",
        "To analyse and find possible solutions to reduce Customer Churn Rate in the Telecom Sector"
      ],
      "metadata": {
        "id": "nxXMjRF14htA"
      }
    },
    {
      "cell_type": "markdown",
      "source": [
        "# **GitHub Link -**"
      ],
      "metadata": {
        "id": "w6K7xa23Elo4"
      }
    },
    {
      "cell_type": "markdown",
      "source": [
        "https://github.com/rajathAgalkote/EDA1-Telecom-Churn---Capstone.git"
      ],
      "metadata": {
        "id": "h1o69JH3Eqqn"
      }
    },
    {
      "cell_type": "markdown",
      "source": [
        "# **Problem Statement**\n"
      ],
      "metadata": {
        "id": "yQaldy8SH6Dl"
      }
    },
    {
      "cell_type": "markdown",
      "source": [
        "**Write Problem Statement Here.**"
      ],
      "metadata": {
        "id": "DpeJGUA3kjGy"
      }
    },
    {
      "cell_type": "markdown",
      "source": [
        "#### **Define Your Business Objective?**"
      ],
      "metadata": {
        "id": "PH-0ReGfmX4f"
      }
    },
    {
      "cell_type": "markdown",
      "source": [
        "Answer Here."
      ],
      "metadata": {
        "id": "PhDvGCAqmjP1"
      }
    },
    {
      "cell_type": "markdown",
      "source": [
        "# **General Guidelines** : -  "
      ],
      "metadata": {
        "id": "mDgbUHAGgjLW"
      }
    },
    {
      "cell_type": "markdown",
      "source": [
        "1.   Well-structured, formatted, and commented code is required. \n",
        "2.   Exception Handling, Production Grade Code & Deployment Ready Code will be a plus. Those students will be awarded some additional credits. \n",
        "     \n",
        "     The additional credits will have advantages over other students during Star Student selection.\n",
        "       \n",
        "             [ Note: - Deployment Ready Code is defined as, the whole .ipynb notebook should be executable in one go\n",
        "                       without a single error logged. ]\n",
        "\n",
        "3.   Each and every logic should have proper comments.\n",
        "4. You may add as many number of charts you want. Make Sure for each and every chart the following format should be answered.\n",
        "        \n",
        "\n",
        "```\n",
        "# Chart visualization code\n",
        "```\n",
        "            \n",
        "\n",
        "*   Why did you pick the specific chart?\n",
        "*   What is/are the insight(s) found from the chart?\n",
        "* Will the gained insights help creating a positive business impact? \n",
        "Are there any insights that lead to negative growth? Justify with specific reason.\n",
        "\n",
        "5. You have to create at least 20 logical & meaningful charts having important insights.\n",
        "\n",
        "\n",
        "[ Hints : - Do the Vizualization in  a structured way while following \"UBM\" Rule. \n",
        "\n",
        "U - Univariate Analysis,\n",
        "\n",
        "B - Bivariate Analysis (Numerical - Categorical, Numerical - Numerical, Categorical - Categorical)\n",
        "\n",
        "M - Multivariate Analysis\n",
        " ]\n",
        "\n",
        "\n",
        "\n"
      ],
      "metadata": {
        "id": "ZrxVaUj-hHfC"
      }
    },
    {
      "cell_type": "markdown",
      "source": [
        "# ***Let's Begin !***"
      ],
      "metadata": {
        "id": "O_i_v8NEhb9l"
      }
    },
    {
      "cell_type": "markdown",
      "source": [
        "## ***1. Know Your Data***"
      ],
      "metadata": {
        "id": "HhfV-JJviCcP"
      }
    },
    {
      "cell_type": "markdown",
      "source": [
        "### Import Libraries"
      ],
      "metadata": {
        "id": "Y3lxredqlCYt"
      }
    },
    {
      "cell_type": "code",
      "source": [
        "# Import Libraries\n",
        "import numpy as np\n",
        "import pandas as pd\n",
        "import io\n",
        "from numpy import math\n",
        "from numpy import loadtxt\n",
        "import seaborn as sns\n",
        "import matplotlib.pyplot as plt\n",
        "%matplotlib inline\n",
        "from matplotlib import rcParams"
      ],
      "metadata": {
        "id": "M8Vqi-pPk-HR"
      },
      "execution_count": 1,
      "outputs": []
    },
    {
      "cell_type": "markdown",
      "source": [
        "### Dataset Loading"
      ],
      "metadata": {
        "id": "3RnN4peoiCZX"
      }
    },
    {
      "cell_type": "code",
      "source": [
        "# Load Dataset\n",
        "\n",
        "from google.colab import files\n",
        "uploaded = files.upload()"
      ],
      "metadata": {
        "id": "4CkvbW_SlZ_R",
        "colab": {
          "base_uri": "https://localhost:8080/",
          "height": 73
        },
        "outputId": "8ffaca39-b168-4058-8b25-a763d0cfd978"
      },
      "execution_count": 2,
      "outputs": [
        {
          "output_type": "display_data",
          "data": {
            "text/plain": [
              "<IPython.core.display.HTML object>"
            ],
            "text/html": [
              "\n",
              "     <input type=\"file\" id=\"files-d1e90b5f-ba85-4c81-a3b7-b59b05531177\" name=\"files[]\" multiple disabled\n",
              "        style=\"border:none\" />\n",
              "     <output id=\"result-d1e90b5f-ba85-4c81-a3b7-b59b05531177\">\n",
              "      Upload widget is only available when the cell has been executed in the\n",
              "      current browser session. Please rerun this cell to enable.\n",
              "      </output>\n",
              "      <script>// Copyright 2017 Google LLC\n",
              "//\n",
              "// Licensed under the Apache License, Version 2.0 (the \"License\");\n",
              "// you may not use this file except in compliance with the License.\n",
              "// You may obtain a copy of the License at\n",
              "//\n",
              "//      http://www.apache.org/licenses/LICENSE-2.0\n",
              "//\n",
              "// Unless required by applicable law or agreed to in writing, software\n",
              "// distributed under the License is distributed on an \"AS IS\" BASIS,\n",
              "// WITHOUT WARRANTIES OR CONDITIONS OF ANY KIND, either express or implied.\n",
              "// See the License for the specific language governing permissions and\n",
              "// limitations under the License.\n",
              "\n",
              "/**\n",
              " * @fileoverview Helpers for google.colab Python module.\n",
              " */\n",
              "(function(scope) {\n",
              "function span(text, styleAttributes = {}) {\n",
              "  const element = document.createElement('span');\n",
              "  element.textContent = text;\n",
              "  for (const key of Object.keys(styleAttributes)) {\n",
              "    element.style[key] = styleAttributes[key];\n",
              "  }\n",
              "  return element;\n",
              "}\n",
              "\n",
              "// Max number of bytes which will be uploaded at a time.\n",
              "const MAX_PAYLOAD_SIZE = 100 * 1024;\n",
              "\n",
              "function _uploadFiles(inputId, outputId) {\n",
              "  const steps = uploadFilesStep(inputId, outputId);\n",
              "  const outputElement = document.getElementById(outputId);\n",
              "  // Cache steps on the outputElement to make it available for the next call\n",
              "  // to uploadFilesContinue from Python.\n",
              "  outputElement.steps = steps;\n",
              "\n",
              "  return _uploadFilesContinue(outputId);\n",
              "}\n",
              "\n",
              "// This is roughly an async generator (not supported in the browser yet),\n",
              "// where there are multiple asynchronous steps and the Python side is going\n",
              "// to poll for completion of each step.\n",
              "// This uses a Promise to block the python side on completion of each step,\n",
              "// then passes the result of the previous step as the input to the next step.\n",
              "function _uploadFilesContinue(outputId) {\n",
              "  const outputElement = document.getElementById(outputId);\n",
              "  const steps = outputElement.steps;\n",
              "\n",
              "  const next = steps.next(outputElement.lastPromiseValue);\n",
              "  return Promise.resolve(next.value.promise).then((value) => {\n",
              "    // Cache the last promise value to make it available to the next\n",
              "    // step of the generator.\n",
              "    outputElement.lastPromiseValue = value;\n",
              "    return next.value.response;\n",
              "  });\n",
              "}\n",
              "\n",
              "/**\n",
              " * Generator function which is called between each async step of the upload\n",
              " * process.\n",
              " * @param {string} inputId Element ID of the input file picker element.\n",
              " * @param {string} outputId Element ID of the output display.\n",
              " * @return {!Iterable<!Object>} Iterable of next steps.\n",
              " */\n",
              "function* uploadFilesStep(inputId, outputId) {\n",
              "  const inputElement = document.getElementById(inputId);\n",
              "  inputElement.disabled = false;\n",
              "\n",
              "  const outputElement = document.getElementById(outputId);\n",
              "  outputElement.innerHTML = '';\n",
              "\n",
              "  const pickedPromise = new Promise((resolve) => {\n",
              "    inputElement.addEventListener('change', (e) => {\n",
              "      resolve(e.target.files);\n",
              "    });\n",
              "  });\n",
              "\n",
              "  const cancel = document.createElement('button');\n",
              "  inputElement.parentElement.appendChild(cancel);\n",
              "  cancel.textContent = 'Cancel upload';\n",
              "  const cancelPromise = new Promise((resolve) => {\n",
              "    cancel.onclick = () => {\n",
              "      resolve(null);\n",
              "    };\n",
              "  });\n",
              "\n",
              "  // Wait for the user to pick the files.\n",
              "  const files = yield {\n",
              "    promise: Promise.race([pickedPromise, cancelPromise]),\n",
              "    response: {\n",
              "      action: 'starting',\n",
              "    }\n",
              "  };\n",
              "\n",
              "  cancel.remove();\n",
              "\n",
              "  // Disable the input element since further picks are not allowed.\n",
              "  inputElement.disabled = true;\n",
              "\n",
              "  if (!files) {\n",
              "    return {\n",
              "      response: {\n",
              "        action: 'complete',\n",
              "      }\n",
              "    };\n",
              "  }\n",
              "\n",
              "  for (const file of files) {\n",
              "    const li = document.createElement('li');\n",
              "    li.append(span(file.name, {fontWeight: 'bold'}));\n",
              "    li.append(span(\n",
              "        `(${file.type || 'n/a'}) - ${file.size} bytes, ` +\n",
              "        `last modified: ${\n",
              "            file.lastModifiedDate ? file.lastModifiedDate.toLocaleDateString() :\n",
              "                                    'n/a'} - `));\n",
              "    const percent = span('0% done');\n",
              "    li.appendChild(percent);\n",
              "\n",
              "    outputElement.appendChild(li);\n",
              "\n",
              "    const fileDataPromise = new Promise((resolve) => {\n",
              "      const reader = new FileReader();\n",
              "      reader.onload = (e) => {\n",
              "        resolve(e.target.result);\n",
              "      };\n",
              "      reader.readAsArrayBuffer(file);\n",
              "    });\n",
              "    // Wait for the data to be ready.\n",
              "    let fileData = yield {\n",
              "      promise: fileDataPromise,\n",
              "      response: {\n",
              "        action: 'continue',\n",
              "      }\n",
              "    };\n",
              "\n",
              "    // Use a chunked sending to avoid message size limits. See b/62115660.\n",
              "    let position = 0;\n",
              "    do {\n",
              "      const length = Math.min(fileData.byteLength - position, MAX_PAYLOAD_SIZE);\n",
              "      const chunk = new Uint8Array(fileData, position, length);\n",
              "      position += length;\n",
              "\n",
              "      const base64 = btoa(String.fromCharCode.apply(null, chunk));\n",
              "      yield {\n",
              "        response: {\n",
              "          action: 'append',\n",
              "          file: file.name,\n",
              "          data: base64,\n",
              "        },\n",
              "      };\n",
              "\n",
              "      let percentDone = fileData.byteLength === 0 ?\n",
              "          100 :\n",
              "          Math.round((position / fileData.byteLength) * 100);\n",
              "      percent.textContent = `${percentDone}% done`;\n",
              "\n",
              "    } while (position < fileData.byteLength);\n",
              "  }\n",
              "\n",
              "  // All done.\n",
              "  yield {\n",
              "    response: {\n",
              "      action: 'complete',\n",
              "    }\n",
              "  };\n",
              "}\n",
              "\n",
              "scope.google = scope.google || {};\n",
              "scope.google.colab = scope.google.colab || {};\n",
              "scope.google.colab._files = {\n",
              "  _uploadFiles,\n",
              "  _uploadFilesContinue,\n",
              "};\n",
              "})(self);\n",
              "</script> "
            ]
          },
          "metadata": {}
        },
        {
          "output_type": "stream",
          "name": "stdout",
          "text": [
            "Saving Telecom Churn.csv to Telecom Churn.csv\n"
          ]
        }
      ]
    },
    {
      "cell_type": "code",
      "source": [
        "df = pd.read_csv(io.BytesIO(uploaded['Telecom Churn.csv']))"
      ],
      "metadata": {
        "id": "gNl9AM-w6zxr"
      },
      "execution_count": 3,
      "outputs": []
    },
    {
      "cell_type": "markdown",
      "source": [
        "### Dataset First View"
      ],
      "metadata": {
        "id": "x71ZqKXriCWQ"
      }
    },
    {
      "cell_type": "code",
      "source": [
        "# Dataset First Look\n",
        "df.head()"
      ],
      "metadata": {
        "id": "LWNFOSvLl09H",
        "colab": {
          "base_uri": "https://localhost:8080/",
          "height": 285
        },
        "outputId": "bfc06d47-024b-4816-ea13-3a4e5c8bc95b"
      },
      "execution_count": null,
      "outputs": [
        {
          "output_type": "execute_result",
          "data": {
            "text/plain": [
              "  State  Account length  Area code International plan Voice mail plan  \\\n",
              "0    KS             128        415                 No             Yes   \n",
              "1    OH             107        415                 No             Yes   \n",
              "2    NJ             137        415                 No              No   \n",
              "3    OH              84        408                Yes              No   \n",
              "4    OK              75        415                Yes              No   \n",
              "\n",
              "   Number vmail messages  Total day minutes  Total day calls  \\\n",
              "0                     25              265.1              110   \n",
              "1                     26              161.6              123   \n",
              "2                      0              243.4              114   \n",
              "3                      0              299.4               71   \n",
              "4                      0              166.7              113   \n",
              "\n",
              "   Total day charge  Total eve minutes  Total eve calls  Total eve charge  \\\n",
              "0             45.07              197.4               99             16.78   \n",
              "1             27.47              195.5              103             16.62   \n",
              "2             41.38              121.2              110             10.30   \n",
              "3             50.90               61.9               88              5.26   \n",
              "4             28.34              148.3              122             12.61   \n",
              "\n",
              "   Total night minutes  Total night calls  Total night charge  \\\n",
              "0                244.7                 91               11.01   \n",
              "1                254.4                103               11.45   \n",
              "2                162.6                104                7.32   \n",
              "3                196.9                 89                8.86   \n",
              "4                186.9                121                8.41   \n",
              "\n",
              "   Total intl minutes  Total intl calls  Total intl charge  \\\n",
              "0                10.0                 3               2.70   \n",
              "1                13.7                 3               3.70   \n",
              "2                12.2                 5               3.29   \n",
              "3                 6.6                 7               1.78   \n",
              "4                10.1                 3               2.73   \n",
              "\n",
              "   Customer service calls  Churn  \n",
              "0                       1  False  \n",
              "1                       1  False  \n",
              "2                       0  False  \n",
              "3                       2  False  \n",
              "4                       3  False  "
            ],
            "text/html": [
              "\n",
              "  <div id=\"df-ea939cbd-06f7-4a0a-88b6-190b510c2de4\">\n",
              "    <div class=\"colab-df-container\">\n",
              "      <div>\n",
              "<style scoped>\n",
              "    .dataframe tbody tr th:only-of-type {\n",
              "        vertical-align: middle;\n",
              "    }\n",
              "\n",
              "    .dataframe tbody tr th {\n",
              "        vertical-align: top;\n",
              "    }\n",
              "\n",
              "    .dataframe thead th {\n",
              "        text-align: right;\n",
              "    }\n",
              "</style>\n",
              "<table border=\"1\" class=\"dataframe\">\n",
              "  <thead>\n",
              "    <tr style=\"text-align: right;\">\n",
              "      <th></th>\n",
              "      <th>State</th>\n",
              "      <th>Account length</th>\n",
              "      <th>Area code</th>\n",
              "      <th>International plan</th>\n",
              "      <th>Voice mail plan</th>\n",
              "      <th>Number vmail messages</th>\n",
              "      <th>Total day minutes</th>\n",
              "      <th>Total day calls</th>\n",
              "      <th>Total day charge</th>\n",
              "      <th>Total eve minutes</th>\n",
              "      <th>Total eve calls</th>\n",
              "      <th>Total eve charge</th>\n",
              "      <th>Total night minutes</th>\n",
              "      <th>Total night calls</th>\n",
              "      <th>Total night charge</th>\n",
              "      <th>Total intl minutes</th>\n",
              "      <th>Total intl calls</th>\n",
              "      <th>Total intl charge</th>\n",
              "      <th>Customer service calls</th>\n",
              "      <th>Churn</th>\n",
              "    </tr>\n",
              "  </thead>\n",
              "  <tbody>\n",
              "    <tr>\n",
              "      <th>0</th>\n",
              "      <td>KS</td>\n",
              "      <td>128</td>\n",
              "      <td>415</td>\n",
              "      <td>No</td>\n",
              "      <td>Yes</td>\n",
              "      <td>25</td>\n",
              "      <td>265.1</td>\n",
              "      <td>110</td>\n",
              "      <td>45.07</td>\n",
              "      <td>197.4</td>\n",
              "      <td>99</td>\n",
              "      <td>16.78</td>\n",
              "      <td>244.7</td>\n",
              "      <td>91</td>\n",
              "      <td>11.01</td>\n",
              "      <td>10.0</td>\n",
              "      <td>3</td>\n",
              "      <td>2.70</td>\n",
              "      <td>1</td>\n",
              "      <td>False</td>\n",
              "    </tr>\n",
              "    <tr>\n",
              "      <th>1</th>\n",
              "      <td>OH</td>\n",
              "      <td>107</td>\n",
              "      <td>415</td>\n",
              "      <td>No</td>\n",
              "      <td>Yes</td>\n",
              "      <td>26</td>\n",
              "      <td>161.6</td>\n",
              "      <td>123</td>\n",
              "      <td>27.47</td>\n",
              "      <td>195.5</td>\n",
              "      <td>103</td>\n",
              "      <td>16.62</td>\n",
              "      <td>254.4</td>\n",
              "      <td>103</td>\n",
              "      <td>11.45</td>\n",
              "      <td>13.7</td>\n",
              "      <td>3</td>\n",
              "      <td>3.70</td>\n",
              "      <td>1</td>\n",
              "      <td>False</td>\n",
              "    </tr>\n",
              "    <tr>\n",
              "      <th>2</th>\n",
              "      <td>NJ</td>\n",
              "      <td>137</td>\n",
              "      <td>415</td>\n",
              "      <td>No</td>\n",
              "      <td>No</td>\n",
              "      <td>0</td>\n",
              "      <td>243.4</td>\n",
              "      <td>114</td>\n",
              "      <td>41.38</td>\n",
              "      <td>121.2</td>\n",
              "      <td>110</td>\n",
              "      <td>10.30</td>\n",
              "      <td>162.6</td>\n",
              "      <td>104</td>\n",
              "      <td>7.32</td>\n",
              "      <td>12.2</td>\n",
              "      <td>5</td>\n",
              "      <td>3.29</td>\n",
              "      <td>0</td>\n",
              "      <td>False</td>\n",
              "    </tr>\n",
              "    <tr>\n",
              "      <th>3</th>\n",
              "      <td>OH</td>\n",
              "      <td>84</td>\n",
              "      <td>408</td>\n",
              "      <td>Yes</td>\n",
              "      <td>No</td>\n",
              "      <td>0</td>\n",
              "      <td>299.4</td>\n",
              "      <td>71</td>\n",
              "      <td>50.90</td>\n",
              "      <td>61.9</td>\n",
              "      <td>88</td>\n",
              "      <td>5.26</td>\n",
              "      <td>196.9</td>\n",
              "      <td>89</td>\n",
              "      <td>8.86</td>\n",
              "      <td>6.6</td>\n",
              "      <td>7</td>\n",
              "      <td>1.78</td>\n",
              "      <td>2</td>\n",
              "      <td>False</td>\n",
              "    </tr>\n",
              "    <tr>\n",
              "      <th>4</th>\n",
              "      <td>OK</td>\n",
              "      <td>75</td>\n",
              "      <td>415</td>\n",
              "      <td>Yes</td>\n",
              "      <td>No</td>\n",
              "      <td>0</td>\n",
              "      <td>166.7</td>\n",
              "      <td>113</td>\n",
              "      <td>28.34</td>\n",
              "      <td>148.3</td>\n",
              "      <td>122</td>\n",
              "      <td>12.61</td>\n",
              "      <td>186.9</td>\n",
              "      <td>121</td>\n",
              "      <td>8.41</td>\n",
              "      <td>10.1</td>\n",
              "      <td>3</td>\n",
              "      <td>2.73</td>\n",
              "      <td>3</td>\n",
              "      <td>False</td>\n",
              "    </tr>\n",
              "  </tbody>\n",
              "</table>\n",
              "</div>\n",
              "      <button class=\"colab-df-convert\" onclick=\"convertToInteractive('df-ea939cbd-06f7-4a0a-88b6-190b510c2de4')\"\n",
              "              title=\"Convert this dataframe to an interactive table.\"\n",
              "              style=\"display:none;\">\n",
              "        \n",
              "  <svg xmlns=\"http://www.w3.org/2000/svg\" height=\"24px\"viewBox=\"0 0 24 24\"\n",
              "       width=\"24px\">\n",
              "    <path d=\"M0 0h24v24H0V0z\" fill=\"none\"/>\n",
              "    <path d=\"M18.56 5.44l.94 2.06.94-2.06 2.06-.94-2.06-.94-.94-2.06-.94 2.06-2.06.94zm-11 1L8.5 8.5l.94-2.06 2.06-.94-2.06-.94L8.5 2.5l-.94 2.06-2.06.94zm10 10l.94 2.06.94-2.06 2.06-.94-2.06-.94-.94-2.06-.94 2.06-2.06.94z\"/><path d=\"M17.41 7.96l-1.37-1.37c-.4-.4-.92-.59-1.43-.59-.52 0-1.04.2-1.43.59L10.3 9.45l-7.72 7.72c-.78.78-.78 2.05 0 2.83L4 21.41c.39.39.9.59 1.41.59.51 0 1.02-.2 1.41-.59l7.78-7.78 2.81-2.81c.8-.78.8-2.07 0-2.86zM5.41 20L4 18.59l7.72-7.72 1.47 1.35L5.41 20z\"/>\n",
              "  </svg>\n",
              "      </button>\n",
              "      \n",
              "  <style>\n",
              "    .colab-df-container {\n",
              "      display:flex;\n",
              "      flex-wrap:wrap;\n",
              "      gap: 12px;\n",
              "    }\n",
              "\n",
              "    .colab-df-convert {\n",
              "      background-color: #E8F0FE;\n",
              "      border: none;\n",
              "      border-radius: 50%;\n",
              "      cursor: pointer;\n",
              "      display: none;\n",
              "      fill: #1967D2;\n",
              "      height: 32px;\n",
              "      padding: 0 0 0 0;\n",
              "      width: 32px;\n",
              "    }\n",
              "\n",
              "    .colab-df-convert:hover {\n",
              "      background-color: #E2EBFA;\n",
              "      box-shadow: 0px 1px 2px rgba(60, 64, 67, 0.3), 0px 1px 3px 1px rgba(60, 64, 67, 0.15);\n",
              "      fill: #174EA6;\n",
              "    }\n",
              "\n",
              "    [theme=dark] .colab-df-convert {\n",
              "      background-color: #3B4455;\n",
              "      fill: #D2E3FC;\n",
              "    }\n",
              "\n",
              "    [theme=dark] .colab-df-convert:hover {\n",
              "      background-color: #434B5C;\n",
              "      box-shadow: 0px 1px 3px 1px rgba(0, 0, 0, 0.15);\n",
              "      filter: drop-shadow(0px 1px 2px rgba(0, 0, 0, 0.3));\n",
              "      fill: #FFFFFF;\n",
              "    }\n",
              "  </style>\n",
              "\n",
              "      <script>\n",
              "        const buttonEl =\n",
              "          document.querySelector('#df-ea939cbd-06f7-4a0a-88b6-190b510c2de4 button.colab-df-convert');\n",
              "        buttonEl.style.display =\n",
              "          google.colab.kernel.accessAllowed ? 'block' : 'none';\n",
              "\n",
              "        async function convertToInteractive(key) {\n",
              "          const element = document.querySelector('#df-ea939cbd-06f7-4a0a-88b6-190b510c2de4');\n",
              "          const dataTable =\n",
              "            await google.colab.kernel.invokeFunction('convertToInteractive',\n",
              "                                                     [key], {});\n",
              "          if (!dataTable) return;\n",
              "\n",
              "          const docLinkHtml = 'Like what you see? Visit the ' +\n",
              "            '<a target=\"_blank\" href=https://colab.research.google.com/notebooks/data_table.ipynb>data table notebook</a>'\n",
              "            + ' to learn more about interactive tables.';\n",
              "          element.innerHTML = '';\n",
              "          dataTable['output_type'] = 'display_data';\n",
              "          await google.colab.output.renderOutput(dataTable, element);\n",
              "          const docLink = document.createElement('div');\n",
              "          docLink.innerHTML = docLinkHtml;\n",
              "          element.appendChild(docLink);\n",
              "        }\n",
              "      </script>\n",
              "    </div>\n",
              "  </div>\n",
              "  "
            ]
          },
          "metadata": {},
          "execution_count": 6
        }
      ]
    },
    {
      "cell_type": "markdown",
      "source": [
        "### Dataset Rows & Columns count"
      ],
      "metadata": {
        "id": "7hBIi_osiCS2"
      }
    },
    {
      "cell_type": "code",
      "source": [
        "# Dataset Rows & Columns count\n",
        "\n",
        "df.shape"
      ],
      "metadata": {
        "id": "Kllu7SJgmLij",
        "colab": {
          "base_uri": "https://localhost:8080/"
        },
        "outputId": "dd3ee560-ae06-46d2-cfbd-328993c05c73"
      },
      "execution_count": null,
      "outputs": [
        {
          "output_type": "execute_result",
          "data": {
            "text/plain": [
              "(3333, 20)"
            ]
          },
          "metadata": {},
          "execution_count": 10
        }
      ]
    },
    {
      "cell_type": "markdown",
      "source": [
        "There are 3333 rows and 20 columns"
      ],
      "metadata": {
        "id": "NidpejQX8U_C"
      }
    },
    {
      "cell_type": "code",
      "source": [
        "df.columns"
      ],
      "metadata": {
        "colab": {
          "base_uri": "https://localhost:8080/"
        },
        "id": "VggS0WmI8EVG",
        "outputId": "39d44624-3088-44ef-b1d1-92fc0afcdf78"
      },
      "execution_count": null,
      "outputs": [
        {
          "output_type": "execute_result",
          "data": {
            "text/plain": [
              "Index(['State', 'Account length', 'Area code', 'International plan',\n",
              "       'Voice mail plan', 'Number vmail messages', 'Total day minutes',\n",
              "       'Total day calls', 'Total day charge', 'Total eve minutes',\n",
              "       'Total eve calls', 'Total eve charge', 'Total night minutes',\n",
              "       'Total night calls', 'Total night charge', 'Total intl minutes',\n",
              "       'Total intl calls', 'Total intl charge', 'Customer service calls',\n",
              "       'Churn'],\n",
              "      dtype='object')"
            ]
          },
          "metadata": {},
          "execution_count": 8
        }
      ]
    },
    {
      "cell_type": "markdown",
      "source": [
        "### Dataset Information"
      ],
      "metadata": {
        "id": "JlHwYmJAmNHm"
      }
    },
    {
      "cell_type": "code",
      "source": [
        "# Dataset Info\n",
        "df.info"
      ],
      "metadata": {
        "id": "e9hRXRi6meOf",
        "colab": {
          "base_uri": "https://localhost:8080/"
        },
        "outputId": "ab7a3716-4ef2-4344-e43a-1f21f155ffaf"
      },
      "execution_count": null,
      "outputs": [
        {
          "output_type": "execute_result",
          "data": {
            "text/plain": [
              "<bound method DataFrame.info of      State  Account length  Area code International plan Voice mail plan  \\\n",
              "0       KS             128        415                 No             Yes   \n",
              "1       OH             107        415                 No             Yes   \n",
              "2       NJ             137        415                 No              No   \n",
              "3       OH              84        408                Yes              No   \n",
              "4       OK              75        415                Yes              No   \n",
              "...    ...             ...        ...                ...             ...   \n",
              "3328    AZ             192        415                 No             Yes   \n",
              "3329    WV              68        415                 No              No   \n",
              "3330    RI              28        510                 No              No   \n",
              "3331    CT             184        510                Yes              No   \n",
              "3332    TN              74        415                 No             Yes   \n",
              "\n",
              "      Number vmail messages  Total day minutes  Total day calls  \\\n",
              "0                        25              265.1              110   \n",
              "1                        26              161.6              123   \n",
              "2                         0              243.4              114   \n",
              "3                         0              299.4               71   \n",
              "4                         0              166.7              113   \n",
              "...                     ...                ...              ...   \n",
              "3328                     36              156.2               77   \n",
              "3329                      0              231.1               57   \n",
              "3330                      0              180.8              109   \n",
              "3331                      0              213.8              105   \n",
              "3332                     25              234.4              113   \n",
              "\n",
              "      Total day charge  Total eve minutes  Total eve calls  Total eve charge  \\\n",
              "0                45.07              197.4               99             16.78   \n",
              "1                27.47              195.5              103             16.62   \n",
              "2                41.38              121.2              110             10.30   \n",
              "3                50.90               61.9               88              5.26   \n",
              "4                28.34              148.3              122             12.61   \n",
              "...                ...                ...              ...               ...   \n",
              "3328             26.55              215.5              126             18.32   \n",
              "3329             39.29              153.4               55             13.04   \n",
              "3330             30.74              288.8               58             24.55   \n",
              "3331             36.35              159.6               84             13.57   \n",
              "3332             39.85              265.9               82             22.60   \n",
              "\n",
              "      Total night minutes  Total night calls  Total night charge  \\\n",
              "0                   244.7                 91               11.01   \n",
              "1                   254.4                103               11.45   \n",
              "2                   162.6                104                7.32   \n",
              "3                   196.9                 89                8.86   \n",
              "4                   186.9                121                8.41   \n",
              "...                   ...                ...                 ...   \n",
              "3328                279.1                 83               12.56   \n",
              "3329                191.3                123                8.61   \n",
              "3330                191.9                 91                8.64   \n",
              "3331                139.2                137                6.26   \n",
              "3332                241.4                 77               10.86   \n",
              "\n",
              "      Total intl minutes  Total intl calls  Total intl charge  \\\n",
              "0                   10.0                 3               2.70   \n",
              "1                   13.7                 3               3.70   \n",
              "2                   12.2                 5               3.29   \n",
              "3                    6.6                 7               1.78   \n",
              "4                   10.1                 3               2.73   \n",
              "...                  ...               ...                ...   \n",
              "3328                 9.9                 6               2.67   \n",
              "3329                 9.6                 4               2.59   \n",
              "3330                14.1                 6               3.81   \n",
              "3331                 5.0                10               1.35   \n",
              "3332                13.7                 4               3.70   \n",
              "\n",
              "      Customer service calls  Churn  \n",
              "0                          1  False  \n",
              "1                          1  False  \n",
              "2                          0  False  \n",
              "3                          2  False  \n",
              "4                          3  False  \n",
              "...                      ...    ...  \n",
              "3328                       2  False  \n",
              "3329                       3  False  \n",
              "3330                       2  False  \n",
              "3331                       2  False  \n",
              "3332                       0  False  \n",
              "\n",
              "[3333 rows x 20 columns]>"
            ]
          },
          "metadata": {},
          "execution_count": 13
        }
      ]
    },
    {
      "cell_type": "markdown",
      "source": [
        "#### Duplicate Values"
      ],
      "metadata": {
        "id": "35m5QtbWiB9F"
      }
    },
    {
      "cell_type": "code",
      "source": [
        "# Dataset Duplicate Value Count\n",
        "\n",
        "len(df[df.duplicated()])"
      ],
      "metadata": {
        "id": "1sLdpKYkmox0",
        "colab": {
          "base_uri": "https://localhost:8080/"
        },
        "outputId": "8ba33d3a-68e0-4773-f28f-89e938e4dad7"
      },
      "execution_count": null,
      "outputs": [
        {
          "output_type": "execute_result",
          "data": {
            "text/plain": [
              "0"
            ]
          },
          "metadata": {},
          "execution_count": 16
        }
      ]
    },
    {
      "cell_type": "markdown",
      "source": [
        "#### Missing Values/Null Values"
      ],
      "metadata": {
        "id": "PoPl-ycgm1ru"
      }
    },
    {
      "cell_type": "code",
      "source": [
        "# Missing Values/Null Values Count\n",
        "\n",
        "print(df.isnull().sum())"
      ],
      "metadata": {
        "id": "GgHWkxvamxVg",
        "colab": {
          "base_uri": "https://localhost:8080/"
        },
        "outputId": "40aed2e6-0827-4d78-bfc2-69a98ed498a3"
      },
      "execution_count": null,
      "outputs": [
        {
          "output_type": "stream",
          "name": "stdout",
          "text": [
            "State                     0\n",
            "Account length            0\n",
            "Area code                 0\n",
            "International plan        0\n",
            "Voice mail plan           0\n",
            "Number vmail messages     0\n",
            "Total day minutes         0\n",
            "Total day calls           0\n",
            "Total day charge          0\n",
            "Total eve minutes         0\n",
            "Total eve calls           0\n",
            "Total eve charge          0\n",
            "Total night minutes       0\n",
            "Total night calls         0\n",
            "Total night charge        0\n",
            "Total intl minutes        0\n",
            "Total intl calls          0\n",
            "Total intl charge         0\n",
            "Customer service calls    0\n",
            "Churn                     0\n",
            "dtype: int64\n"
          ]
        }
      ]
    },
    {
      "cell_type": "code",
      "source": [
        "# Visualizing the missing values\n",
        "\n",
        "sns.heatmap(df.isnull(), cbar=False)"
      ],
      "metadata": {
        "id": "3q5wnI3om9sJ",
        "colab": {
          "base_uri": "https://localhost:8080/",
          "height": 401
        },
        "outputId": "bbc33af3-9371-4673-a40d-c09242073997"
      },
      "execution_count": null,
      "outputs": [
        {
          "output_type": "execute_result",
          "data": {
            "text/plain": [
              "<matplotlib.axes._subplots.AxesSubplot at 0x7f47661debb0>"
            ]
          },
          "metadata": {},
          "execution_count": 5
        },
        {
          "output_type": "display_data",
          "data": {
            "text/plain": [
              "<Figure size 432x288 with 1 Axes>"
            ],
            "image/png": "[encoded data removed]"
          },
          "metadata": {
            "needs_background": "light"
          }
        }
      ]
    },
    {
      "cell_type": "markdown",
      "source": [
        "Inference : \n",
        "\n",
        "No NULL values are found in the cleaned Dataset"
      ],
      "metadata": {
        "id": "GL51GAaW_I83"
      }
    },
    {
      "cell_type": "markdown",
      "source": [
        "### What did you know about your dataset?"
      ],
      "metadata": {
        "id": "H0kj-8xxnORC"
      }
    },
    {
      "cell_type": "markdown",
      "source": [
        "The dataset provided is from \"Orange S.A\", a French Multinational Telecommunication Company.\n",
        "\n",
        "The intention of this analysis is to use the provided data to understand the reason behind customer churn to better retain existing customers.\n",
        "\n",
        "The dataset consists of 3333 rows and 20 Columns.\n",
        "\n",
        "There are no NULL values or Duplicate Entries in the Dataset."
      ],
      "metadata": {
        "id": "gfoNAAC-nUe_"
      }
    },
    {
      "cell_type": "markdown",
      "source": [
        "## ***2. Understanding Your Variables***"
      ],
      "metadata": {
        "id": "nA9Y7ga8ng1Z"
      }
    },
    {
      "cell_type": "code",
      "source": [
        "# Dataset Columns\n",
        "\n",
        "df.columns"
      ],
      "metadata": {
        "id": "j7xfkqrt5Ag5",
        "colab": {
          "base_uri": "https://localhost:8080/"
        },
        "outputId": "1039a286-1dc6-4854-8884-b85e47961f95"
      },
      "execution_count": null,
      "outputs": [
        {
          "output_type": "execute_result",
          "data": {
            "text/plain": [
              "Index(['State', 'Account length', 'Area code', 'International plan',\n",
              "       'Voice mail plan', 'Number vmail messages', 'Total day minutes',\n",
              "       'Total day calls', 'Total day charge', 'Total eve minutes',\n",
              "       'Total eve calls', 'Total eve charge', 'Total night minutes',\n",
              "       'Total night calls', 'Total night charge', 'Total intl minutes',\n",
              "       'Total intl calls', 'Total intl charge', 'Customer service calls',\n",
              "       'Churn'],\n",
              "      dtype='object')"
            ]
          },
          "metadata": {},
          "execution_count": 23
        }
      ]
    },
    {
      "cell_type": "code",
      "source": [
        "# Dataset Describe\n",
        "df.describe"
      ],
      "metadata": {
        "id": "DnOaZdaE5Q5t",
        "colab": {
          "base_uri": "https://localhost:8080/"
        },
        "outputId": "93433393-5512-4d8c-84b1-54fee98da70b"
      },
      "execution_count": null,
      "outputs": [
        {
          "output_type": "execute_result",
          "data": {
            "text/plain": [
              "<bound method NDFrame.describe of      State  Account length  Area code International plan Voice mail plan  \\\n",
              "0       KS             128        415                 No             Yes   \n",
              "1       OH             107        415                 No             Yes   \n",
              "2       NJ             137        415                 No              No   \n",
              "3       OH              84        408                Yes              No   \n",
              "4       OK              75        415                Yes              No   \n",
              "...    ...             ...        ...                ...             ...   \n",
              "3328    AZ             192        415                 No             Yes   \n",
              "3329    WV              68        415                 No              No   \n",
              "3330    RI              28        510                 No              No   \n",
              "3331    CT             184        510                Yes              No   \n",
              "3332    TN              74        415                 No             Yes   \n",
              "\n",
              "      Number vmail messages  Total day minutes  Total day calls  \\\n",
              "0                        25              265.1              110   \n",
              "1                        26              161.6              123   \n",
              "2                         0              243.4              114   \n",
              "3                         0              299.4               71   \n",
              "4                         0              166.7              113   \n",
              "...                     ...                ...              ...   \n",
              "3328                     36              156.2               77   \n",
              "3329                      0              231.1               57   \n",
              "3330                      0              180.8              109   \n",
              "3331                      0              213.8              105   \n",
              "3332                     25              234.4              113   \n",
              "\n",
              "      Total day charge  Total eve minutes  Total eve calls  Total eve charge  \\\n",
              "0                45.07              197.4               99             16.78   \n",
              "1                27.47              195.5              103             16.62   \n",
              "2                41.38              121.2              110             10.30   \n",
              "3                50.90               61.9               88              5.26   \n",
              "4                28.34              148.3              122             12.61   \n",
              "...                ...                ...              ...               ...   \n",
              "3328             26.55              215.5              126             18.32   \n",
              "3329             39.29              153.4               55             13.04   \n",
              "3330             30.74              288.8               58             24.55   \n",
              "3331             36.35              159.6               84             13.57   \n",
              "3332             39.85              265.9               82             22.60   \n",
              "\n",
              "      Total night minutes  Total night calls  Total night charge  \\\n",
              "0                   244.7                 91               11.01   \n",
              "1                   254.4                103               11.45   \n",
              "2                   162.6                104                7.32   \n",
              "3                   196.9                 89                8.86   \n",
              "4                   186.9                121                8.41   \n",
              "...                   ...                ...                 ...   \n",
              "3328                279.1                 83               12.56   \n",
              "3329                191.3                123                8.61   \n",
              "3330                191.9                 91                8.64   \n",
              "3331                139.2                137                6.26   \n",
              "3332                241.4                 77               10.86   \n",
              "\n",
              "      Total intl minutes  Total intl calls  Total intl charge  \\\n",
              "0                   10.0                 3               2.70   \n",
              "1                   13.7                 3               3.70   \n",
              "2                   12.2                 5               3.29   \n",
              "3                    6.6                 7               1.78   \n",
              "4                   10.1                 3               2.73   \n",
              "...                  ...               ...                ...   \n",
              "3328                 9.9                 6               2.67   \n",
              "3329                 9.6                 4               2.59   \n",
              "3330                14.1                 6               3.81   \n",
              "3331                 5.0                10               1.35   \n",
              "3332                13.7                 4               3.70   \n",
              "\n",
              "      Customer service calls  Churn  \n",
              "0                          1  False  \n",
              "1                          1  False  \n",
              "2                          0  False  \n",
              "3                          2  False  \n",
              "4                          3  False  \n",
              "...                      ...    ...  \n",
              "3328                       2  False  \n",
              "3329                       3  False  \n",
              "3330                       2  False  \n",
              "3331                       2  False  \n",
              "3332                       0  False  \n",
              "\n",
              "[3333 rows x 20 columns]>"
            ]
          },
          "metadata": {},
          "execution_count": 24
        }
      ]
    },
    {
      "cell_type": "markdown",
      "source": [
        "### Variables Description "
      ],
      "metadata": {
        "id": "PBTbrJXOngz2"
      }
    },
    {
      "cell_type": "markdown",
      "source": [
        "* **State                :** Acronym of states\n",
        "\n",
        "* **Account Length       :** Duration of account (active)\n",
        "\n",
        "* **Area Code            :** Unique codes for each area \n",
        "\n",
        "* **lntl Plan            :** Customer opted for International Plan? ( yes/no )\n",
        "\n",
        "* **VMail Plan           :** Customer opted for voice Mail? ( yes/no )\n",
        "\n",
        "* **VMail Message        :** No. of voice-mail \n",
        "\n",
        "* **Day Mins             :** Minutes utilised during DAY\n",
        "\n",
        "* **Day calls**         : No. of calls during DAY\n",
        "\n",
        "* **Day Charge**         : Total DAY charge\n",
        "\n",
        "* **Eve Mins**          : Minutes utilised during EVENING\n",
        "\n",
        "* **Eve Calls**          : No. of calls during EVENING\n",
        "\n",
        "* **Eve Charge**         : Total EVENING charge\n",
        "\n",
        "* **Night Mins**         : Minutes utilised during NIGHT\n",
        "\n",
        "* **Night Calls**        : No. of calls during NIGHT\n",
        "\n",
        "* **Night Charge**      : Total NIGHT charge\n",
        "\n",
        "* **Intl Mins**         : Total International minutes Utilised\n",
        "\n",
        "* **Intl Calls**         : Total International calls made\n",
        "\n",
        "* **Intl Charge**        : Total International charge\n",
        "\n",
        "* **CustServ calls**    : Number of customer service calls made\n",
        "\n",
        "* **Churn**             : Customer churn (True=1, False=0)"
      ],
      "metadata": {
        "id": "aJV4KIxSnxay"
      }
    },
    {
      "cell_type": "markdown",
      "source": [
        "### Check Unique Values for each variable."
      ],
      "metadata": {
        "id": "u3PMJOP6ngxN"
      }
    },
    {
      "cell_type": "code",
      "source": [
        "# Check Unique Values for each variable.\n",
        "\n",
        "for i in df.columns.tolist():\n",
        "  print(\"Unique values in \",i,\": \",df[i].nunique())"
      ],
      "metadata": {
        "id": "zms12Yq5n-jE",
        "colab": {
          "base_uri": "https://localhost:8080/"
        },
        "outputId": "ff85ba11-0c9f-4ef2-f287-e9d72c4cd695"
      },
      "execution_count": null,
      "outputs": [
        {
          "output_type": "stream",
          "name": "stdout",
          "text": [
            "Unique values in  State :  51\n",
            "Unique values in  Account length :  212\n",
            "Unique values in  Area code :  3\n",
            "Unique values in  International plan :  2\n",
            "Unique values in  Voice mail plan :  2\n",
            "Unique values in  Number vmail messages :  46\n",
            "Unique values in  Total day minutes :  1667\n",
            "Unique values in  Total day calls :  119\n",
            "Unique values in  Total day charge :  1667\n",
            "Unique values in  Total eve minutes :  1611\n",
            "Unique values in  Total eve calls :  123\n",
            "Unique values in  Total eve charge :  1440\n",
            "Unique values in  Total night minutes :  1591\n",
            "Unique values in  Total night calls :  120\n",
            "Unique values in  Total night charge :  933\n",
            "Unique values in  Total intl minutes :  162\n",
            "Unique values in  Total intl calls :  21\n",
            "Unique values in  Total intl charge :  162\n",
            "Unique values in  Customer service calls :  10\n",
            "Unique values in  Churn :  2\n"
          ]
        }
      ]
    },
    {
      "cell_type": "markdown",
      "source": [
        "## 3. ***Data Wrangling***"
      ],
      "metadata": {
        "id": "dauF4eBmngu3"
      }
    },
    {
      "cell_type": "markdown",
      "source": [
        "### Data Wrangling Code"
      ],
      "metadata": {
        "id": "bKJF3rekwFvQ"
      }
    },
    {
      "cell_type": "code",
      "source": [
        "# Write your code to make your dataset analysis ready.\n",
        "\n",
        "# copy dataset to another variable to work on it\n",
        "\n",
        "db = df.copy()\n",
        "\n",
        "# convert data type of \"CHURN\" to int64 \n",
        "db['Churn'] = db['Churn'].astype('int64')\n",
        "\n",
        "db['Churn'].value_counts()"
      ],
      "metadata": {
        "id": "wk-9a2fpoLcV",
        "colab": {
          "base_uri": "https://localhost:8080/"
        },
        "outputId": "db51727e-685c-4071-a022-89e9dea7fe38"
      },
      "execution_count": 11,
      "outputs": [
        {
          "output_type": "execute_result",
          "data": {
            "text/plain": [
              "0    2850\n",
              "1     483\n",
              "Name: Churn, dtype: int64"
            ]
          },
          "metadata": {},
          "execution_count": 11
        }
      ]
    },
    {
      "cell_type": "code",
      "source": [
        "# Let us get some data insights\n",
        "\n",
        "db.describe()"
      ],
      "metadata": {
        "colab": {
          "base_uri": "https://localhost:8080/",
          "height": 399
        },
        "id": "dWtrXRiQWlKe",
        "outputId": "9a5df282-3e63-4e50-fb85-a3fe738b5caa"
      },
      "execution_count": null,
      "outputs": [
        {
          "output_type": "execute_result",
          "data": {
            "text/plain": [
              "       Account length    Area code  Number vmail messages  Total day minutes  \\\n",
              "count     3333.000000  3333.000000            3333.000000        3333.000000   \n",
              "mean       101.064806   437.182418               8.099010         179.775098   \n",
              "std         39.822106    42.371290              13.688365          54.467389   \n",
              "min          1.000000   408.000000               0.000000           0.000000   \n",
              "25%         74.000000   408.000000               0.000000         143.700000   \n",
              "50%        101.000000   415.000000               0.000000         179.400000   \n",
              "75%        127.000000   510.000000              20.000000         216.400000   \n",
              "max        243.000000   510.000000              51.000000         350.800000   \n",
              "\n",
              "       Total day calls  Total day charge  Total eve minutes  Total eve calls  \\\n",
              "count      3333.000000       3333.000000        3333.000000      3333.000000   \n",
              "mean        100.435644         30.562307         200.980348       100.114311   \n",
              "std          20.069084          9.259435          50.713844        19.922625   \n",
              "min           0.000000          0.000000           0.000000         0.000000   \n",
              "25%          87.000000         24.430000         166.600000        87.000000   \n",
              "50%         101.000000         30.500000         201.400000       100.000000   \n",
              "75%         114.000000         36.790000         235.300000       114.000000   \n",
              "max         165.000000         59.640000         363.700000       170.000000   \n",
              "\n",
              "       Total eve charge  Total night minutes  Total night calls  \\\n",
              "count       3333.000000          3333.000000        3333.000000   \n",
              "mean          17.083540           200.872037         100.107711   \n",
              "std            4.310668            50.573847          19.568609   \n",
              "min            0.000000            23.200000          33.000000   \n",
              "25%           14.160000           167.000000          87.000000   \n",
              "50%           17.120000           201.200000         100.000000   \n",
              "75%           20.000000           235.300000         113.000000   \n",
              "max           30.910000           395.000000         175.000000   \n",
              "\n",
              "       Total night charge  Total intl minutes  Total intl calls  \\\n",
              "count         3333.000000         3333.000000       3333.000000   \n",
              "mean             9.039325           10.237294          4.479448   \n",
              "std              2.275873            2.791840          2.461214   \n",
              "min              1.040000            0.000000          0.000000   \n",
              "25%              7.520000            8.500000          3.000000   \n",
              "50%              9.050000           10.300000          4.000000   \n",
              "75%             10.590000           12.100000          6.000000   \n",
              "max             17.770000           20.000000         20.000000   \n",
              "\n",
              "       Total intl charge  Customer service calls        Churn  \n",
              "count        3333.000000             3333.000000  3333.000000  \n",
              "mean            2.764581                1.562856     0.144914  \n",
              "std             0.753773                1.315491     0.352067  \n",
              "min             0.000000                0.000000     0.000000  \n",
              "25%             2.300000                1.000000     0.000000  \n",
              "50%             2.780000                1.000000     0.000000  \n",
              "75%             3.270000                2.000000     0.000000  \n",
              "max             5.400000                9.000000     1.000000  "
            ],
            "text/html": [
              "\n",
              "  <div id=\"df-3ca186c5-3c7e-4f0d-9f5d-e2c390c98104\">\n",
              "    <div class=\"colab-df-container\">\n",
              "      <div>\n",
              "<style scoped>\n",
              "    .dataframe tbody tr th:only-of-type {\n",
              "        vertical-align: middle;\n",
              "    }\n",
              "\n",
              "    .dataframe tbody tr th {\n",
              "        vertical-align: top;\n",
              "    }\n",
              "\n",
              "    .dataframe thead th {\n",
              "        text-align: right;\n",
              "    }\n",
              "</style>\n",
              "<table border=\"1\" class=\"dataframe\">\n",
              "  <thead>\n",
              "    <tr style=\"text-align: right;\">\n",
              "      <th></th>\n",
              "      <th>Account length</th>\n",
              "      <th>Area code</th>\n",
              "      <th>Number vmail messages</th>\n",
              "      <th>Total day minutes</th>\n",
              "      <th>Total day calls</th>\n",
              "      <th>Total day charge</th>\n",
              "      <th>Total eve minutes</th>\n",
              "      <th>Total eve calls</th>\n",
              "      <th>Total eve charge</th>\n",
              "      <th>Total night minutes</th>\n",
              "      <th>Total night calls</th>\n",
              "      <th>Total night charge</th>\n",
              "      <th>Total intl minutes</th>\n",
              "      <th>Total intl calls</th>\n",
              "      <th>Total intl charge</th>\n",
              "      <th>Customer service calls</th>\n",
              "      <th>Churn</th>\n",
              "    </tr>\n",
              "  </thead>\n",
              "  <tbody>\n",
              "    <tr>\n",
              "      <th>count</th>\n",
              "      <td>3333.000000</td>\n",
              "      <td>3333.000000</td>\n",
              "      <td>3333.000000</td>\n",
              "      <td>3333.000000</td>\n",
              "      <td>3333.000000</td>\n",
              "      <td>3333.000000</td>\n",
              "      <td>3333.000000</td>\n",
              "      <td>3333.000000</td>\n",
              "      <td>3333.000000</td>\n",
              "      <td>3333.000000</td>\n",
              "      <td>3333.000000</td>\n",
              "      <td>3333.000000</td>\n",
              "      <td>3333.000000</td>\n",
              "      <td>3333.000000</td>\n",
              "      <td>3333.000000</td>\n",
              "      <td>3333.000000</td>\n",
              "      <td>3333.000000</td>\n",
              "    </tr>\n",
              "    <tr>\n",
              "      <th>mean</th>\n",
              "      <td>101.064806</td>\n",
              "      <td>437.182418</td>\n",
              "      <td>8.099010</td>\n",
              "      <td>179.775098</td>\n",
              "      <td>100.435644</td>\n",
              "      <td>30.562307</td>\n",
              "      <td>200.980348</td>\n",
              "      <td>100.114311</td>\n",
              "      <td>17.083540</td>\n",
              "      <td>200.872037</td>\n",
              "      <td>100.107711</td>\n",
              "      <td>9.039325</td>\n",
              "      <td>10.237294</td>\n",
              "      <td>4.479448</td>\n",
              "      <td>2.764581</td>\n",
              "      <td>1.562856</td>\n",
              "      <td>0.144914</td>\n",
              "    </tr>\n",
              "    <tr>\n",
              "      <th>std</th>\n",
              "      <td>39.822106</td>\n",
              "      <td>42.371290</td>\n",
              "      <td>13.688365</td>\n",
              "      <td>54.467389</td>\n",
              "      <td>20.069084</td>\n",
              "      <td>9.259435</td>\n",
              "      <td>50.713844</td>\n",
              "      <td>19.922625</td>\n",
              "      <td>4.310668</td>\n",
              "      <td>50.573847</td>\n",
              "      <td>19.568609</td>\n",
              "      <td>2.275873</td>\n",
              "      <td>2.791840</td>\n",
              "      <td>2.461214</td>\n",
              "      <td>0.753773</td>\n",
              "      <td>1.315491</td>\n",
              "      <td>0.352067</td>\n",
              "    </tr>\n",
              "    <tr>\n",
              "      <th>min</th>\n",
              "      <td>1.000000</td>\n",
              "      <td>408.000000</td>\n",
              "      <td>0.000000</td>\n",
              "      <td>0.000000</td>\n",
              "      <td>0.000000</td>\n",
              "      <td>0.000000</td>\n",
              "      <td>0.000000</td>\n",
              "      <td>0.000000</td>\n",
              "      <td>0.000000</td>\n",
              "      <td>23.200000</td>\n",
              "      <td>33.000000</td>\n",
              "      <td>1.040000</td>\n",
              "      <td>0.000000</td>\n",
              "      <td>0.000000</td>\n",
              "      <td>0.000000</td>\n",
              "      <td>0.000000</td>\n",
              "      <td>0.000000</td>\n",
              "    </tr>\n",
              "    <tr>\n",
              "      <th>25%</th>\n",
              "      <td>74.000000</td>\n",
              "      <td>408.000000</td>\n",
              "      <td>0.000000</td>\n",
              "      <td>143.700000</td>\n",
              "      <td>87.000000</td>\n",
              "      <td>24.430000</td>\n",
              "      <td>166.600000</td>\n",
              "      <td>87.000000</td>\n",
              "      <td>14.160000</td>\n",
              "      <td>167.000000</td>\n",
              "      <td>87.000000</td>\n",
              "      <td>7.520000</td>\n",
              "      <td>8.500000</td>\n",
              "      <td>3.000000</td>\n",
              "      <td>2.300000</td>\n",
              "      <td>1.000000</td>\n",
              "      <td>0.000000</td>\n",
              "    </tr>\n",
              "    <tr>\n",
              "      <th>50%</th>\n",
              "      <td>101.000000</td>\n",
              "      <td>415.000000</td>\n",
              "      <td>0.000000</td>\n",
              "      <td>179.400000</td>\n",
              "      <td>101.000000</td>\n",
              "      <td>30.500000</td>\n",
              "      <td>201.400000</td>\n",
              "      <td>100.000000</td>\n",
              "      <td>17.120000</td>\n",
              "      <td>201.200000</td>\n",
              "      <td>100.000000</td>\n",
              "      <td>9.050000</td>\n",
              "      <td>10.300000</td>\n",
              "      <td>4.000000</td>\n",
              "      <td>2.780000</td>\n",
              "      <td>1.000000</td>\n",
              "      <td>0.000000</td>\n",
              "    </tr>\n",
              "    <tr>\n",
              "      <th>75%</th>\n",
              "      <td>127.000000</td>\n",
              "      <td>510.000000</td>\n",
              "      <td>20.000000</td>\n",
              "      <td>216.400000</td>\n",
              "      <td>114.000000</td>\n",
              "      <td>36.790000</td>\n",
              "      <td>235.300000</td>\n",
              "      <td>114.000000</td>\n",
              "      <td>20.000000</td>\n",
              "      <td>235.300000</td>\n",
              "      <td>113.000000</td>\n",
              "      <td>10.590000</td>\n",
              "      <td>12.100000</td>\n",
              "      <td>6.000000</td>\n",
              "      <td>3.270000</td>\n",
              "      <td>2.000000</td>\n",
              "      <td>0.000000</td>\n",
              "    </tr>\n",
              "    <tr>\n",
              "      <th>max</th>\n",
              "      <td>243.000000</td>\n",
              "      <td>510.000000</td>\n",
              "      <td>51.000000</td>\n",
              "      <td>350.800000</td>\n",
              "      <td>165.000000</td>\n",
              "      <td>59.640000</td>\n",
              "      <td>363.700000</td>\n",
              "      <td>170.000000</td>\n",
              "      <td>30.910000</td>\n",
              "      <td>395.000000</td>\n",
              "      <td>175.000000</td>\n",
              "      <td>17.770000</td>\n",
              "      <td>20.000000</td>\n",
              "      <td>20.000000</td>\n",
              "      <td>5.400000</td>\n",
              "      <td>9.000000</td>\n",
              "      <td>1.000000</td>\n",
              "    </tr>\n",
              "  </tbody>\n",
              "</table>\n",
              "</div>\n",
              "      <button class=\"colab-df-convert\" onclick=\"convertToInteractive('df-3ca186c5-3c7e-4f0d-9f5d-e2c390c98104')\"\n",
              "              title=\"Convert this dataframe to an interactive table.\"\n",
              "              style=\"display:none;\">\n",
              "        \n",
              "  <svg xmlns=\"http://www.w3.org/2000/svg\" height=\"24px\"viewBox=\"0 0 24 24\"\n",
              "       width=\"24px\">\n",
              "    <path d=\"M0 0h24v24H0V0z\" fill=\"none\"/>\n",
              "    <path d=\"M18.56 5.44l.94 2.06.94-2.06 2.06-.94-2.06-.94-.94-2.06-.94 2.06-2.06.94zm-11 1L8.5 8.5l.94-2.06 2.06-.94-2.06-.94L8.5 2.5l-.94 2.06-2.06.94zm10 10l.94 2.06.94-2.06 2.06-.94-2.06-.94-.94-2.06-.94 2.06-2.06.94z\"/><path d=\"M17.41 7.96l-1.37-1.37c-.4-.4-.92-.59-1.43-.59-.52 0-1.04.2-1.43.59L10.3 9.45l-7.72 7.72c-.78.78-.78 2.05 0 2.83L4 21.41c.39.39.9.59 1.41.59.51 0 1.02-.2 1.41-.59l7.78-7.78 2.81-2.81c.8-.78.8-2.07 0-2.86zM5.41 20L4 18.59l7.72-7.72 1.47 1.35L5.41 20z\"/>\n",
              "  </svg>\n",
              "      </button>\n",
              "      \n",
              "  <style>\n",
              "    .colab-df-container {\n",
              "      display:flex;\n",
              "      flex-wrap:wrap;\n",
              "      gap: 12px;\n",
              "    }\n",
              "\n",
              "    .colab-df-convert {\n",
              "      background-color: #E8F0FE;\n",
              "      border: none;\n",
              "      border-radius: 50%;\n",
              "      cursor: pointer;\n",
              "      display: none;\n",
              "      fill: #1967D2;\n",
              "      height: 32px;\n",
              "      padding: 0 0 0 0;\n",
              "      width: 32px;\n",
              "    }\n",
              "\n",
              "    .colab-df-convert:hover {\n",
              "      background-color: #E2EBFA;\n",
              "      box-shadow: 0px 1px 2px rgba(60, 64, 67, 0.3), 0px 1px 3px 1px rgba(60, 64, 67, 0.15);\n",
              "      fill: #174EA6;\n",
              "    }\n",
              "\n",
              "    [theme=dark] .colab-df-convert {\n",
              "      background-color: #3B4455;\n",
              "      fill: #D2E3FC;\n",
              "    }\n",
              "\n",
              "    [theme=dark] .colab-df-convert:hover {\n",
              "      background-color: #434B5C;\n",
              "      box-shadow: 0px 1px 3px 1px rgba(0, 0, 0, 0.15);\n",
              "      filter: drop-shadow(0px 1px 2px rgba(0, 0, 0, 0.3));\n",
              "      fill: #FFFFFF;\n",
              "    }\n",
              "  </style>\n",
              "\n",
              "      <script>\n",
              "        const buttonEl =\n",
              "          document.querySelector('#df-3ca186c5-3c7e-4f0d-9f5d-e2c390c98104 button.colab-df-convert');\n",
              "        buttonEl.style.display =\n",
              "          google.colab.kernel.accessAllowed ? 'block' : 'none';\n",
              "\n",
              "        async function convertToInteractive(key) {\n",
              "          const element = document.querySelector('#df-3ca186c5-3c7e-4f0d-9f5d-e2c390c98104');\n",
              "          const dataTable =\n",
              "            await google.colab.kernel.invokeFunction('convertToInteractive',\n",
              "                                                     [key], {});\n",
              "          if (!dataTable) return;\n",
              "\n",
              "          const docLinkHtml = 'Like what you see? Visit the ' +\n",
              "            '<a target=\"_blank\" href=https://colab.research.google.com/notebooks/data_table.ipynb>data table notebook</a>'\n",
              "            + ' to learn more about interactive tables.';\n",
              "          element.innerHTML = '';\n",
              "          dataTable['output_type'] = 'display_data';\n",
              "          await google.colab.output.renderOutput(dataTable, element);\n",
              "          const docLink = document.createElement('div');\n",
              "          docLink.innerHTML = docLinkHtml;\n",
              "          element.appendChild(docLink);\n",
              "        }\n",
              "      </script>\n",
              "    </div>\n",
              "  </div>\n",
              "  "
            ]
          },
          "metadata": {},
          "execution_count": 15
        }
      ]
    },
    {
      "cell_type": "code",
      "source": [
        "# Describe module for binary variables as these columns are not included in the above .describe()\n",
        "\n",
        "db.describe(include= ['bool','object'])"
      ],
      "metadata": {
        "colab": {
          "base_uri": "https://localhost:8080/",
          "height": 175
        },
        "id": "l8cqzPYGWylv",
        "outputId": "e68916a6-2e37-411a-bc09-92d3c1fb846e"
      },
      "execution_count": null,
      "outputs": [
        {
          "output_type": "execute_result",
          "data": {
            "text/plain": [
              "       State International plan Voice mail plan\n",
              "count   3333               3333            3333\n",
              "unique    51                  2               2\n",
              "top       WV                 No              No\n",
              "freq     106               3010            2411"
            ],
            "text/html": [
              "\n",
              "  <div id=\"df-88a62657-3dc4-43e5-b2f3-729461fafb05\">\n",
              "    <div class=\"colab-df-container\">\n",
              "      <div>\n",
              "<style scoped>\n",
              "    .dataframe tbody tr th:only-of-type {\n",
              "        vertical-align: middle;\n",
              "    }\n",
              "\n",
              "    .dataframe tbody tr th {\n",
              "        vertical-align: top;\n",
              "    }\n",
              "\n",
              "    .dataframe thead th {\n",
              "        text-align: right;\n",
              "    }\n",
              "</style>\n",
              "<table border=\"1\" class=\"dataframe\">\n",
              "  <thead>\n",
              "    <tr style=\"text-align: right;\">\n",
              "      <th></th>\n",
              "      <th>State</th>\n",
              "      <th>International plan</th>\n",
              "      <th>Voice mail plan</th>\n",
              "    </tr>\n",
              "  </thead>\n",
              "  <tbody>\n",
              "    <tr>\n",
              "      <th>count</th>\n",
              "      <td>3333</td>\n",
              "      <td>3333</td>\n",
              "      <td>3333</td>\n",
              "    </tr>\n",
              "    <tr>\n",
              "      <th>unique</th>\n",
              "      <td>51</td>\n",
              "      <td>2</td>\n",
              "      <td>2</td>\n",
              "    </tr>\n",
              "    <tr>\n",
              "      <th>top</th>\n",
              "      <td>WV</td>\n",
              "      <td>No</td>\n",
              "      <td>No</td>\n",
              "    </tr>\n",
              "    <tr>\n",
              "      <th>freq</th>\n",
              "      <td>106</td>\n",
              "      <td>3010</td>\n",
              "      <td>2411</td>\n",
              "    </tr>\n",
              "  </tbody>\n",
              "</table>\n",
              "</div>\n",
              "      <button class=\"colab-df-convert\" onclick=\"convertToInteractive('df-88a62657-3dc4-43e5-b2f3-729461fafb05')\"\n",
              "              title=\"Convert this dataframe to an interactive table.\"\n",
              "              style=\"display:none;\">\n",
              "        \n",
              "  <svg xmlns=\"http://www.w3.org/2000/svg\" height=\"24px\"viewBox=\"0 0 24 24\"\n",
              "       width=\"24px\">\n",
              "    <path d=\"M0 0h24v24H0V0z\" fill=\"none\"/>\n",
              "    <path d=\"M18.56 5.44l.94 2.06.94-2.06 2.06-.94-2.06-.94-.94-2.06-.94 2.06-2.06.94zm-11 1L8.5 8.5l.94-2.06 2.06-.94-2.06-.94L8.5 2.5l-.94 2.06-2.06.94zm10 10l.94 2.06.94-2.06 2.06-.94-2.06-.94-.94-2.06-.94 2.06-2.06.94z\"/><path d=\"M17.41 7.96l-1.37-1.37c-.4-.4-.92-.59-1.43-.59-.52 0-1.04.2-1.43.59L10.3 9.45l-7.72 7.72c-.78.78-.78 2.05 0 2.83L4 21.41c.39.39.9.59 1.41.59.51 0 1.02-.2 1.41-.59l7.78-7.78 2.81-2.81c.8-.78.8-2.07 0-2.86zM5.41 20L4 18.59l7.72-7.72 1.47 1.35L5.41 20z\"/>\n",
              "  </svg>\n",
              "      </button>\n",
              "      \n",
              "  <style>\n",
              "    .colab-df-container {\n",
              "      display:flex;\n",
              "      flex-wrap:wrap;\n",
              "      gap: 12px;\n",
              "    }\n",
              "\n",
              "    .colab-df-convert {\n",
              "      background-color: #E8F0FE;\n",
              "      border: none;\n",
              "      border-radius: 50%;\n",
              "      cursor: pointer;\n",
              "      display: none;\n",
              "      fill: #1967D2;\n",
              "      height: 32px;\n",
              "      padding: 0 0 0 0;\n",
              "      width: 32px;\n",
              "    }\n",
              "\n",
              "    .colab-df-convert:hover {\n",
              "      background-color: #E2EBFA;\n",
              "      box-shadow: 0px 1px 2px rgba(60, 64, 67, 0.3), 0px 1px 3px 1px rgba(60, 64, 67, 0.15);\n",
              "      fill: #174EA6;\n",
              "    }\n",
              "\n",
              "    [theme=dark] .colab-df-convert {\n",
              "      background-color: #3B4455;\n",
              "      fill: #D2E3FC;\n",
              "    }\n",
              "\n",
              "    [theme=dark] .colab-df-convert:hover {\n",
              "      background-color: #434B5C;\n",
              "      box-shadow: 0px 1px 3px 1px rgba(0, 0, 0, 0.15);\n",
              "      filter: drop-shadow(0px 1px 2px rgba(0, 0, 0, 0.3));\n",
              "      fill: #FFFFFF;\n",
              "    }\n",
              "  </style>\n",
              "\n",
              "      <script>\n",
              "        const buttonEl =\n",
              "          document.querySelector('#df-88a62657-3dc4-43e5-b2f3-729461fafb05 button.colab-df-convert');\n",
              "        buttonEl.style.display =\n",
              "          google.colab.kernel.accessAllowed ? 'block' : 'none';\n",
              "\n",
              "        async function convertToInteractive(key) {\n",
              "          const element = document.querySelector('#df-88a62657-3dc4-43e5-b2f3-729461fafb05');\n",
              "          const dataTable =\n",
              "            await google.colab.kernel.invokeFunction('convertToInteractive',\n",
              "                                                     [key], {});\n",
              "          if (!dataTable) return;\n",
              "\n",
              "          const docLinkHtml = 'Like what you see? Visit the ' +\n",
              "            '<a target=\"_blank\" href=https://colab.research.google.com/notebooks/data_table.ipynb>data table notebook</a>'\n",
              "            + ' to learn more about interactive tables.';\n",
              "          element.innerHTML = '';\n",
              "          dataTable['output_type'] = 'display_data';\n",
              "          await google.colab.output.renderOutput(dataTable, element);\n",
              "          const docLink = document.createElement('div');\n",
              "          docLink.innerHTML = docLinkHtml;\n",
              "          element.appendChild(docLink);\n",
              "        }\n",
              "      </script>\n",
              "    </div>\n",
              "  </div>\n",
              "  "
            ]
          },
          "metadata": {},
          "execution_count": 17
        }
      ]
    },
    {
      "cell_type": "code",
      "source": [
        "db.sort_values(by=['Churn','Total day charge'],ascending=[False,False]).head()"
      ],
      "metadata": {
        "colab": {
          "base_uri": "https://localhost:8080/",
          "height": 285
        },
        "id": "ux-Ng-xYXQDd",
        "outputId": "d971195e-2c17-4edf-874d-4a1709b29bcb"
      },
      "execution_count": null,
      "outputs": [
        {
          "output_type": "execute_result",
          "data": {
            "text/plain": [
              "     State  Account length  Area code International plan Voice mail plan  \\\n",
              "365     CO             154        415                 No              No   \n",
              "985     NY              64        415                Yes              No   \n",
              "2594    OH             115        510                Yes              No   \n",
              "156     OH              83        415                 No              No   \n",
              "605     MO             112        415                 No              No   \n",
              "\n",
              "      Number vmail messages  Total day minutes  Total day calls  \\\n",
              "365                       0              350.8               75   \n",
              "985                       0              346.8               55   \n",
              "2594                      0              345.3               81   \n",
              "156                       0              337.4              120   \n",
              "605                       0              335.5               77   \n",
              "\n",
              "      Total day charge  Total eve minutes  Total eve calls  Total eve charge  \\\n",
              "365              59.64              216.5               94             18.40   \n",
              "985              58.96              249.5               79             21.21   \n",
              "2594             58.70              203.4              106             17.29   \n",
              "156              57.36              227.4              116             19.33   \n",
              "605              57.04              212.5              109             18.06   \n",
              "\n",
              "      Total night minutes  Total night calls  Total night charge  \\\n",
              "365                 253.9                100               11.43   \n",
              "985                 275.4                102               12.39   \n",
              "2594                217.5                107                9.79   \n",
              "156                 153.9                114                6.93   \n",
              "605                 265.0                132               11.93   \n",
              "\n",
              "      Total intl minutes  Total intl calls  Total intl charge  \\\n",
              "365                 10.1                 9               2.73   \n",
              "985                 13.3                 9               3.59   \n",
              "2594                11.8                 8               3.19   \n",
              "156                 15.8                 7               4.27   \n",
              "605                 12.7                 8               3.43   \n",
              "\n",
              "      Customer service calls  Churn  \n",
              "365                        1      1  \n",
              "985                        1      1  \n",
              "2594                       1      1  \n",
              "156                        0      1  \n",
              "605                        2      1  "
            ],
            "text/html": [
              "\n",
              "  <div id=\"df-df45e1d6-2b44-4435-86ea-19baa8bfd6d8\">\n",
              "    <div class=\"colab-df-container\">\n",
              "      <div>\n",
              "<style scoped>\n",
              "    .dataframe tbody tr th:only-of-type {\n",
              "        vertical-align: middle;\n",
              "    }\n",
              "\n",
              "    .dataframe tbody tr th {\n",
              "        vertical-align: top;\n",
              "    }\n",
              "\n",
              "    .dataframe thead th {\n",
              "        text-align: right;\n",
              "    }\n",
              "</style>\n",
              "<table border=\"1\" class=\"dataframe\">\n",
              "  <thead>\n",
              "    <tr style=\"text-align: right;\">\n",
              "      <th></th>\n",
              "      <th>State</th>\n",
              "      <th>Account length</th>\n",
              "      <th>Area code</th>\n",
              "      <th>International plan</th>\n",
              "      <th>Voice mail plan</th>\n",
              "      <th>Number vmail messages</th>\n",
              "      <th>Total day minutes</th>\n",
              "      <th>Total day calls</th>\n",
              "      <th>Total day charge</th>\n",
              "      <th>Total eve minutes</th>\n",
              "      <th>Total eve calls</th>\n",
              "      <th>Total eve charge</th>\n",
              "      <th>Total night minutes</th>\n",
              "      <th>Total night calls</th>\n",
              "      <th>Total night charge</th>\n",
              "      <th>Total intl minutes</th>\n",
              "      <th>Total intl calls</th>\n",
              "      <th>Total intl charge</th>\n",
              "      <th>Customer service calls</th>\n",
              "      <th>Churn</th>\n",
              "    </tr>\n",
              "  </thead>\n",
              "  <tbody>\n",
              "    <tr>\n",
              "      <th>365</th>\n",
              "      <td>CO</td>\n",
              "      <td>154</td>\n",
              "      <td>415</td>\n",
              "      <td>No</td>\n",
              "      <td>No</td>\n",
              "      <td>0</td>\n",
              "      <td>350.8</td>\n",
              "      <td>75</td>\n",
              "      <td>59.64</td>\n",
              "      <td>216.5</td>\n",
              "      <td>94</td>\n",
              "      <td>18.40</td>\n",
              "      <td>253.9</td>\n",
              "      <td>100</td>\n",
              "      <td>11.43</td>\n",
              "      <td>10.1</td>\n",
              "      <td>9</td>\n",
              "      <td>2.73</td>\n",
              "      <td>1</td>\n",
              "      <td>1</td>\n",
              "    </tr>\n",
              "    <tr>\n",
              "      <th>985</th>\n",
              "      <td>NY</td>\n",
              "      <td>64</td>\n",
              "      <td>415</td>\n",
              "      <td>Yes</td>\n",
              "      <td>No</td>\n",
              "      <td>0</td>\n",
              "      <td>346.8</td>\n",
              "      <td>55</td>\n",
              "      <td>58.96</td>\n",
              "      <td>249.5</td>\n",
              "      <td>79</td>\n",
              "      <td>21.21</td>\n",
              "      <td>275.4</td>\n",
              "      <td>102</td>\n",
              "      <td>12.39</td>\n",
              "      <td>13.3</td>\n",
              "      <td>9</td>\n",
              "      <td>3.59</td>\n",
              "      <td>1</td>\n",
              "      <td>1</td>\n",
              "    </tr>\n",
              "    <tr>\n",
              "      <th>2594</th>\n",
              "      <td>OH</td>\n",
              "      <td>115</td>\n",
              "      <td>510</td>\n",
              "      <td>Yes</td>\n",
              "      <td>No</td>\n",
              "      <td>0</td>\n",
              "      <td>345.3</td>\n",
              "      <td>81</td>\n",
              "      <td>58.70</td>\n",
              "      <td>203.4</td>\n",
              "      <td>106</td>\n",
              "      <td>17.29</td>\n",
              "      <td>217.5</td>\n",
              "      <td>107</td>\n",
              "      <td>9.79</td>\n",
              "      <td>11.8</td>\n",
              "      <td>8</td>\n",
              "      <td>3.19</td>\n",
              "      <td>1</td>\n",
              "      <td>1</td>\n",
              "    </tr>\n",
              "    <tr>\n",
              "      <th>156</th>\n",
              "      <td>OH</td>\n",
              "      <td>83</td>\n",
              "      <td>415</td>\n",
              "      <td>No</td>\n",
              "      <td>No</td>\n",
              "      <td>0</td>\n",
              "      <td>337.4</td>\n",
              "      <td>120</td>\n",
              "      <td>57.36</td>\n",
              "      <td>227.4</td>\n",
              "      <td>116</td>\n",
              "      <td>19.33</td>\n",
              "      <td>153.9</td>\n",
              "      <td>114</td>\n",
              "      <td>6.93</td>\n",
              "      <td>15.8</td>\n",
              "      <td>7</td>\n",
              "      <td>4.27</td>\n",
              "      <td>0</td>\n",
              "      <td>1</td>\n",
              "    </tr>\n",
              "    <tr>\n",
              "      <th>605</th>\n",
              "      <td>MO</td>\n",
              "      <td>112</td>\n",
              "      <td>415</td>\n",
              "      <td>No</td>\n",
              "      <td>No</td>\n",
              "      <td>0</td>\n",
              "      <td>335.5</td>\n",
              "      <td>77</td>\n",
              "      <td>57.04</td>\n",
              "      <td>212.5</td>\n",
              "      <td>109</td>\n",
              "      <td>18.06</td>\n",
              "      <td>265.0</td>\n",
              "      <td>132</td>\n",
              "      <td>11.93</td>\n",
              "      <td>12.7</td>\n",
              "      <td>8</td>\n",
              "      <td>3.43</td>\n",
              "      <td>2</td>\n",
              "      <td>1</td>\n",
              "    </tr>\n",
              "  </tbody>\n",
              "</table>\n",
              "</div>\n",
              "      <button class=\"colab-df-convert\" onclick=\"convertToInteractive('df-df45e1d6-2b44-4435-86ea-19baa8bfd6d8')\"\n",
              "              title=\"Convert this dataframe to an interactive table.\"\n",
              "              style=\"display:none;\">\n",
              "        \n",
              "  <svg xmlns=\"http://www.w3.org/2000/svg\" height=\"24px\"viewBox=\"0 0 24 24\"\n",
              "       width=\"24px\">\n",
              "    <path d=\"M0 0h24v24H0V0z\" fill=\"none\"/>\n",
              "    <path d=\"M18.56 5.44l.94 2.06.94-2.06 2.06-.94-2.06-.94-.94-2.06-.94 2.06-2.06.94zm-11 1L8.5 8.5l.94-2.06 2.06-.94-2.06-.94L8.5 2.5l-.94 2.06-2.06.94zm10 10l.94 2.06.94-2.06 2.06-.94-2.06-.94-.94-2.06-.94 2.06-2.06.94z\"/><path d=\"M17.41 7.96l-1.37-1.37c-.4-.4-.92-.59-1.43-.59-.52 0-1.04.2-1.43.59L10.3 9.45l-7.72 7.72c-.78.78-.78 2.05 0 2.83L4 21.41c.39.39.9.59 1.41.59.51 0 1.02-.2 1.41-.59l7.78-7.78 2.81-2.81c.8-.78.8-2.07 0-2.86zM5.41 20L4 18.59l7.72-7.72 1.47 1.35L5.41 20z\"/>\n",
              "  </svg>\n",
              "      </button>\n",
              "      \n",
              "  <style>\n",
              "    .colab-df-container {\n",
              "      display:flex;\n",
              "      flex-wrap:wrap;\n",
              "      gap: 12px;\n",
              "    }\n",
              "\n",
              "    .colab-df-convert {\n",
              "      background-color: #E8F0FE;\n",
              "      border: none;\n",
              "      border-radius: 50%;\n",
              "      cursor: pointer;\n",
              "      display: none;\n",
              "      fill: #1967D2;\n",
              "      height: 32px;\n",
              "      padding: 0 0 0 0;\n",
              "      width: 32px;\n",
              "    }\n",
              "\n",
              "    .colab-df-convert:hover {\n",
              "      background-color: #E2EBFA;\n",
              "      box-shadow: 0px 1px 2px rgba(60, 64, 67, 0.3), 0px 1px 3px 1px rgba(60, 64, 67, 0.15);\n",
              "      fill: #174EA6;\n",
              "    }\n",
              "\n",
              "    [theme=dark] .colab-df-convert {\n",
              "      background-color: #3B4455;\n",
              "      fill: #D2E3FC;\n",
              "    }\n",
              "\n",
              "    [theme=dark] .colab-df-convert:hover {\n",
              "      background-color: #434B5C;\n",
              "      box-shadow: 0px 1px 3px 1px rgba(0, 0, 0, 0.15);\n",
              "      filter: drop-shadow(0px 1px 2px rgba(0, 0, 0, 0.3));\n",
              "      fill: #FFFFFF;\n",
              "    }\n",
              "  </style>\n",
              "\n",
              "      <script>\n",
              "        const buttonEl =\n",
              "          document.querySelector('#df-df45e1d6-2b44-4435-86ea-19baa8bfd6d8 button.colab-df-convert');\n",
              "        buttonEl.style.display =\n",
              "          google.colab.kernel.accessAllowed ? 'block' : 'none';\n",
              "\n",
              "        async function convertToInteractive(key) {\n",
              "          const element = document.querySelector('#df-df45e1d6-2b44-4435-86ea-19baa8bfd6d8');\n",
              "          const dataTable =\n",
              "            await google.colab.kernel.invokeFunction('convertToInteractive',\n",
              "                                                     [key], {});\n",
              "          if (!dataTable) return;\n",
              "\n",
              "          const docLinkHtml = 'Like what you see? Visit the ' +\n",
              "            '<a target=\"_blank\" href=https://colab.research.google.com/notebooks/data_table.ipynb>data table notebook</a>'\n",
              "            + ' to learn more about interactive tables.';\n",
              "          element.innerHTML = '';\n",
              "          dataTable['output_type'] = 'display_data';\n",
              "          await google.colab.output.renderOutput(dataTable, element);\n",
              "          const docLink = document.createElement('div');\n",
              "          docLink.innerHTML = docLinkHtml;\n",
              "          element.appendChild(docLink);\n",
              "        }\n",
              "      </script>\n",
              "    </div>\n",
              "  </div>\n",
              "  "
            ]
          },
          "metadata": {},
          "execution_count": 20
        }
      ]
    },
    {
      "cell_type": "code",
      "source": [
        "# Mean values of all variables for Customer churn ONLY\n",
        "db[db['Churn']==1].mean()"
      ],
      "metadata": {
        "colab": {
          "base_uri": "https://localhost:8080/"
        },
        "id": "PVsLgMwkXqrw",
        "outputId": "fc368a50-cabf-4a23-eb71-60ee25ce96dc"
      },
      "execution_count": null,
      "outputs": [
        {
          "output_type": "stream",
          "name": "stderr",
          "text": [
            "<ipython-input-5-f51b87b48a55>:2: FutureWarning: Dropping of nuisance columns in DataFrame reductions (with 'numeric_only=None') is deprecated; in a future version this will raise TypeError.  Select only valid columns before calling the reduction.\n",
            "  db[db['Churn']==1].mean()\n"
          ]
        },
        {
          "output_type": "execute_result",
          "data": {
            "text/plain": [
              "Account length            102.664596\n",
              "Area code                 437.817805\n",
              "Number vmail messages       5.115942\n",
              "Total day minutes         206.914079\n",
              "Total day calls           101.335404\n",
              "Total day charge           35.175921\n",
              "Total eve minutes         212.410145\n",
              "Total eve calls           100.561077\n",
              "Total eve charge           18.054969\n",
              "Total night minutes       205.231677\n",
              "Total night calls         100.399586\n",
              "Total night charge          9.235528\n",
              "Total intl minutes         10.700000\n",
              "Total intl calls            4.163561\n",
              "Total intl charge           2.889545\n",
              "Customer service calls      2.229814\n",
              "Churn                       1.000000\n",
              "dtype: float64"
            ]
          },
          "metadata": {},
          "execution_count": 5
        }
      ]
    },
    {
      "cell_type": "code",
      "source": [
        "# Number of customers who have opted for International plan\n",
        "\n",
        "len(db[db['International plan'] == 'Yes'])"
      ],
      "metadata": {
        "colab": {
          "base_uri": "https://localhost:8080/"
        },
        "id": "cymnhmi8ghT0",
        "outputId": "dd8004be-4cfb-4821-db66-ccf33688d209"
      },
      "execution_count": null,
      "outputs": [
        {
          "output_type": "execute_result",
          "data": {
            "text/plain": [
              "323"
            ]
          },
          "metadata": {},
          "execution_count": 20
        }
      ]
    },
    {
      "cell_type": "code",
      "source": [
        "# Active customers with \"NO international plan\" but making international calls?\n",
        "db[(db['Churn']==0) & (db['International plan']=='No')]['Total intl minutes']"
      ],
      "metadata": {
        "colab": {
          "base_uri": "https://localhost:8080/"
        },
        "id": "tPDzkV-YYL95",
        "outputId": "0b7ea6a3-eea4-40f5-85c6-c51803ab3ba3"
      },
      "execution_count": null,
      "outputs": [
        {
          "output_type": "execute_result",
          "data": {
            "text/plain": [
              "0       10.0\n",
              "1       13.7\n",
              "2       12.2\n",
              "6        7.5\n",
              "8        8.7\n",
              "        ... \n",
              "3327    11.8\n",
              "3328     9.9\n",
              "3329     9.6\n",
              "3330    14.1\n",
              "3332    13.7\n",
              "Name: Total intl minutes, Length: 2664, dtype: float64"
            ]
          },
          "metadata": {},
          "execution_count": 33
        }
      ]
    },
    {
      "cell_type": "code",
      "source": [
        "# Creating new columns for Total calls, Total minutes and Total charge.\n",
        "# PLEASE NOTE : These are not inclusive of International calls, minutes and charges\n",
        "\n",
        "db['Total calls'] = db['Total day calls']+ db['Total eve calls'] + db['Total night calls']\n",
        "db['Total minutes'] = db['Total day minutes']+ db['Total eve minutes'] + db['Total night minutes']\n",
        "db['Total charge'] = db['Total day charge']+ db['Total eve charge'] + db['Total night charge']\n",
        "\n",
        "db.columns\n"
      ],
      "metadata": {
        "colab": {
          "base_uri": "https://localhost:8080/"
        },
        "id": "a8_DWOjMabFY",
        "outputId": "53c3bbd7-811e-4e7f-8776-cad8463c3fc9"
      },
      "execution_count": 12,
      "outputs": [
        {
          "output_type": "execute_result",
          "data": {
            "text/plain": [
              "Index(['State', 'Account length', 'Area code', 'International plan',\n",
              "       'Voice mail plan', 'Number vmail messages', 'Total day minutes',\n",
              "       'Total day calls', 'Total day charge', 'Total eve minutes',\n",
              "       'Total eve calls', 'Total eve charge', 'Total night minutes',\n",
              "       'Total night calls', 'Total night charge', 'Total intl minutes',\n",
              "       'Total intl calls', 'Total intl charge', 'Customer service calls',\n",
              "       'Churn', 'Total calls', 'Total minutes', 'Total charge'],\n",
              "      dtype='object')"
            ]
          },
          "metadata": {},
          "execution_count": 12
        }
      ]
    },
    {
      "cell_type": "code",
      "source": [
        "from seaborn.utils import percentiles\n",
        "display_cols = ['Total day minutes', 'Total eve minutes', 'Total night minutes']\n",
        "\n",
        "db.groupby(['Churn'])[display_cols].describe(percentiles = [])"
      ],
      "metadata": {
        "colab": {
          "base_uri": "https://localhost:8080/",
          "height": 175
        },
        "id": "9WHSrLEbXPsJ",
        "outputId": "a6a30dfe-ef83-4170-aac3-b35c0c09f7ad"
      },
      "execution_count": 6,
      "outputs": [
        {
          "output_type": "execute_result",
          "data": {
            "text/plain": [
              "      Total day minutes                                            \\\n",
              "                  count        mean        std  min    50%    max   \n",
              "Churn                                                               \n",
              "0                2850.0  175.175754  50.181655  0.0  177.2  315.6   \n",
              "1                 483.0  206.914079  68.997792  0.0  217.6  350.8   \n",
              "\n",
              "      Total eve minutes                                             \\\n",
              "                  count        mean        std   min    50%    max   \n",
              "Churn                                                                \n",
              "0                2850.0  199.043298  50.292175   0.0  199.6  361.8   \n",
              "1                 483.0  212.410145  51.728910  70.9  211.3  363.7   \n",
              "\n",
              "      Total night minutes                                              \n",
              "                    count        mean        std   min     50%    max  \n",
              "Churn                                                                  \n",
              "0                  2850.0  200.133193  51.105032  23.2  200.25  395.0  \n",
              "1                   483.0  205.231677  47.132825  47.4  204.80  354.9  "
            ],
            "text/html": [
              "\n",
              "  <div id=\"df-c257855e-3963-450d-8423-6d03353039e7\">\n",
              "    <div class=\"colab-df-container\">\n",
              "      <div>\n",
              "<style scoped>\n",
              "    .dataframe tbody tr th:only-of-type {\n",
              "        vertical-align: middle;\n",
              "    }\n",
              "\n",
              "    .dataframe tbody tr th {\n",
              "        vertical-align: top;\n",
              "    }\n",
              "\n",
              "    .dataframe thead tr th {\n",
              "        text-align: left;\n",
              "    }\n",
              "\n",
              "    .dataframe thead tr:last-of-type th {\n",
              "        text-align: right;\n",
              "    }\n",
              "</style>\n",
              "<table border=\"1\" class=\"dataframe\">\n",
              "  <thead>\n",
              "    <tr>\n",
              "      <th></th>\n",
              "      <th colspan=\"6\" halign=\"left\">Total day minutes</th>\n",
              "      <th colspan=\"6\" halign=\"left\">Total eve minutes</th>\n",
              "      <th colspan=\"6\" halign=\"left\">Total night minutes</th>\n",
              "    </tr>\n",
              "    <tr>\n",
              "      <th></th>\n",
              "      <th>count</th>\n",
              "      <th>mean</th>\n",
              "      <th>std</th>\n",
              "      <th>min</th>\n",
              "      <th>50%</th>\n",
              "      <th>max</th>\n",
              "      <th>count</th>\n",
              "      <th>mean</th>\n",
              "      <th>std</th>\n",
              "      <th>min</th>\n",
              "      <th>50%</th>\n",
              "      <th>max</th>\n",
              "      <th>count</th>\n",
              "      <th>mean</th>\n",
              "      <th>std</th>\n",
              "      <th>min</th>\n",
              "      <th>50%</th>\n",
              "      <th>max</th>\n",
              "    </tr>\n",
              "    <tr>\n",
              "      <th>Churn</th>\n",
              "      <th></th>\n",
              "      <th></th>\n",
              "      <th></th>\n",
              "      <th></th>\n",
              "      <th></th>\n",
              "      <th></th>\n",
              "      <th></th>\n",
              "      <th></th>\n",
              "      <th></th>\n",
              "      <th></th>\n",
              "      <th></th>\n",
              "      <th></th>\n",
              "      <th></th>\n",
              "      <th></th>\n",
              "      <th></th>\n",
              "      <th></th>\n",
              "      <th></th>\n",
              "      <th></th>\n",
              "    </tr>\n",
              "  </thead>\n",
              "  <tbody>\n",
              "    <tr>\n",
              "      <th>0</th>\n",
              "      <td>2850.0</td>\n",
              "      <td>175.175754</td>\n",
              "      <td>50.181655</td>\n",
              "      <td>0.0</td>\n",
              "      <td>177.2</td>\n",
              "      <td>315.6</td>\n",
              "      <td>2850.0</td>\n",
              "      <td>199.043298</td>\n",
              "      <td>50.292175</td>\n",
              "      <td>0.0</td>\n",
              "      <td>199.6</td>\n",
              "      <td>361.8</td>\n",
              "      <td>2850.0</td>\n",
              "      <td>200.133193</td>\n",
              "      <td>51.105032</td>\n",
              "      <td>23.2</td>\n",
              "      <td>200.25</td>\n",
              "      <td>395.0</td>\n",
              "    </tr>\n",
              "    <tr>\n",
              "      <th>1</th>\n",
              "      <td>483.0</td>\n",
              "      <td>206.914079</td>\n",
              "      <td>68.997792</td>\n",
              "      <td>0.0</td>\n",
              "      <td>217.6</td>\n",
              "      <td>350.8</td>\n",
              "      <td>483.0</td>\n",
              "      <td>212.410145</td>\n",
              "      <td>51.728910</td>\n",
              "      <td>70.9</td>\n",
              "      <td>211.3</td>\n",
              "      <td>363.7</td>\n",
              "      <td>483.0</td>\n",
              "      <td>205.231677</td>\n",
              "      <td>47.132825</td>\n",
              "      <td>47.4</td>\n",
              "      <td>204.80</td>\n",
              "      <td>354.9</td>\n",
              "    </tr>\n",
              "  </tbody>\n",
              "</table>\n",
              "</div>\n",
              "      <button class=\"colab-df-convert\" onclick=\"convertToInteractive('df-c257855e-3963-450d-8423-6d03353039e7')\"\n",
              "              title=\"Convert this dataframe to an interactive table.\"\n",
              "              style=\"display:none;\">\n",
              "        \n",
              "  <svg xmlns=\"http://www.w3.org/2000/svg\" height=\"24px\"viewBox=\"0 0 24 24\"\n",
              "       width=\"24px\">\n",
              "    <path d=\"M0 0h24v24H0V0z\" fill=\"none\"/>\n",
              "    <path d=\"M18.56 5.44l.94 2.06.94-2.06 2.06-.94-2.06-.94-.94-2.06-.94 2.06-2.06.94zm-11 1L8.5 8.5l.94-2.06 2.06-.94-2.06-.94L8.5 2.5l-.94 2.06-2.06.94zm10 10l.94 2.06.94-2.06 2.06-.94-2.06-.94-.94-2.06-.94 2.06-2.06.94z\"/><path d=\"M17.41 7.96l-1.37-1.37c-.4-.4-.92-.59-1.43-.59-.52 0-1.04.2-1.43.59L10.3 9.45l-7.72 7.72c-.78.78-.78 2.05 0 2.83L4 21.41c.39.39.9.59 1.41.59.51 0 1.02-.2 1.41-.59l7.78-7.78 2.81-2.81c.8-.78.8-2.07 0-2.86zM5.41 20L4 18.59l7.72-7.72 1.47 1.35L5.41 20z\"/>\n",
              "  </svg>\n",
              "      </button>\n",
              "      \n",
              "  <style>\n",
              "    .colab-df-container {\n",
              "      display:flex;\n",
              "      flex-wrap:wrap;\n",
              "      gap: 12px;\n",
              "    }\n",
              "\n",
              "    .colab-df-convert {\n",
              "      background-color: #E8F0FE;\n",
              "      border: none;\n",
              "      border-radius: 50%;\n",
              "      cursor: pointer;\n",
              "      display: none;\n",
              "      fill: #1967D2;\n",
              "      height: 32px;\n",
              "      padding: 0 0 0 0;\n",
              "      width: 32px;\n",
              "    }\n",
              "\n",
              "    .colab-df-convert:hover {\n",
              "      background-color: #E2EBFA;\n",
              "      box-shadow: 0px 1px 2px rgba(60, 64, 67, 0.3), 0px 1px 3px 1px rgba(60, 64, 67, 0.15);\n",
              "      fill: #174EA6;\n",
              "    }\n",
              "\n",
              "    [theme=dark] .colab-df-convert {\n",
              "      background-color: #3B4455;\n",
              "      fill: #D2E3FC;\n",
              "    }\n",
              "\n",
              "    [theme=dark] .colab-df-convert:hover {\n",
              "      background-color: #434B5C;\n",
              "      box-shadow: 0px 1px 3px 1px rgba(0, 0, 0, 0.15);\n",
              "      filter: drop-shadow(0px 1px 2px rgba(0, 0, 0, 0.3));\n",
              "      fill: #FFFFFF;\n",
              "    }\n",
              "  </style>\n",
              "\n",
              "      <script>\n",
              "        const buttonEl =\n",
              "          document.querySelector('#df-c257855e-3963-450d-8423-6d03353039e7 button.colab-df-convert');\n",
              "        buttonEl.style.display =\n",
              "          google.colab.kernel.accessAllowed ? 'block' : 'none';\n",
              "\n",
              "        async function convertToInteractive(key) {\n",
              "          const element = document.querySelector('#df-c257855e-3963-450d-8423-6d03353039e7');\n",
              "          const dataTable =\n",
              "            await google.colab.kernel.invokeFunction('convertToInteractive',\n",
              "                                                     [key], {});\n",
              "          if (!dataTable) return;\n",
              "\n",
              "          const docLinkHtml = 'Like what you see? Visit the ' +\n",
              "            '<a target=\"_blank\" href=https://colab.research.google.com/notebooks/data_table.ipynb>data table notebook</a>'\n",
              "            + ' to learn more about interactive tables.';\n",
              "          element.innerHTML = '';\n",
              "          dataTable['output_type'] = 'display_data';\n",
              "          await google.colab.output.renderOutput(dataTable, element);\n",
              "          const docLink = document.createElement('div');\n",
              "          docLink.innerHTML = docLinkHtml;\n",
              "          element.appendChild(docLink);\n",
              "        }\n",
              "      </script>\n",
              "    </div>\n",
              "  </div>\n",
              "  "
            ]
          },
          "metadata": {},
          "execution_count": 6
        }
      ]
    },
    {
      "cell_type": "code",
      "source": [
        "# Finding the unique entries in Area Code column\n",
        "\n",
        "db['Area code'].unique()"
      ],
      "metadata": {
        "colab": {
          "base_uri": "https://localhost:8080/"
        },
        "id": "q90fg0QL7is5",
        "outputId": "d010aaa1-af70-4acb-816d-58abe7728369"
      },
      "execution_count": 7,
      "outputs": [
        {
          "output_type": "execute_result",
          "data": {
            "text/plain": [
              "array([415, 408, 510])"
            ]
          },
          "metadata": {},
          "execution_count": 7
        }
      ]
    },
    {
      "cell_type": "code",
      "source": [
        "# To observe to correlation with Area Code\n",
        "\n",
        "db.pivot_table(['Total day calls', 'Total eve calls', 'Total night calls'], ['Area code'], aggfunc='mean')\n"
      ],
      "metadata": {
        "colab": {
          "base_uri": "https://localhost:8080/",
          "height": 175
        },
        "id": "mAHynjHy_oDK",
        "outputId": "6bab5112-ce38-4dd1-b4bc-18db39027add"
      },
      "execution_count": 19,
      "outputs": [
        {
          "output_type": "execute_result",
          "data": {
            "text/plain": [
              "           Total day calls  Total eve calls  Total night calls\n",
              "Area code                                                     \n",
              "408             100.496420        99.788783          99.039379\n",
              "415             100.576435       100.503927         100.398187\n",
              "510             100.097619        99.671429         100.601190"
            ],
            "text/html": [
              "\n",
              "  <div id=\"df-ff3d5010-c22a-40da-9dd0-84bbbf4dbed1\">\n",
              "    <div class=\"colab-df-container\">\n",
              "      <div>\n",
              "<style scoped>\n",
              "    .dataframe tbody tr th:only-of-type {\n",
              "        vertical-align: middle;\n",
              "    }\n",
              "\n",
              "    .dataframe tbody tr th {\n",
              "        vertical-align: top;\n",
              "    }\n",
              "\n",
              "    .dataframe thead th {\n",
              "        text-align: right;\n",
              "    }\n",
              "</style>\n",
              "<table border=\"1\" class=\"dataframe\">\n",
              "  <thead>\n",
              "    <tr style=\"text-align: right;\">\n",
              "      <th></th>\n",
              "      <th>Total day calls</th>\n",
              "      <th>Total eve calls</th>\n",
              "      <th>Total night calls</th>\n",
              "    </tr>\n",
              "    <tr>\n",
              "      <th>Area code</th>\n",
              "      <th></th>\n",
              "      <th></th>\n",
              "      <th></th>\n",
              "    </tr>\n",
              "  </thead>\n",
              "  <tbody>\n",
              "    <tr>\n",
              "      <th>408</th>\n",
              "      <td>100.496420</td>\n",
              "      <td>99.788783</td>\n",
              "      <td>99.039379</td>\n",
              "    </tr>\n",
              "    <tr>\n",
              "      <th>415</th>\n",
              "      <td>100.576435</td>\n",
              "      <td>100.503927</td>\n",
              "      <td>100.398187</td>\n",
              "    </tr>\n",
              "    <tr>\n",
              "      <th>510</th>\n",
              "      <td>100.097619</td>\n",
              "      <td>99.671429</td>\n",
              "      <td>100.601190</td>\n",
              "    </tr>\n",
              "  </tbody>\n",
              "</table>\n",
              "</div>\n",
              "      <button class=\"colab-df-convert\" onclick=\"convertToInteractive('df-ff3d5010-c22a-40da-9dd0-84bbbf4dbed1')\"\n",
              "              title=\"Convert this dataframe to an interactive table.\"\n",
              "              style=\"display:none;\">\n",
              "        \n",
              "  <svg xmlns=\"http://www.w3.org/2000/svg\" height=\"24px\"viewBox=\"0 0 24 24\"\n",
              "       width=\"24px\">\n",
              "    <path d=\"M0 0h24v24H0V0z\" fill=\"none\"/>\n",
              "    <path d=\"M18.56 5.44l.94 2.06.94-2.06 2.06-.94-2.06-.94-.94-2.06-.94 2.06-2.06.94zm-11 1L8.5 8.5l.94-2.06 2.06-.94-2.06-.94L8.5 2.5l-.94 2.06-2.06.94zm10 10l.94 2.06.94-2.06 2.06-.94-2.06-.94-.94-2.06-.94 2.06-2.06.94z\"/><path d=\"M17.41 7.96l-1.37-1.37c-.4-.4-.92-.59-1.43-.59-.52 0-1.04.2-1.43.59L10.3 9.45l-7.72 7.72c-.78.78-.78 2.05 0 2.83L4 21.41c.39.39.9.59 1.41.59.51 0 1.02-.2 1.41-.59l7.78-7.78 2.81-2.81c.8-.78.8-2.07 0-2.86zM5.41 20L4 18.59l7.72-7.72 1.47 1.35L5.41 20z\"/>\n",
              "  </svg>\n",
              "      </button>\n",
              "      \n",
              "  <style>\n",
              "    .colab-df-container {\n",
              "      display:flex;\n",
              "      flex-wrap:wrap;\n",
              "      gap: 12px;\n",
              "    }\n",
              "\n",
              "    .colab-df-convert {\n",
              "      background-color: #E8F0FE;\n",
              "      border: none;\n",
              "      border-radius: 50%;\n",
              "      cursor: pointer;\n",
              "      display: none;\n",
              "      fill: #1967D2;\n",
              "      height: 32px;\n",
              "      padding: 0 0 0 0;\n",
              "      width: 32px;\n",
              "    }\n",
              "\n",
              "    .colab-df-convert:hover {\n",
              "      background-color: #E2EBFA;\n",
              "      box-shadow: 0px 1px 2px rgba(60, 64, 67, 0.3), 0px 1px 3px 1px rgba(60, 64, 67, 0.15);\n",
              "      fill: #174EA6;\n",
              "    }\n",
              "\n",
              "    [theme=dark] .colab-df-convert {\n",
              "      background-color: #3B4455;\n",
              "      fill: #D2E3FC;\n",
              "    }\n",
              "\n",
              "    [theme=dark] .colab-df-convert:hover {\n",
              "      background-color: #434B5C;\n",
              "      box-shadow: 0px 1px 3px 1px rgba(0, 0, 0, 0.15);\n",
              "      filter: drop-shadow(0px 1px 2px rgba(0, 0, 0, 0.3));\n",
              "      fill: #FFFFFF;\n",
              "    }\n",
              "  </style>\n",
              "\n",
              "      <script>\n",
              "        const buttonEl =\n",
              "          document.querySelector('#df-ff3d5010-c22a-40da-9dd0-84bbbf4dbed1 button.colab-df-convert');\n",
              "        buttonEl.style.display =\n",
              "          google.colab.kernel.accessAllowed ? 'block' : 'none';\n",
              "\n",
              "        async function convertToInteractive(key) {\n",
              "          const element = document.querySelector('#df-ff3d5010-c22a-40da-9dd0-84bbbf4dbed1');\n",
              "          const dataTable =\n",
              "            await google.colab.kernel.invokeFunction('convertToInteractive',\n",
              "                                                     [key], {});\n",
              "          if (!dataTable) return;\n",
              "\n",
              "          const docLinkHtml = 'Like what you see? Visit the ' +\n",
              "            '<a target=\"_blank\" href=https://colab.research.google.com/notebooks/data_table.ipynb>data table notebook</a>'\n",
              "            + ' to learn more about interactive tables.';\n",
              "          element.innerHTML = '';\n",
              "          dataTable['output_type'] = 'display_data';\n",
              "          await google.colab.output.renderOutput(dataTable, element);\n",
              "          const docLink = document.createElement('div');\n",
              "          docLink.innerHTML = docLinkHtml;\n",
              "          element.appendChild(docLink);\n",
              "        }\n",
              "      </script>\n",
              "    </div>\n",
              "  </div>\n",
              "  "
            ]
          },
          "metadata": {},
          "execution_count": 19
        }
      ]
    },
    {
      "cell_type": "code",
      "source": [
        "db.head()"
      ],
      "metadata": {
        "colab": {
          "base_uri": "https://localhost:8080/",
          "height": 314
        },
        "id": "RL5dbR4P9IRE",
        "outputId": "52453a60-3be1-4963-816d-2d1096a1e709"
      },
      "execution_count": 13,
      "outputs": [
        {
          "output_type": "execute_result",
          "data": {
            "text/plain": [
              "  State  Account length  Area code International plan Voice mail plan  \\\n",
              "0    KS             128        415                 No             Yes   \n",
              "1    OH             107        415                 No             Yes   \n",
              "2    NJ             137        415                 No              No   \n",
              "3    OH              84        408                Yes              No   \n",
              "4    OK              75        415                Yes              No   \n",
              "\n",
              "   Number vmail messages  Total day minutes  Total day calls  \\\n",
              "0                     25              265.1              110   \n",
              "1                     26              161.6              123   \n",
              "2                      0              243.4              114   \n",
              "3                      0              299.4               71   \n",
              "4                      0              166.7              113   \n",
              "\n",
              "   Total day charge  Total eve minutes  ...  Total night calls  \\\n",
              "0             45.07              197.4  ...                 91   \n",
              "1             27.47              195.5  ...                103   \n",
              "2             41.38              121.2  ...                104   \n",
              "3             50.90               61.9  ...                 89   \n",
              "4             28.34              148.3  ...                121   \n",
              "\n",
              "   Total night charge  Total intl minutes  Total intl calls  \\\n",
              "0               11.01                10.0                 3   \n",
              "1               11.45                13.7                 3   \n",
              "2                7.32                12.2                 5   \n",
              "3                8.86                 6.6                 7   \n",
              "4                8.41                10.1                 3   \n",
              "\n",
              "   Total intl charge  Customer service calls  Churn  Total calls  \\\n",
              "0               2.70                       1      0          300   \n",
              "1               3.70                       1      0          329   \n",
              "2               3.29                       0      0          328   \n",
              "3               1.78                       2      0          248   \n",
              "4               2.73                       3      0          356   \n",
              "\n",
              "   Total minutes  Total charge  \n",
              "0          707.2         72.86  \n",
              "1          611.5         55.54  \n",
              "2          527.2         59.00  \n",
              "3          558.2         65.02  \n",
              "4          501.9         49.36  \n",
              "\n",
              "[5 rows x 23 columns]"
            ],
            "text/html": [
              "\n",
              "  <div id=\"df-1758ed94-a832-4b2a-831b-74a71cd34d87\">\n",
              "    <div class=\"colab-df-container\">\n",
              "      <div>\n",
              "<style scoped>\n",
              "    .dataframe tbody tr th:only-of-type {\n",
              "        vertical-align: middle;\n",
              "    }\n",
              "\n",
              "    .dataframe tbody tr th {\n",
              "        vertical-align: top;\n",
              "    }\n",
              "\n",
              "    .dataframe thead th {\n",
              "        text-align: right;\n",
              "    }\n",
              "</style>\n",
              "<table border=\"1\" class=\"dataframe\">\n",
              "  <thead>\n",
              "    <tr style=\"text-align: right;\">\n",
              "      <th></th>\n",
              "      <th>State</th>\n",
              "      <th>Account length</th>\n",
              "      <th>Area code</th>\n",
              "      <th>International plan</th>\n",
              "      <th>Voice mail plan</th>\n",
              "      <th>Number vmail messages</th>\n",
              "      <th>Total day minutes</th>\n",
              "      <th>Total day calls</th>\n",
              "      <th>Total day charge</th>\n",
              "      <th>Total eve minutes</th>\n",
              "      <th>...</th>\n",
              "      <th>Total night calls</th>\n",
              "      <th>Total night charge</th>\n",
              "      <th>Total intl minutes</th>\n",
              "      <th>Total intl calls</th>\n",
              "      <th>Total intl charge</th>\n",
              "      <th>Customer service calls</th>\n",
              "      <th>Churn</th>\n",
              "      <th>Total calls</th>\n",
              "      <th>Total minutes</th>\n",
              "      <th>Total charge</th>\n",
              "    </tr>\n",
              "  </thead>\n",
              "  <tbody>\n",
              "    <tr>\n",
              "      <th>0</th>\n",
              "      <td>KS</td>\n",
              "      <td>128</td>\n",
              "      <td>415</td>\n",
              "      <td>No</td>\n",
              "      <td>Yes</td>\n",
              "      <td>25</td>\n",
              "      <td>265.1</td>\n",
              "      <td>110</td>\n",
              "      <td>45.07</td>\n",
              "      <td>197.4</td>\n",
              "      <td>...</td>\n",
              "      <td>91</td>\n",
              "      <td>11.01</td>\n",
              "      <td>10.0</td>\n",
              "      <td>3</td>\n",
              "      <td>2.70</td>\n",
              "      <td>1</td>\n",
              "      <td>0</td>\n",
              "      <td>300</td>\n",
              "      <td>707.2</td>\n",
              "      <td>72.86</td>\n",
              "    </tr>\n",
              "    <tr>\n",
              "      <th>1</th>\n",
              "      <td>OH</td>\n",
              "      <td>107</td>\n",
              "      <td>415</td>\n",
              "      <td>No</td>\n",
              "      <td>Yes</td>\n",
              "      <td>26</td>\n",
              "      <td>161.6</td>\n",
              "      <td>123</td>\n",
              "      <td>27.47</td>\n",
              "      <td>195.5</td>\n",
              "      <td>...</td>\n",
              "      <td>103</td>\n",
              "      <td>11.45</td>\n",
              "      <td>13.7</td>\n",
              "      <td>3</td>\n",
              "      <td>3.70</td>\n",
              "      <td>1</td>\n",
              "      <td>0</td>\n",
              "      <td>329</td>\n",
              "      <td>611.5</td>\n",
              "      <td>55.54</td>\n",
              "    </tr>\n",
              "    <tr>\n",
              "      <th>2</th>\n",
              "      <td>NJ</td>\n",
              "      <td>137</td>\n",
              "      <td>415</td>\n",
              "      <td>No</td>\n",
              "      <td>No</td>\n",
              "      <td>0</td>\n",
              "      <td>243.4</td>\n",
              "      <td>114</td>\n",
              "      <td>41.38</td>\n",
              "      <td>121.2</td>\n",
              "      <td>...</td>\n",
              "      <td>104</td>\n",
              "      <td>7.32</td>\n",
              "      <td>12.2</td>\n",
              "      <td>5</td>\n",
              "      <td>3.29</td>\n",
              "      <td>0</td>\n",
              "      <td>0</td>\n",
              "      <td>328</td>\n",
              "      <td>527.2</td>\n",
              "      <td>59.00</td>\n",
              "    </tr>\n",
              "    <tr>\n",
              "      <th>3</th>\n",
              "      <td>OH</td>\n",
              "      <td>84</td>\n",
              "      <td>408</td>\n",
              "      <td>Yes</td>\n",
              "      <td>No</td>\n",
              "      <td>0</td>\n",
              "      <td>299.4</td>\n",
              "      <td>71</td>\n",
              "      <td>50.90</td>\n",
              "      <td>61.9</td>\n",
              "      <td>...</td>\n",
              "      <td>89</td>\n",
              "      <td>8.86</td>\n",
              "      <td>6.6</td>\n",
              "      <td>7</td>\n",
              "      <td>1.78</td>\n",
              "      <td>2</td>\n",
              "      <td>0</td>\n",
              "      <td>248</td>\n",
              "      <td>558.2</td>\n",
              "      <td>65.02</td>\n",
              "    </tr>\n",
              "    <tr>\n",
              "      <th>4</th>\n",
              "      <td>OK</td>\n",
              "      <td>75</td>\n",
              "      <td>415</td>\n",
              "      <td>Yes</td>\n",
              "      <td>No</td>\n",
              "      <td>0</td>\n",
              "      <td>166.7</td>\n",
              "      <td>113</td>\n",
              "      <td>28.34</td>\n",
              "      <td>148.3</td>\n",
              "      <td>...</td>\n",
              "      <td>121</td>\n",
              "      <td>8.41</td>\n",
              "      <td>10.1</td>\n",
              "      <td>3</td>\n",
              "      <td>2.73</td>\n",
              "      <td>3</td>\n",
              "      <td>0</td>\n",
              "      <td>356</td>\n",
              "      <td>501.9</td>\n",
              "      <td>49.36</td>\n",
              "    </tr>\n",
              "  </tbody>\n",
              "</table>\n",
              "<p>5 rows × 23 columns</p>\n",
              "</div>\n",
              "      <button class=\"colab-df-convert\" onclick=\"convertToInteractive('df-1758ed94-a832-4b2a-831b-74a71cd34d87')\"\n",
              "              title=\"Convert this dataframe to an interactive table.\"\n",
              "              style=\"display:none;\">\n",
              "        \n",
              "  <svg xmlns=\"http://www.w3.org/2000/svg\" height=\"24px\"viewBox=\"0 0 24 24\"\n",
              "       width=\"24px\">\n",
              "    <path d=\"M0 0h24v24H0V0z\" fill=\"none\"/>\n",
              "    <path d=\"M18.56 5.44l.94 2.06.94-2.06 2.06-.94-2.06-.94-.94-2.06-.94 2.06-2.06.94zm-11 1L8.5 8.5l.94-2.06 2.06-.94-2.06-.94L8.5 2.5l-.94 2.06-2.06.94zm10 10l.94 2.06.94-2.06 2.06-.94-2.06-.94-.94-2.06-.94 2.06-2.06.94z\"/><path d=\"M17.41 7.96l-1.37-1.37c-.4-.4-.92-.59-1.43-.59-.52 0-1.04.2-1.43.59L10.3 9.45l-7.72 7.72c-.78.78-.78 2.05 0 2.83L4 21.41c.39.39.9.59 1.41.59.51 0 1.02-.2 1.41-.59l7.78-7.78 2.81-2.81c.8-.78.8-2.07 0-2.86zM5.41 20L4 18.59l7.72-7.72 1.47 1.35L5.41 20z\"/>\n",
              "  </svg>\n",
              "      </button>\n",
              "      \n",
              "  <style>\n",
              "    .colab-df-container {\n",
              "      display:flex;\n",
              "      flex-wrap:wrap;\n",
              "      gap: 12px;\n",
              "    }\n",
              "\n",
              "    .colab-df-convert {\n",
              "      background-color: #E8F0FE;\n",
              "      border: none;\n",
              "      border-radius: 50%;\n",
              "      cursor: pointer;\n",
              "      display: none;\n",
              "      fill: #1967D2;\n",
              "      height: 32px;\n",
              "      padding: 0 0 0 0;\n",
              "      width: 32px;\n",
              "    }\n",
              "\n",
              "    .colab-df-convert:hover {\n",
              "      background-color: #E2EBFA;\n",
              "      box-shadow: 0px 1px 2px rgba(60, 64, 67, 0.3), 0px 1px 3px 1px rgba(60, 64, 67, 0.15);\n",
              "      fill: #174EA6;\n",
              "    }\n",
              "\n",
              "    [theme=dark] .colab-df-convert {\n",
              "      background-color: #3B4455;\n",
              "      fill: #D2E3FC;\n",
              "    }\n",
              "\n",
              "    [theme=dark] .colab-df-convert:hover {\n",
              "      background-color: #434B5C;\n",
              "      box-shadow: 0px 1px 3px 1px rgba(0, 0, 0, 0.15);\n",
              "      filter: drop-shadow(0px 1px 2px rgba(0, 0, 0, 0.3));\n",
              "      fill: #FFFFFF;\n",
              "    }\n",
              "  </style>\n",
              "\n",
              "      <script>\n",
              "        const buttonEl =\n",
              "          document.querySelector('#df-1758ed94-a832-4b2a-831b-74a71cd34d87 button.colab-df-convert');\n",
              "        buttonEl.style.display =\n",
              "          google.colab.kernel.accessAllowed ? 'block' : 'none';\n",
              "\n",
              "        async function convertToInteractive(key) {\n",
              "          const element = document.querySelector('#df-1758ed94-a832-4b2a-831b-74a71cd34d87');\n",
              "          const dataTable =\n",
              "            await google.colab.kernel.invokeFunction('convertToInteractive',\n",
              "                                                     [key], {});\n",
              "          if (!dataTable) return;\n",
              "\n",
              "          const docLinkHtml = 'Like what you see? Visit the ' +\n",
              "            '<a target=\"_blank\" href=https://colab.research.google.com/notebooks/data_table.ipynb>data table notebook</a>'\n",
              "            + ' to learn more about interactive tables.';\n",
              "          element.innerHTML = '';\n",
              "          dataTable['output_type'] = 'display_data';\n",
              "          await google.colab.output.renderOutput(dataTable, element);\n",
              "          const docLink = document.createElement('div');\n",
              "          docLink.innerHTML = docLinkHtml;\n",
              "          element.appendChild(docLink);\n",
              "        }\n",
              "      </script>\n",
              "    </div>\n",
              "  </div>\n",
              "  "
            ]
          },
          "metadata": {},
          "execution_count": 13
        }
      ]
    },
    {
      "cell_type": "markdown",
      "source": [
        "The values of International Plan and Voice mail plan are in 'Yes' and 'No'.\n",
        "\n",
        "This might lead to confusions. Hence, converting these values into Boolean variables."
      ],
      "metadata": {
        "id": "InU58i359qHE"
      }
    },
    {
      "cell_type": "code",
      "source": [
        "d = {'No' : False, 'Yes' : True}\n",
        "db['International plan'] = db['International plan'].map(d)\n",
        "db['Voice mail plan'] = db['Voice mail plan'].map(d)\n",
        "db.head()"
      ],
      "metadata": {
        "colab": {
          "base_uri": "https://localhost:8080/",
          "height": 314
        },
        "id": "l_bOPTCY98k_",
        "outputId": "2b258bc1-9f51-4721-a074-6de1953ae9c7"
      },
      "execution_count": 14,
      "outputs": [
        {
          "output_type": "execute_result",
          "data": {
            "text/plain": [
              "  State  Account length  Area code  International plan  Voice mail plan  \\\n",
              "0    KS             128        415               False             True   \n",
              "1    OH             107        415               False             True   \n",
              "2    NJ             137        415               False            False   \n",
              "3    OH              84        408                True            False   \n",
              "4    OK              75        415                True            False   \n",
              "\n",
              "   Number vmail messages  Total day minutes  Total day calls  \\\n",
              "0                     25              265.1              110   \n",
              "1                     26              161.6              123   \n",
              "2                      0              243.4              114   \n",
              "3                      0              299.4               71   \n",
              "4                      0              166.7              113   \n",
              "\n",
              "   Total day charge  Total eve minutes  ...  Total night calls  \\\n",
              "0             45.07              197.4  ...                 91   \n",
              "1             27.47              195.5  ...                103   \n",
              "2             41.38              121.2  ...                104   \n",
              "3             50.90               61.9  ...                 89   \n",
              "4             28.34              148.3  ...                121   \n",
              "\n",
              "   Total night charge  Total intl minutes  Total intl calls  \\\n",
              "0               11.01                10.0                 3   \n",
              "1               11.45                13.7                 3   \n",
              "2                7.32                12.2                 5   \n",
              "3                8.86                 6.6                 7   \n",
              "4                8.41                10.1                 3   \n",
              "\n",
              "   Total intl charge  Customer service calls  Churn  Total calls  \\\n",
              "0               2.70                       1      0          300   \n",
              "1               3.70                       1      0          329   \n",
              "2               3.29                       0      0          328   \n",
              "3               1.78                       2      0          248   \n",
              "4               2.73                       3      0          356   \n",
              "\n",
              "   Total minutes  Total charge  \n",
              "0          707.2         72.86  \n",
              "1          611.5         55.54  \n",
              "2          527.2         59.00  \n",
              "3          558.2         65.02  \n",
              "4          501.9         49.36  \n",
              "\n",
              "[5 rows x 23 columns]"
            ],
            "text/html": [
              "\n",
              "  <div id=\"df-707eb4eb-b968-4ce6-a6eb-3b43351ecc0b\">\n",
              "    <div class=\"colab-df-container\">\n",
              "      <div>\n",
              "<style scoped>\n",
              "    .dataframe tbody tr th:only-of-type {\n",
              "        vertical-align: middle;\n",
              "    }\n",
              "\n",
              "    .dataframe tbody tr th {\n",
              "        vertical-align: top;\n",
              "    }\n",
              "\n",
              "    .dataframe thead th {\n",
              "        text-align: right;\n",
              "    }\n",
              "</style>\n",
              "<table border=\"1\" class=\"dataframe\">\n",
              "  <thead>\n",
              "    <tr style=\"text-align: right;\">\n",
              "      <th></th>\n",
              "      <th>State</th>\n",
              "      <th>Account length</th>\n",
              "      <th>Area code</th>\n",
              "      <th>International plan</th>\n",
              "      <th>Voice mail plan</th>\n",
              "      <th>Number vmail messages</th>\n",
              "      <th>Total day minutes</th>\n",
              "      <th>Total day calls</th>\n",
              "      <th>Total day charge</th>\n",
              "      <th>Total eve minutes</th>\n",
              "      <th>...</th>\n",
              "      <th>Total night calls</th>\n",
              "      <th>Total night charge</th>\n",
              "      <th>Total intl minutes</th>\n",
              "      <th>Total intl calls</th>\n",
              "      <th>Total intl charge</th>\n",
              "      <th>Customer service calls</th>\n",
              "      <th>Churn</th>\n",
              "      <th>Total calls</th>\n",
              "      <th>Total minutes</th>\n",
              "      <th>Total charge</th>\n",
              "    </tr>\n",
              "  </thead>\n",
              "  <tbody>\n",
              "    <tr>\n",
              "      <th>0</th>\n",
              "      <td>KS</td>\n",
              "      <td>128</td>\n",
              "      <td>415</td>\n",
              "      <td>False</td>\n",
              "      <td>True</td>\n",
              "      <td>25</td>\n",
              "      <td>265.1</td>\n",
              "      <td>110</td>\n",
              "      <td>45.07</td>\n",
              "      <td>197.4</td>\n",
              "      <td>...</td>\n",
              "      <td>91</td>\n",
              "      <td>11.01</td>\n",
              "      <td>10.0</td>\n",
              "      <td>3</td>\n",
              "      <td>2.70</td>\n",
              "      <td>1</td>\n",
              "      <td>0</td>\n",
              "      <td>300</td>\n",
              "      <td>707.2</td>\n",
              "      <td>72.86</td>\n",
              "    </tr>\n",
              "    <tr>\n",
              "      <th>1</th>\n",
              "      <td>OH</td>\n",
              "      <td>107</td>\n",
              "      <td>415</td>\n",
              "      <td>False</td>\n",
              "      <td>True</td>\n",
              "      <td>26</td>\n",
              "      <td>161.6</td>\n",
              "      <td>123</td>\n",
              "      <td>27.47</td>\n",
              "      <td>195.5</td>\n",
              "      <td>...</td>\n",
              "      <td>103</td>\n",
              "      <td>11.45</td>\n",
              "      <td>13.7</td>\n",
              "      <td>3</td>\n",
              "      <td>3.70</td>\n",
              "      <td>1</td>\n",
              "      <td>0</td>\n",
              "      <td>329</td>\n",
              "      <td>611.5</td>\n",
              "      <td>55.54</td>\n",
              "    </tr>\n",
              "    <tr>\n",
              "      <th>2</th>\n",
              "      <td>NJ</td>\n",
              "      <td>137</td>\n",
              "      <td>415</td>\n",
              "      <td>False</td>\n",
              "      <td>False</td>\n",
              "      <td>0</td>\n",
              "      <td>243.4</td>\n",
              "      <td>114</td>\n",
              "      <td>41.38</td>\n",
              "      <td>121.2</td>\n",
              "      <td>...</td>\n",
              "      <td>104</td>\n",
              "      <td>7.32</td>\n",
              "      <td>12.2</td>\n",
              "      <td>5</td>\n",
              "      <td>3.29</td>\n",
              "      <td>0</td>\n",
              "      <td>0</td>\n",
              "      <td>328</td>\n",
              "      <td>527.2</td>\n",
              "      <td>59.00</td>\n",
              "    </tr>\n",
              "    <tr>\n",
              "      <th>3</th>\n",
              "      <td>OH</td>\n",
              "      <td>84</td>\n",
              "      <td>408</td>\n",
              "      <td>True</td>\n",
              "      <td>False</td>\n",
              "      <td>0</td>\n",
              "      <td>299.4</td>\n",
              "      <td>71</td>\n",
              "      <td>50.90</td>\n",
              "      <td>61.9</td>\n",
              "      <td>...</td>\n",
              "      <td>89</td>\n",
              "      <td>8.86</td>\n",
              "      <td>6.6</td>\n",
              "      <td>7</td>\n",
              "      <td>1.78</td>\n",
              "      <td>2</td>\n",
              "      <td>0</td>\n",
              "      <td>248</td>\n",
              "      <td>558.2</td>\n",
              "      <td>65.02</td>\n",
              "    </tr>\n",
              "    <tr>\n",
              "      <th>4</th>\n",
              "      <td>OK</td>\n",
              "      <td>75</td>\n",
              "      <td>415</td>\n",
              "      <td>True</td>\n",
              "      <td>False</td>\n",
              "      <td>0</td>\n",
              "      <td>166.7</td>\n",
              "      <td>113</td>\n",
              "      <td>28.34</td>\n",
              "      <td>148.3</td>\n",
              "      <td>...</td>\n",
              "      <td>121</td>\n",
              "      <td>8.41</td>\n",
              "      <td>10.1</td>\n",
              "      <td>3</td>\n",
              "      <td>2.73</td>\n",
              "      <td>3</td>\n",
              "      <td>0</td>\n",
              "      <td>356</td>\n",
              "      <td>501.9</td>\n",
              "      <td>49.36</td>\n",
              "    </tr>\n",
              "  </tbody>\n",
              "</table>\n",
              "<p>5 rows × 23 columns</p>\n",
              "</div>\n",
              "      <button class=\"colab-df-convert\" onclick=\"convertToInteractive('df-707eb4eb-b968-4ce6-a6eb-3b43351ecc0b')\"\n",
              "              title=\"Convert this dataframe to an interactive table.\"\n",
              "              style=\"display:none;\">\n",
              "        \n",
              "  <svg xmlns=\"http://www.w3.org/2000/svg\" height=\"24px\"viewBox=\"0 0 24 24\"\n",
              "       width=\"24px\">\n",
              "    <path d=\"M0 0h24v24H0V0z\" fill=\"none\"/>\n",
              "    <path d=\"M18.56 5.44l.94 2.06.94-2.06 2.06-.94-2.06-.94-.94-2.06-.94 2.06-2.06.94zm-11 1L8.5 8.5l.94-2.06 2.06-.94-2.06-.94L8.5 2.5l-.94 2.06-2.06.94zm10 10l.94 2.06.94-2.06 2.06-.94-2.06-.94-.94-2.06-.94 2.06-2.06.94z\"/><path d=\"M17.41 7.96l-1.37-1.37c-.4-.4-.92-.59-1.43-.59-.52 0-1.04.2-1.43.59L10.3 9.45l-7.72 7.72c-.78.78-.78 2.05 0 2.83L4 21.41c.39.39.9.59 1.41.59.51 0 1.02-.2 1.41-.59l7.78-7.78 2.81-2.81c.8-.78.8-2.07 0-2.86zM5.41 20L4 18.59l7.72-7.72 1.47 1.35L5.41 20z\"/>\n",
              "  </svg>\n",
              "      </button>\n",
              "      \n",
              "  <style>\n",
              "    .colab-df-container {\n",
              "      display:flex;\n",
              "      flex-wrap:wrap;\n",
              "      gap: 12px;\n",
              "    }\n",
              "\n",
              "    .colab-df-convert {\n",
              "      background-color: #E8F0FE;\n",
              "      border: none;\n",
              "      border-radius: 50%;\n",
              "      cursor: pointer;\n",
              "      display: none;\n",
              "      fill: #1967D2;\n",
              "      height: 32px;\n",
              "      padding: 0 0 0 0;\n",
              "      width: 32px;\n",
              "    }\n",
              "\n",
              "    .colab-df-convert:hover {\n",
              "      background-color: #E2EBFA;\n",
              "      box-shadow: 0px 1px 2px rgba(60, 64, 67, 0.3), 0px 1px 3px 1px rgba(60, 64, 67, 0.15);\n",
              "      fill: #174EA6;\n",
              "    }\n",
              "\n",
              "    [theme=dark] .colab-df-convert {\n",
              "      background-color: #3B4455;\n",
              "      fill: #D2E3FC;\n",
              "    }\n",
              "\n",
              "    [theme=dark] .colab-df-convert:hover {\n",
              "      background-color: #434B5C;\n",
              "      box-shadow: 0px 1px 3px 1px rgba(0, 0, 0, 0.15);\n",
              "      filter: drop-shadow(0px 1px 2px rgba(0, 0, 0, 0.3));\n",
              "      fill: #FFFFFF;\n",
              "    }\n",
              "  </style>\n",
              "\n",
              "      <script>\n",
              "        const buttonEl =\n",
              "          document.querySelector('#df-707eb4eb-b968-4ce6-a6eb-3b43351ecc0b button.colab-df-convert');\n",
              "        buttonEl.style.display =\n",
              "          google.colab.kernel.accessAllowed ? 'block' : 'none';\n",
              "\n",
              "        async function convertToInteractive(key) {\n",
              "          const element = document.querySelector('#df-707eb4eb-b968-4ce6-a6eb-3b43351ecc0b');\n",
              "          const dataTable =\n",
              "            await google.colab.kernel.invokeFunction('convertToInteractive',\n",
              "                                                     [key], {});\n",
              "          if (!dataTable) return;\n",
              "\n",
              "          const docLinkHtml = 'Like what you see? Visit the ' +\n",
              "            '<a target=\"_blank\" href=https://colab.research.google.com/notebooks/data_table.ipynb>data table notebook</a>'\n",
              "            + ' to learn more about interactive tables.';\n",
              "          element.innerHTML = '';\n",
              "          dataTable['output_type'] = 'display_data';\n",
              "          await google.colab.output.renderOutput(dataTable, element);\n",
              "          const docLink = document.createElement('div');\n",
              "          docLink.innerHTML = docLinkHtml;\n",
              "          element.appendChild(docLink);\n",
              "        }\n",
              "      </script>\n",
              "    </div>\n",
              "  </div>\n",
              "  "
            ]
          },
          "metadata": {},
          "execution_count": 14
        }
      ]
    },
    {
      "cell_type": "code",
      "source": [
        "# To observe distribution of our observation\n",
        "\n",
        "pd.crosstab(db['Churn'], db['International plan'])"
      ],
      "metadata": {
        "colab": {
          "base_uri": "https://localhost:8080/",
          "height": 143
        },
        "id": "umgeUQoH-3AX",
        "outputId": "e295ea2f-11bf-4d51-a41c-178b0035cf8f"
      },
      "execution_count": 16,
      "outputs": [
        {
          "output_type": "execute_result",
          "data": {
            "text/plain": [
              "International plan  False  True\n",
              "Churn                          \n",
              "0                    2664   186\n",
              "1                     346   137"
            ],
            "text/html": [
              "\n",
              "  <div id=\"df-ab74a65b-d883-4d9a-b0aa-1dc1ba7c15e3\">\n",
              "    <div class=\"colab-df-container\">\n",
              "      <div>\n",
              "<style scoped>\n",
              "    .dataframe tbody tr th:only-of-type {\n",
              "        vertical-align: middle;\n",
              "    }\n",
              "\n",
              "    .dataframe tbody tr th {\n",
              "        vertical-align: top;\n",
              "    }\n",
              "\n",
              "    .dataframe thead th {\n",
              "        text-align: right;\n",
              "    }\n",
              "</style>\n",
              "<table border=\"1\" class=\"dataframe\">\n",
              "  <thead>\n",
              "    <tr style=\"text-align: right;\">\n",
              "      <th>International plan</th>\n",
              "      <th>False</th>\n",
              "      <th>True</th>\n",
              "    </tr>\n",
              "    <tr>\n",
              "      <th>Churn</th>\n",
              "      <th></th>\n",
              "      <th></th>\n",
              "    </tr>\n",
              "  </thead>\n",
              "  <tbody>\n",
              "    <tr>\n",
              "      <th>0</th>\n",
              "      <td>2664</td>\n",
              "      <td>186</td>\n",
              "    </tr>\n",
              "    <tr>\n",
              "      <th>1</th>\n",
              "      <td>346</td>\n",
              "      <td>137</td>\n",
              "    </tr>\n",
              "  </tbody>\n",
              "</table>\n",
              "</div>\n",
              "      <button class=\"colab-df-convert\" onclick=\"convertToInteractive('df-ab74a65b-d883-4d9a-b0aa-1dc1ba7c15e3')\"\n",
              "              title=\"Convert this dataframe to an interactive table.\"\n",
              "              style=\"display:none;\">\n",
              "        \n",
              "  <svg xmlns=\"http://www.w3.org/2000/svg\" height=\"24px\"viewBox=\"0 0 24 24\"\n",
              "       width=\"24px\">\n",
              "    <path d=\"M0 0h24v24H0V0z\" fill=\"none\"/>\n",
              "    <path d=\"M18.56 5.44l.94 2.06.94-2.06 2.06-.94-2.06-.94-.94-2.06-.94 2.06-2.06.94zm-11 1L8.5 8.5l.94-2.06 2.06-.94-2.06-.94L8.5 2.5l-.94 2.06-2.06.94zm10 10l.94 2.06.94-2.06 2.06-.94-2.06-.94-.94-2.06-.94 2.06-2.06.94z\"/><path d=\"M17.41 7.96l-1.37-1.37c-.4-.4-.92-.59-1.43-.59-.52 0-1.04.2-1.43.59L10.3 9.45l-7.72 7.72c-.78.78-.78 2.05 0 2.83L4 21.41c.39.39.9.59 1.41.59.51 0 1.02-.2 1.41-.59l7.78-7.78 2.81-2.81c.8-.78.8-2.07 0-2.86zM5.41 20L4 18.59l7.72-7.72 1.47 1.35L5.41 20z\"/>\n",
              "  </svg>\n",
              "      </button>\n",
              "      \n",
              "  <style>\n",
              "    .colab-df-container {\n",
              "      display:flex;\n",
              "      flex-wrap:wrap;\n",
              "      gap: 12px;\n",
              "    }\n",
              "\n",
              "    .colab-df-convert {\n",
              "      background-color: #E8F0FE;\n",
              "      border: none;\n",
              "      border-radius: 50%;\n",
              "      cursor: pointer;\n",
              "      display: none;\n",
              "      fill: #1967D2;\n",
              "      height: 32px;\n",
              "      padding: 0 0 0 0;\n",
              "      width: 32px;\n",
              "    }\n",
              "\n",
              "    .colab-df-convert:hover {\n",
              "      background-color: #E2EBFA;\n",
              "      box-shadow: 0px 1px 2px rgba(60, 64, 67, 0.3), 0px 1px 3px 1px rgba(60, 64, 67, 0.15);\n",
              "      fill: #174EA6;\n",
              "    }\n",
              "\n",
              "    [theme=dark] .colab-df-convert {\n",
              "      background-color: #3B4455;\n",
              "      fill: #D2E3FC;\n",
              "    }\n",
              "\n",
              "    [theme=dark] .colab-df-convert:hover {\n",
              "      background-color: #434B5C;\n",
              "      box-shadow: 0px 1px 3px 1px rgba(0, 0, 0, 0.15);\n",
              "      filter: drop-shadow(0px 1px 2px rgba(0, 0, 0, 0.3));\n",
              "      fill: #FFFFFF;\n",
              "    }\n",
              "  </style>\n",
              "\n",
              "      <script>\n",
              "        const buttonEl =\n",
              "          document.querySelector('#df-ab74a65b-d883-4d9a-b0aa-1dc1ba7c15e3 button.colab-df-convert');\n",
              "        buttonEl.style.display =\n",
              "          google.colab.kernel.accessAllowed ? 'block' : 'none';\n",
              "\n",
              "        async function convertToInteractive(key) {\n",
              "          const element = document.querySelector('#df-ab74a65b-d883-4d9a-b0aa-1dc1ba7c15e3');\n",
              "          const dataTable =\n",
              "            await google.colab.kernel.invokeFunction('convertToInteractive',\n",
              "                                                     [key], {});\n",
              "          if (!dataTable) return;\n",
              "\n",
              "          const docLinkHtml = 'Like what you see? Visit the ' +\n",
              "            '<a target=\"_blank\" href=https://colab.research.google.com/notebooks/data_table.ipynb>data table notebook</a>'\n",
              "            + ' to learn more about interactive tables.';\n",
              "          element.innerHTML = '';\n",
              "          dataTable['output_type'] = 'display_data';\n",
              "          await google.colab.output.renderOutput(dataTable, element);\n",
              "          const docLink = document.createElement('div');\n",
              "          docLink.innerHTML = docLinkHtml;\n",
              "          element.appendChild(docLink);\n",
              "        }\n",
              "      </script>\n",
              "    </div>\n",
              "  </div>\n",
              "  "
            ]
          },
          "metadata": {},
          "execution_count": 16
        }
      ]
    },
    {
      "cell_type": "code",
      "source": [
        "# Simliarly for Voice-mail Plan\n",
        "\n",
        "pd.crosstab(db['Churn'], db['Voice mail plan'])"
      ],
      "metadata": {
        "colab": {
          "base_uri": "https://localhost:8080/",
          "height": 143
        },
        "id": "-CAVcbyb_Fmq",
        "outputId": "3a66c3ca-0414-4549-9176-27ebe6463808"
      },
      "execution_count": 17,
      "outputs": [
        {
          "output_type": "execute_result",
          "data": {
            "text/plain": [
              "Voice mail plan  False  True\n",
              "Churn                       \n",
              "0                 2008   842\n",
              "1                  403    80"
            ],
            "text/html": [
              "\n",
              "  <div id=\"df-d03bbf67-13a7-402b-9735-4d335fc6f143\">\n",
              "    <div class=\"colab-df-container\">\n",
              "      <div>\n",
              "<style scoped>\n",
              "    .dataframe tbody tr th:only-of-type {\n",
              "        vertical-align: middle;\n",
              "    }\n",
              "\n",
              "    .dataframe tbody tr th {\n",
              "        vertical-align: top;\n",
              "    }\n",
              "\n",
              "    .dataframe thead th {\n",
              "        text-align: right;\n",
              "    }\n",
              "</style>\n",
              "<table border=\"1\" class=\"dataframe\">\n",
              "  <thead>\n",
              "    <tr style=\"text-align: right;\">\n",
              "      <th>Voice mail plan</th>\n",
              "      <th>False</th>\n",
              "      <th>True</th>\n",
              "    </tr>\n",
              "    <tr>\n",
              "      <th>Churn</th>\n",
              "      <th></th>\n",
              "      <th></th>\n",
              "    </tr>\n",
              "  </thead>\n",
              "  <tbody>\n",
              "    <tr>\n",
              "      <th>0</th>\n",
              "      <td>2008</td>\n",
              "      <td>842</td>\n",
              "    </tr>\n",
              "    <tr>\n",
              "      <th>1</th>\n",
              "      <td>403</td>\n",
              "      <td>80</td>\n",
              "    </tr>\n",
              "  </tbody>\n",
              "</table>\n",
              "</div>\n",
              "      <button class=\"colab-df-convert\" onclick=\"convertToInteractive('df-d03bbf67-13a7-402b-9735-4d335fc6f143')\"\n",
              "              title=\"Convert this dataframe to an interactive table.\"\n",
              "              style=\"display:none;\">\n",
              "        \n",
              "  <svg xmlns=\"http://www.w3.org/2000/svg\" height=\"24px\"viewBox=\"0 0 24 24\"\n",
              "       width=\"24px\">\n",
              "    <path d=\"M0 0h24v24H0V0z\" fill=\"none\"/>\n",
              "    <path d=\"M18.56 5.44l.94 2.06.94-2.06 2.06-.94-2.06-.94-.94-2.06-.94 2.06-2.06.94zm-11 1L8.5 8.5l.94-2.06 2.06-.94-2.06-.94L8.5 2.5l-.94 2.06-2.06.94zm10 10l.94 2.06.94-2.06 2.06-.94-2.06-.94-.94-2.06-.94 2.06-2.06.94z\"/><path d=\"M17.41 7.96l-1.37-1.37c-.4-.4-.92-.59-1.43-.59-.52 0-1.04.2-1.43.59L10.3 9.45l-7.72 7.72c-.78.78-.78 2.05 0 2.83L4 21.41c.39.39.9.59 1.41.59.51 0 1.02-.2 1.41-.59l7.78-7.78 2.81-2.81c.8-.78.8-2.07 0-2.86zM5.41 20L4 18.59l7.72-7.72 1.47 1.35L5.41 20z\"/>\n",
              "  </svg>\n",
              "      </button>\n",
              "      \n",
              "  <style>\n",
              "    .colab-df-container {\n",
              "      display:flex;\n",
              "      flex-wrap:wrap;\n",
              "      gap: 12px;\n",
              "    }\n",
              "\n",
              "    .colab-df-convert {\n",
              "      background-color: #E8F0FE;\n",
              "      border: none;\n",
              "      border-radius: 50%;\n",
              "      cursor: pointer;\n",
              "      display: none;\n",
              "      fill: #1967D2;\n",
              "      height: 32px;\n",
              "      padding: 0 0 0 0;\n",
              "      width: 32px;\n",
              "    }\n",
              "\n",
              "    .colab-df-convert:hover {\n",
              "      background-color: #E2EBFA;\n",
              "      box-shadow: 0px 1px 2px rgba(60, 64, 67, 0.3), 0px 1px 3px 1px rgba(60, 64, 67, 0.15);\n",
              "      fill: #174EA6;\n",
              "    }\n",
              "\n",
              "    [theme=dark] .colab-df-convert {\n",
              "      background-color: #3B4455;\n",
              "      fill: #D2E3FC;\n",
              "    }\n",
              "\n",
              "    [theme=dark] .colab-df-convert:hover {\n",
              "      background-color: #434B5C;\n",
              "      box-shadow: 0px 1px 3px 1px rgba(0, 0, 0, 0.15);\n",
              "      filter: drop-shadow(0px 1px 2px rgba(0, 0, 0, 0.3));\n",
              "      fill: #FFFFFF;\n",
              "    }\n",
              "  </style>\n",
              "\n",
              "      <script>\n",
              "        const buttonEl =\n",
              "          document.querySelector('#df-d03bbf67-13a7-402b-9735-4d335fc6f143 button.colab-df-convert');\n",
              "        buttonEl.style.display =\n",
              "          google.colab.kernel.accessAllowed ? 'block' : 'none';\n",
              "\n",
              "        async function convertToInteractive(key) {\n",
              "          const element = document.querySelector('#df-d03bbf67-13a7-402b-9735-4d335fc6f143');\n",
              "          const dataTable =\n",
              "            await google.colab.kernel.invokeFunction('convertToInteractive',\n",
              "                                                     [key], {});\n",
              "          if (!dataTable) return;\n",
              "\n",
              "          const docLinkHtml = 'Like what you see? Visit the ' +\n",
              "            '<a target=\"_blank\" href=https://colab.research.google.com/notebooks/data_table.ipynb>data table notebook</a>'\n",
              "            + ' to learn more about interactive tables.';\n",
              "          element.innerHTML = '';\n",
              "          dataTable['output_type'] = 'display_data';\n",
              "          await google.colab.output.renderOutput(dataTable, element);\n",
              "          const docLink = document.createElement('div');\n",
              "          docLink.innerHTML = docLinkHtml;\n",
              "          element.appendChild(docLink);\n",
              "        }\n",
              "      </script>\n",
              "    </div>\n",
              "  </div>\n",
              "  "
            ]
          },
          "metadata": {},
          "execution_count": 17
        }
      ]
    },
    {
      "cell_type": "markdown",
      "source": [
        "### **What all manipulations have you done and insights you found?**\n"
      ],
      "metadata": {
        "id": "MSa1f5Uengrz"
      }
    },
    {
      "cell_type": "markdown",
      "source": [
        "Before manipulating any DataFrames, it is always a good practise to duplicate so as to preserve the original DataFrame. Hence, we dedicated the variable \"df\" to the Original DataFrame and made a copy to the variable \"db\". Therefore, all operations performed will be directly associated with the DataFrame copied in \"db\".\n",
        "\n",
        "Previously, it was evident that the total number of entries in the DataFrame was 3333, out of which we found out that 483 customers were lost by the company and 2850 customers were retained. We used the 'value_counts' module to derive this information.\n",
        "\n",
        "![1.png](data:image/png;base64,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)"
      ],
      "metadata": {
        "id": "LbyXE7I1olp8"
      }
    },
    {
      "cell_type": "markdown",
      "source": [
        "In the csv file provided to us, \"Churn\" values were listed as Boolean Variables (True or False). This field was converted to integers to enhance performance by allowing for lesser code lines.\n",
        "\n",
        "Then, we checked the mean values of all columns for \"Churn == 1\" (i.e, for all the churned customers).\n",
        "\n",
        "![2.png](data:image/png;base64,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)\n",
        "\n",
        "These mean values were the least for Voice messages, International Calls and Customer service calls. Whereas, it was extremely high for Morning calls,Evening calls and Night calls. \n",
        "\n",
        "Yet, the overall charges were found to be reasonable, yet significantly high as compared to International charges."
      ],
      "metadata": {
        "id": "BKIhdNnxaxGo"
      }
    },
    {
      "cell_type": "markdown",
      "source": [
        "After making the above observation, it is necessary to rule out few of the plausible explanations to arrive at the most convincing reason for churning. Hence, the correlation between \"churn\" and \"International calls\" had to be checked. The following correlation was observed.\n",
        "\n",
        "![4.png](data:image/png;base64,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)\n",
        "\n",
        "323 out of 3333 (9.6%) have opted for International plan.\n",
        "\n",
        "\n"
      ],
      "metadata": {
        "id": "sIHbtXcEc_H1"
      }
    },
    {
      "cell_type": "markdown",
      "source": [
        "\n",
        "\n",
        "![3.png](data:image/png;base64,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)\n",
        "\n",
        "It was observed that although majority of the customers have not opted for international call plans, there have been frequent instances of \"International Calls\" by almost all customers."
      ],
      "metadata": {
        "id": "aW8ouOulgcC0"
      }
    },
    {
      "cell_type": "markdown",
      "source": [
        "Finally we created aggregate columns for Total calls, Total Minutes and Total Charge which included respective entries from Morning, evening and night values.\n",
        "\n",
        "**KINDLY NOTE :** These fields are not inclusive of International calls, minutes or charges.\n",
        "\n",
        "![5.png](data:image/png;base64,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)"
      ],
      "metadata": {
        "id": "21ECKYggijIY"
      }
    },
    {
      "cell_type": "markdown",
      "source": [
        "Finally, there were only \"three\" unique entries in the \"Area code\" column. Hence, visualisations including area code will be convenient and provides better clarity area-wise.\n",
        "\n",
        "The unique area codes are \n",
        "\n",
        "[415, 408, 510]\n",
        "\n"
      ],
      "metadata": {
        "id": "vAzxdGKa73Kd"
      }
    },
    {
      "cell_type": "markdown",
      "source": [
        "Now, using a pivot table to find the correlation with area codes, we observe the following:\n",
        "\n",
        "![6.png](data:image/png;base64,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)"
      ],
      "metadata": {
        "id": "5Fo4ma4pBJAX"
      }
    },
    {
      "cell_type": "markdown",
      "source": [
        "Then, while going through the data, I realised that the values of International plans and Voice mail plans were in 'Yes' and 'No'. This could lead to several confusions further down the lane. Hence, in order to avoid these confusions and to ensure clarity, I converted these values to Boolean quantities (i.e, True and False).\n",
        "\n",
        "<br>\n",
        "\n",
        "BEFORE:\n",
        "\n",
        "![7a.png](data:image/png;base64,iVBORw0KGgoAAAANSUhEUgAAAN0AAAEdCAYAAACIW2IaAAAAAXNSR0IArs4c6QAAAARnQU1BAACxjwv8YQUAAAAJcEhZcwAAEnQAABJ0Ad5mH3gAACkrSURBVHhe7d0LfA13/v/xl0NzUkLk4hYhchdBKtEIimpIRVLXqlJWS1OrN1pd/trV7UVZWpV2qdpsdP0otV1N6+fSDbWlN5QgSkVDBCEhF3E9CfL7z5wzkUQiImkmyfF59nH2nPnOOCcze97z/c58v2emXkhIyP8hhNCNQXsWQuhEQieEziR0QuhMQieEziR0QuhMQieEziR0QuhMQieEziR0QuhMQieEziR0QuhMQieEziR0QuhMQieEziR0QuhMQieEziR0wroEjGP24hhil3zA1HBnrbB2kdAJ/dmG8criWGJjY5k9xl0rLOTMY29Y5n34fA+tzLpI6IT+TNs4dLzA/LJFh56UiJ1tCJ6t1Rf5HPv1R3PRHdm3jFcnRTFh4mTmb8zUCmsXuUaKqBG2kTP421AvZa9/gv9Mf4N/FeYj9GUWj/bHJv8AKye9zzdqWeOODJvwOL18W9DERqknruWReXwHX69YzX9TTeZ/FhD1Hi+GOJhfF0qOm8CcddpEcdr79fRpRlNjA+X9LnJ639fELN2I9nalPrMg/zwnE9byz+X/LVqmkqSmEzXCtP0wJ8yVXWs8Q2zNZarQAG9slOf83/ZZAmcbSNTMyUR0amUJnKqBEWeP3oyZ9hKRLpaiCnMOZcpblvczB07VwI5WQY8yup9lsqzPNNg0oW3IGKZNDlcawFUjoRM1I3MrB8ypM9DWp6eljB74tTNHjiO//GAu8Rk5ghAn5Wuaf4ItC6fx3ITnmLZwCyfylZm2XjwYEWBebl/MK0yYMEF5fMj2HHNRmbo9NohOTZT3K8hiz6o5TFH/zZQ5rNp+kkvXLcs4R0QSrHxm/oktLJz2nPKeRZ9p69OLATcfht4hCZ2oIZlsPZRmfmXTzk+JmyLAn3aNlOeC4xzaprbh3An2ba7OIXfvWj7dk4VJ+S9rz6fEH7hkLndw71TymLBcgdznZWd+lbPzUxZuTuaCOnEhmc0xf+HDjeZZhPi4mYNh0+Yhnp+3iNjYRcx7/iHaqPsDWtDGX32uPAmdqDGZWw4qR3SKRj4EKqkLCPZFPSorOLqfzebjpibca/6iw9m0BMsLzaU8tapT2NyrLFVRLjjaW15lnd5neVFKAK2ctJfVREInak7mzyRnqC8a0c4/lE7u5shxdP9mpT5TXeO65SQnTq0szchCjYxaGi/mYqkvK+IKhVlt2bab5UUpaeRetLw6s22u1mQt+Sjz5MwdkNCJGpTCDwfNqcPBN5z7WigvCk5weHvh6cEDHDquNSPvG8yoLk7YKv859ZjIkABzO5RTST8rDdWK+oFfjlhSZ9dlOM/388VJPYfT2It+42YyKVydk0lSmuWgsHnwWKL6edHYPPX7kS6Du1DkjFiGemkTZjls//AVYm7V4qpOPuOYM703liM3JUapG5jx1pqiILlEMuO1oXgVneC8oSBrO4tfjyHBFEDUey9yU49BkZztfPhKDObV8xnF21P74aKduCzuRheDczjT33wUnzI+s8R7VVKN1XTOPcYwbdZ8PpoWqZXUMc49GDNtFvM/mkb5axDAuNmLiYldwgdTq3662eoc/olDZ7TXirRDW0vWXKfWsWDeCrYfP0feNUuR2md2ev96PnhbDZylrMIOr+Kd2SvYdjTzpvdbS9xmyzSZG5n7zjLzMlfytfbt76hiNV3kDGJL7hqLSSZuwhzutJl7ozMzOY4JVW0k14SAKN57MUQ58L/d+quh+yMPtDBw+eCXvD1/4x00h6qbUovEKrVITdZ0dyE5pqt2+1j26iSiJkxkcq0KnKgpd3hMV9R2Lj3EpnBeDjtXrKeg9xC6trWjQUE+2QfiWBAdz6kbe9ZbuWmPW4GhOIXHJ+rfs+DUGGY81QfXhpCffYC4BdHEnzIvZKmpk9ezIMmLcf29cVTe79rF43y3bC4rCtsopWr0AvLPZ5D07Qo+/uqQ+Yxa6eOhknK2f8gr6grcqAmLKbNWt8Wt70jGDOhGW2cjDQo/87vPiP3iF0s/UkX//jK2r7rNMpK+ZcXHX3GoVFNMarqaUA01nT1dR48hRA2cOmmwwbHTCJ4efodHM3c6FKd+KM9O6KsETl3WgI1jJ0ZMGlWy49QjnMkRvuYvrKqBXVv6jhvPrU4em9+nSSs6DXqBZ0PLOqquOpfIl5g2pjce5sCptM+MmMzMqEAlksXc8d9v2WatOg3ihWdDS76XqDHVEDoDBoOJ1M0LmDJhJmtT1FO0Btx8QpTndczR+jo+LByro+79b/SBFO1t73QojjGgJ76XdrJkygRmrk3B/Kkt29LeMtvCoKxu1h5WvPUczy3aqezfFXYedC7sAlo3p9jfojyem8aqX9RT1rZ4K+9vWUSb9+F2y783H9MV/RtzLafaF8MrWtmNdb2ZbRijI7zMYchJXMUc5W83D0lKVJc34BT8MP2KJ+V2f3+x7Wt5KNts1S+Y18A7gMLBVqJmVUPolC/QzljmKf9nX1AalMcyLP0sd+pOh+K0cXNi/5fL2Km0x059NYtJ6pcuai7ayB6L/BTWRS80j0w3JaSRpRUXaUzHYVOYNf8jlsTGErtoHqM6qv1Byt9hvNf8/Lvq2RFP8/qk8N2SzSSrbUl1SNKnOy0jNQxtuTEsUXXbv19tkQ9jinpWeIn6mzRlm43qiHkNbIxUwxqISqiW0GWlJWgjCiqrEkNxziQQ/+NtPvVSBsfUY7wy2RI6ZbbSfOtEq6aFTb1qdq/RPKKeHOXvKv6nZ14mz/zChhJZL/fvV9YgdAqzJ0fQqVVTCgfQi9qnWkJXdZUYinM+i8Pay8rpS1f/hsoGKSBLqamnPWf5nFs2DX8P1wuUT1PYO9OmeDPSuSFG84tLXMg2v6iQvl39UQ9pC7J2EmtukivrcKMZLGqLmg+dUxuCS42zqf6hOKXVNx8yqeP9zp9N45KpMV79onj0vlsNcyjkRJvSK1AxP6dYxg0aPOj9dD+81Ldp7MWwqD60UctNR9l/Bz+erm9ZAa6dP0vaJZPyVv2IevS+kmdQRY2rWCOkjM5xr6HKMcNQ9VXlOseTUtPJD3HAxqErE6NjmWguLTp1vS/uGw7fpw7FcSFk1AzlYV7A4ncYilPaYU5kFODVwgb3iNdZFKEVF6i1kaH03ikplfT8EBxsHOg6MZpYywrc6DIo65fMykZTjrPUjVa4nmtZu70rk0KccOoyihnKo4iJ5I3/Yqs2VRGHT2RQ4NUCG/cIXi9aAXUVtB2KqqxuGwdCXoxFPdVVZwcr/J4q3N1TOTVW05nil/DJ5qNkFo7FuVk1D8Up7TD/XvIF+7PzLU0+9ZIAR7exYuUucs3zb2KKZ8knmzmamafUjZVlIiHmbT5Yn0TmFe1zlXfLyzzKthXzWLCunAO4Mhz+9xK+2J+NZXMVvs9KdpW5Anc35/CpfLAklpjFsxlX8gcM1U4GPIu7khq6mUM60LAgg+8/fpVlt2g2VcdwxRqr6YSoSZkb5zN54gSiJt06cNVFajpRi2nHn8mbiSvowWCfhhSc3canWxwYPLwTTblI0v/OZZ7aDK/AED7Vnf6sSWo6cXfyeMgcOPXL2qDZA4wdoQROPQXYwA7f3gMo+5Il1T+Er7IkdKL2U76lOdsXsWSnekbIgCH/V1ZPW0uKOs+hGW3V5woM4VPdGMY3IY5krUxvEjpRB6Tyw/IE8tS+D0Vu4hbis65jvmKewUB9c6nOQ/iqQEIn6gAlYMWGyRUUaBeovKEGhvBVgYROWIEaGMJXBRI6YQUqO4SvZkiXQZ1QxtCtahkKV9sUrrdlqOEJ7fS9Zahdm2Lz1tB09p/o2+KmOkQdwqek0XDjdH9ZQ+CK0ZYrcwjfDVX/lb3UdMIK3OEQvhomNV1dU9gJfFfUdNZJajohdCY1XY0q5wpqv31N7IdlXMGr3Jqu9DFL6auBFR0nrV+QhNe4/ng72mC4dpHj3y1j7oqq/upf3I7UdLVCGVdQ8x3EC7/HDQhveTUwD8InR+CrBk6dbGBH277jGF/epcXE70JCVyuoP5I9z4E49SaFz/HW5hPmEwK2Pt146I5SdydXA1M/M4s9K97iuecWsdNyaTE8ii4tJqqJhK6WOLXlXd5fp96k0ERq3B5SzaUtcL3DDFT8amD5pKyLZuF/UzGZEkgr69JiolpI6GqJyxeK/UrcpI0rvPlqYLdxZ1cDu0RGeZcWE9VGQlcb+ThpdxeVq4FZIwldLXGPjeWKYrZOPRg3Nthyvza5GphVki6DGlXezQxNJMe9w5wyfxVdUuHNXHzGzOZPfVvctCdVrwZmwGAovGpbYZdByeFMhb+ovnEDlDqmrKFbpW9yUztITVdLXLt24w6FXMlMYvMSLXB3QK4GVjdITVejyrv1mKic2r9NpaYTQmdS09Uoqeluq/B4towbYu5aE0PMtpub4OVv09LHfmoz/Dg71n/CMu29CpfJ2bmC9QW9GdK1LXYNCkreaLQKpKYTdUMZN8QMGTuF8VUeQNMAo7MHvcc+zxgfrUhj33U0Y0LUwKlT2o1Gnx5e9aF52rOoEfuIecUyZEtqudswGMg/tc3S/zhlGYnqXZ0MTtzXq4dlfgXti3ml2DA55TFlDlvVmsvQgg7BJe80alA+05S6mQXFbzTq5mO550MVSOhE3XApkdXvLOPHLBNc2MZ3By2nZBu5eJS8xfXt2LrRd9xrzF24mBj1qmHRM+jjYpllc69lSMINOTuJnbeKX9QbjR7LMI9h/T1I6ETdkH+Z3GK/ObquXY5PSYo2eqcifBj12quM6e2B873aryvKk5VGQjX8zklCJ+ogW1rYW65pycVcyz3+KsL/Abq4qAdoJpLXq7/osDQx43S+6qyETtQNhgYYzT8IbIxX5LOE+6o3ji7gVNLPZKrFFdGgvvaFv8K5kxlcsHWiy7DphHqYC3UjoRN1g31XJi5Sf64UzYyh/jRRvrnqwO64OPXi6mo3gTpPfRQNqzPfuFQtey9KWUKRdJRT5uaidiPPRfN4PsIHO8vljHQjoRN1Q8E1rmnZuJZ3juO7P2f+6zF3dsxl+oaYZds4ftEy5E69lMXp/ev5YONR87RepHNc1G5WePUzqemE0JmETgidSeiE0Jkc0wmhM6nphNCZhE4InUnohNCZhE4InUnohNCZhE4InUnohNCZhE4IndV76qmnpHNcCB3V69+/v4ROCB1J81IInUnohNCZhE4InUnohNCZhE4InUnohNCZhE4InUnohNCZhE4InUnohNCZhE4InUnohNBZfU9Pzze016IOCpsczQujwgh2PMnW/We10mL8x/Lma+Pp2+wE3yaWMd8aeIzg1ZnPMPwhXwp+2cER9S6tN2sZxuSZLzCqfznL6ERqOqtgwLHrcEb7a5N3m6Ofs3RTKleN7oSODKOlVlykJWEjQ3E35pG0/mPi07XiGiKhsxYGR7oOHoHOt1qrNdI3rmJTSh5G9wGMHVQydi0HjWWA+z1k7/6UpdvytNKaI83LOs4zZADeDqkkJNTDxcsT98a/8d3BHG2uonkAfYNc4HRCsealHX4RTxE17nGGDYogPCyUBwI9MGb8QnL2dW2ZuuYiR1IN+N7vQ1vPDjie3Iq5te0/mpeH+WGb8zOf/m0zp9VFja70HD2RiWMfZVBEOGGhDxDoYSTjl2SKVr8l3cdO4pknhjM4ciAD+velR0Ar8o8nceJ81baR1HRWoYD01WtIyDXQvPvjjCi3ujPSeezLRPX3o2leMjvi49m6J43rzn48PGk6YzsbteXqoPR4Pl6fRJ5a6w8fjb/y3+jhXXG8nsqmv6/kgHkhf0ZOe4kRXRwxJe8gXln/Hckmmvg+zKTpYylcfX8lcCODnLl6Yi9b1W209wyGVkGMmDSaQMsilSahsxZ5iaxek0CuoTndHy+nmekxhEFBjlxP/Q8L3l7C6g0biFsezewFW0nDkS5h/XHSFq2L8rYt5dOEXKW13ZVRb46iq+NVUjatYqN2HOcUGU43JxMHP3+HWUtWs0FZ/9VLZvHGZ/u54tiFsP7q2vsT6GUPqd8yb+Fy4szbaD4Lv0unwMYVP/NtXStPQmdF8hJXs0b9wjXvzuO3qO7cgjxx5jKHfthI8fMJeSc38PORqxhc/ehZl1NHHolKrb87W2lE29txNWk9H984c2Ik2NsVw7Xz5Dv0ZuDAgTceoc4GrihxcPUMUpZLJ+dCAbTpycSh3fBytFR/6XF/5eU/vc2nVbwzpYTOqli+cOU1M+1s1S9QDmePWKaL5HH2/GXl2Q770qf/6hal1k9IuaC8yOWXbduUNSvkhXNT5alBK+4LCyOsxMNf2Rkp7J1pTxab4n/idF5DPPqM4vnX5/DuX2cyZWwEQa5Vb35L6KxNRZuZd7Pc3cRMmcKUsh5vreSQskhe4ufMnfE6H6zaxO7ks1yp15R2Qf0Z+3LVj3sldFaoRDOzdxOt1OKiSd3vO9DM0zJdxEizJg2V53NkJltKrE86uWqnuFKVe1aoCX2RlB3rWb5wDq9Pf5W3lHZlrsGRzj27afMrR0JnlYo1M329sddKVam7j5BJQ9r3DC/RiWx0Hcj9nvdQkJ7KwZrvyqomWfzw60kKaE1QRGdlN1PE2PkPvBk9n1lPKYGyf5jn//ouc597sNgyeWSfOKcc91Wd9NPVcZZ+unP89vUOShymXc/gUHZzgru0wlaZzCvsp8tJ5lyzIAL9OhF8vxtOdi3wCYlgxND7aFYvm4TPP2FbRl3tqyvSPKAvlu7Jbyk++u1K6kWaBwXg7nEfDwS40MTehYBeQxjW3xf7q6lsXr6GI1nnaNyhBx28/Aju5EqLpq1wC+zFsEfup1WDHHZ/+T+WPsBKktDVcbcMneJ6xiEut+5BpxY2RaHjOhmJuzlevxXt2nnh4+eDe8tGXEv/ha9XfMxXv1pHNXer0Kk7o8TtR6nn2g5XV3d8fLxo42wkP30fa2OX8e0pdYdzhZS9h7jawpt2bdvhpbQWPNs4Y3Mhhf+uWMwXB/Mt71VJcoVnIXQmx3RC6ExCJ4TOJHRC6ExCJ4TOJHRC6ExCJ4TOJHRC6ExCJ4TOJHRC6ExCJ4TOJHRC6ExCJ4TOJHRC6KxeSEiI/MpACB1JTSeEziR0QuhMQieEziR0QuhMQieEziR0QuhMQieEziR0QuhMQieEziR0QuhMQieEziR0dVzkjFhiY2OYN/4WtwcNiOK92Fjei6ri7UNrM58xzI5RtsOiGUS6aGU3c4lkxqLbLKMTCZ1VMODU/QlulTurd3gFC9elkG/rRfi4SEpnyoXIceF42Zo48MUC1p3SimuIhM5aGJzoPnIMPtrk3ebUV0tZn2zC1mswzzxWMnYujz3DYC8bsrbH8tE3Jq205tR3dXWVu/bUYT69BuPnmMLOneDq64t3kyS+SczS5ipaBhHWzRVO7iA+IUMrbEzHYc/y4jPjGPXYMIY8Ek7fbt7YntpLUuY1bZm65gKHjxrw79EBd58AnI9vYo+6ugHjmTmqI/dm/0js3A2kqYvautH3qSlMjhrDY8OG8Eh4X7p523JqbxJFq+9C76iXefHp0YwcNpTBEQPoE+TC1WMHOZZbtW0kNZ1VuE7aspXszDHQos+TjCm3urMlMGomkyM64ZCfxPfr1rFp50kKmnVi0NS3iApU72ZXR51ax4IvDmBSa/0nxhOg/Df+ie44XUthXfRSLPfnD2DcG68yJtgZU9L3rFPW//skE/b+g5j6VhSFqx+gBG5cSHOuHdvFJnUb7TqNwTWEMS+Pp2r3YZXQWQ9TAstW7iTH0II+T5bTzPQZyYgQJ66lrOWd6dEsi4vjs5h3eG32Zk7gRHBkhOWG93WU6ZuPiN2Zo7S2u/Pk/Cfp7pRP8vqlfKUdxzkPH8wDzUwkLn+VGdHLiFPWf1n0DP70yR4uOwUTGaGufQDBvg6QEs9f5sXwmXkbvc27W05RYONGxyDLe1WWhM6KmBKWsVL9wrXow5O3qO7cg31pziUObPmK4ucTTKlx/JiUj8GtEw/V5dRhIkGp9bcrLewmTZuQf+ALFtw4c2JLTz83DFdzyXfqx9ChQ288wlsYuKzEwc0nRFkujezzBeD2IJNHPYCvk6X6O7VqJlGTphO72zxZaRI6q2L5wpXXzGxyr43yv9mcOWyZLmIiI/eS8myHfWtLSZ2l1Po7f8tVXuSw95tvlDUrpOxwmipP97Sma2QkkSUeAcrOSOHQHH8yWb9uKydNdvj0e4pp8/7G4oVzeS1qKCFuVW9+S+isTUWbmXeznO18OGECE8p6TFvKAWURU8IK/vLCy8z5ZB3bkzK4bGiKR0gkUX+u+nGvhM4KlWhmhtprpRbnr6j3y3akeak02tLCvpHyfI4zSZYS65NG7kXlyaE1vhVqQl8g+fs4Yub9manPTmZa7C5lZ+ZE4IM9tfmVI6GzSsWamf5+OGilqpSdSZyhEf4PDS7RiWzrNpQevjYUnDpCYs13ZVWTTLbsT6WANgQPD1R2M0VsAyfyXuwSFkx6AJo+wrSFi1n0SlixZUxkHTvHFW2qKqSfro6z9NNlc2jt95Q4TLt2mgOZregR3Jp7lUlTYT9dVhI5LULo1qkLPXt60KxxK/x6DWfsyCBa1Mtix/LFfHO6rvbVFWkZFIalezKeG92TisspF2gZ0hVv7/vpG9QGewdXgh56nNERHXDIP8qGmJUcPptNk04P0rl9R3oGtqWVsoxHt4cYPbwHre/JZvvqv1v6ACtJQlfH3TJ0imunD3CxbR8CW9kUhY5rnE7YTkqD1nh5+NKhkx9eLo3IT9vL2pj3+dd+66jmbhU6dWeU8N1v1GvrSVs3Lzr4+eLW3BbTqV38e9ES4k+qO5zLJO8+wNWW7fFw98C3Q3t83JpjvJDMf/4+n5X71SZ65cnFZoXQmRzTCaEzCZ0QOpPQCaEzCZ0QOpPQCaEzCZ0QOpPQCaEzCZ0QOpPQCaEzCZ0QOpPQCaEzCZ0QOpPQCaGzev3795dfGQihI6nphNCZhE4InUnohNCZhE4InUnohNCZhE4InUnohNCZhE4InUnohNCZhE4InUnohNCZhK6OC5scTXT0+7w+2l8ruYn/WN6MjubNsbeYb+209Y+e+yKhTlrZTSzbcDJh2nR1k9BZBQOOXYdzq9wJhdGDsCdCuUXudCWhsxYGR7oOHoGHNilKM3qE8VhvozZVcyR0ViGVhIRcDM278/iIisTODr+IicyY9S7vq02v999l1oyJhHvX/BeyuuQeTCD1qhHfiPFUJHdG156MnDKTufPVpmc08+fOZMrI7rTU5leFhM4qFJC+eg0JuQaad3+c8nNnpPPYl4nq70fTvGR2xMezdU8a1539eHjSdMZ2ttLgXdnNqi2pXDX6EjG+t7IVytEyjD++MILubY2c2buV+PifOHyhIW27j+SlyWFVDp6EzlrkJbJ6TQK5huZ0f7ycZqbHEAYFOXI99T8seHsJqzdsIG55NLMXbCUNR7qE9a8Vxz3VIX3jKrakXsXoG8H4W1Z3Rh4c3h93Yy4J/3yb+cvj2LBhNUtmvcPnBy9hdO9DeKC2aCVJ6KxIXuJq1tymmekW5Ikzlzn0w0bStTJV3skN/HzkKgZXP3paa+qUNd64asttmpnd8Gt3D6TtZn1inlamushPmxPJpBHeXYK1ssqR0FmVPBJv08y0s1W/aTmcPWKZLpLH2fOXlWc77H+PA5faKn3jbZqZttgombucnU6WVnLD0RwuKE8N7ZpapitJQmdtKtrMvItVrJlZfSR0VqhEM7N3E63U4qJJbTI50MzTMl3ESLMmDZXnc2QmW0qsV8lmpmeJFJjIv6rUZo4tSx/bejjQWHk6n1O8YX7nJHRWqVgz09cbe61Ulbr7iHJc0pD2PcNLnIUzug7kfs97KEhP5WDxQxlrVayZ6eumlZnt4NdjSupaBxFR4kyuHd37dVaOh/NIS07UyipHQmetCpuZ2uQNR79k7e5s6rs9zEszJzJy4ECGjp3Cqy/1oTXZ7NmwnlRtUWtX2MwsKY9v12wiJc+ewCdnMnXsUAYOHMnEP7/GiA6NyEv5hq9+1BatJAmdFVObmev3X9KmCim14PL3idn0K+eMXnQLC6NPl9bUT9/H2sVzWV7ijJ21U5uZ35FWoE0WSo/n4799zk/H82h+Xx/Cwrrj0/gyR7cuY8EH8SXO+laGXGxWCJ1JTSeEziR0QuhMQieEziR0QuhMQieEziR0QuhMQieEziR0QuhMQieEziR0QuhMQieEziR0QuhMQieEzuqFhITIrwyE0JHUdELoTEInhM4kdELoTEInhM4kdELoTEInhM4kdELoTEInhM4kdELoTEInhM4kdELoTEInhM4kdLWeLaEvLyI2NoZ5UYHKVFlsCYyaR0y5y9ylAqJ4LzaW2EXTCXfWym4SOUOZHzuDSG26uknoaj0T33wUy84cA07BjzM2sHSkbAPH8niwE2Rs5R8xCcq/EKXY+hA5IZxb5E5XErq6wJTAspXbycKJkHFP06N47mx78PS4EJzyk/lq4QoOa8WiNFufSP4QWvPtgPqurq5vaK9FLXbt9EGyWobQ1cMDf++r7PwhmcvKfjt86ouEtrrG4S/n88ke9Z7h0LjjMKZMfYE/jBrG0MERDOgZgHP+EfalqnfMtrBtP5iX//QCY0YOZ9iQRwgPewB/23QSfz1DvraMVWgZRFg3V0yJO0l3cMOnfTsubfmJlGvafIVPr8H4OWZzaO33N3Zatm59eeL5SUwcM4phQwcTMaAnAc75HNmXar7veFVITVdnmEiI+QdbMwrMe+wJygGKc/gEIn1sydkZywcbM81LOYdPY/bkCDwbpLFr0zrWbdpFWoO29B73GjMiXczL4BzJS5MH4W2Tzf7vlWXWfU/SJTt8Iybz0vDa0ACrBpe3s/TrFPJt/Rn2bGj5x70uyvaZNobe7Ww4vWuTsn228WtuQ9r1HsdrMyLRtmKlSejqlMOsWLiOlHxbfCJnKCHywSZrOyuXFR7HdeOxAb7Ypm1m9mvvEPNZHHGfxfDO1Df5zwkbvPoPUZZQhHTCyyaXXctf56NlyjJxy4j+y2oSLxXQ0rM7Tc3vZX1OfbWUr1PysfUfxrO3bGbaEjY6Ai/bHHYunsHbMZ9Zts+MV1meeBFbr/4MMW/EypPQ1TWnvmLp+mRMtk1papPB1n/EkFB45iTwPrzs4LzSygwMH8rQoYWPbjS8egXsPOgcoCx3NpeL2NN56LNEdG1lvnk9pm188OJEnp33v5xTp63SKb5a+rV5p+U/7FnKzl1POnrawImdrLmxYVUX2LYxgTPY0f7+HlpZ5Ujo6qBT6/ZzUn1x9EdWFD9z4uJovql/U99+REZGlnj08mikzLHHUW0b7fiS9fvP0cAliGGTZhG95CPmz5rCuH4dLQG0ZupOq9xm5r0YlcxdyjyJpcFezOEszitPjRo7WqYrSUJnhZLjJjBhQlmPKOZuVJc4RXz0VCZPW8iqbbs5ca6Ahi060XvUS/z1dzhmqe0q1sysPhI6a5J9AfW2/q3aVaz5Y8raw+ZlH/HG9OeZ9PIcyxfRqwcPuWsLWK2SzUyf+lqx2RXy8pXazNm1dJ+ejxNNlKfc7FOW6UqS0FmTH3/m0EXlC+P/EINLVFcuDP7zYmIWz+RRVwiaMIePlsxhnI82W3XhJBkXrmoTd4FizUz/EjuZH/jliJK6NsEMLzEQoTG9wwNpjonjhxK0ssqRfro6yYdeg/1wzD7E2u+LH9SlkdbAnx4dPfHv3Yf2To1o7teLQU88SndXG3J+XsmSb09zosCNPt388A3qjp9rM5q7daTXoFH082/KtcNf8491ah+gldD66Ti5g/iEDK3Q4kJSMg06P4Cvg1rVFfbTXePIsXr49+hCp5BeBLR0wMktiAHjxtJPOS7OS/5fPlYOpKvSVyehq5NuFTrli3T4e/aec6Bd23a4+3WgvacLTQznORL/d+Z/us8Spow9bM9ohK+3F25evvj5euLS5Bqnf/6cRX/fxOliHcd1XjmhU89IJiU3IvBBL+zrFescv3CYXQcu0LitO+39OtGhvRtODXJJ/nY5ixb/V2mcVo1c4VkInckxnRA6k9AJoTMJnRA6k9AJoTMJnRA6k9AJoTMJnRA6k9AJoTMJnRA6k9AJoTMJnRA6k9AJobN6/fv3lwHPQuhIajohdCahE0JnEjohdCahE0JnEjohdCahE0JnEjohdCahE0JnEjohdCahE0JnEjohdCahE0Jn9T09PeWy6rWakd6TZvPSmIEENzvN9sQMrmtzihjpPPY1po8fTLdbLnOX8h/Lm6+NZ0hfH67u2UHKFa28mLDJ0bwwypeCr3dwRCurTlLT1Xp5bFv6KQm5Bhy7DOGxzkatvIix82MM6eIIZ35ixfJE5V+IUowehD0RipM2WZMkdHVBXiKr1+wmG0eCRo4huHjujMGMGRmE49UUvl76OUe1YlGa0SOMx3qX3mnpTZqXdcT1jCRymgcR4NYOX8+r7NmRwhVlvx36XBS9Wlzn6MbFrNxvaTvZ+UXwzKSnGTkskoED+tP3/g44XT3GgZMXzfNVRu9wJj33NCOGRBIRHkbog8H4Gs9y8LdM8rVlrELzAPoGuZB3MIGMpm3w9G7L5e92kVqs/e0ZMgBvh3P8Vqx5aXTtyaPjn+QPI4YROXAA/fveTwenqxw7cJKirVg5UtPVGXkkLl/BT2cKzHvsJ0KdcAp9gjAPI7kJn7LkmyzzUk6hz/NaVH/cG5xm79Z44rfu5XSDNnQf+RKTw1qal8EpjD8+8zAexhx+3aEsE7+D5Et2ePWP4o+RtaEBVg2u7GbVllSuGn2JGN9bOQouR0tl+7wwgu5tjZzZu1XZPj9x+EJD2nYfyUuTw9C2YqVJ6OqUo3y+dBOpV414hL3Ii2Ee3JO9mzWrC4/jAhn0kBfG01tZMDua5XEb2BC3nOi/vMuWtHtw7xOuLKEI8sP9nvPs/ddclq5WltmwmiXzvuTg5f+jWbuu2Jvfy/qkb1zFltSrGH0jGH/LZqaRB4crOy1jLgn/fJv5y+Ms22fWO3x+8BJG9z6Emzdi5Uno6pr0jazalEKe0R77e87w04rlJBaeOencEfdGcPFKPTqHDmTgwMJHIA2vmaBRO/z9leUyz3OJJvgPfIr+97XATv23eT/x91enMn3hf8hVp61SOhtXbTHvtHwjxlN27rrh1+4eSNvN+hsbVnWRnzYnkkkjvLsEa2WVI6Grg9Ljf7XcDTR1F58XP3PS0sF8I/omXr0JCwsr8Qhxa6jMaYyD2jZK2MimX3Np0DKAiCdnMGv+XN6aMZGRvf0sAbRm6k6r3GamLTZK5i5np2NpsBdzNMd82+OGdk0t05UkobNCKRumMGVKWY+X+fAbdYl0vl3yF159K5Yvfkok7dz/cW8zP7oPm8jM3+GYpbarWDOz+kjorMm5i+Z7irdoU7HmT172fratXsq7b/8//vT6B5YvontXerlpC1itks1MzxIpMJF/VanNHFuW7tPzcFDaCnA+J90yXUkSOmuycw+/XVK+MO17El6iumpJ+Evv8v67U3nEBQKe+DNz5/+ZkR7abNXFU5y9pHzb7hbFmpm+JXYyO/j1mLIdWgcRUWIggh3d+3XGmTzSkhO1ssqRfro6yZOQAd44nPuNr3cUH7h0mvQGvtzfvh2+3bvj5dAQZ58QHn70Ebq63MO5vV/wPz9kkFbgSo9Ab7wCuuLt4oSzqx8hDw+lt689149uYUW82gdoJbR+Ok4n8G3iWa3Q4mLyMRr4dcOraX1lqrCf7jrHTtTD9/5OdAjqjn9zexxcA3ho5GP0Vo6L81Pi+ee/j1Spr05CVyfdKnTKF+nIDn7JtcfVpQ1uPr54t2tJY8MFjv13BYv/fcASprP72X22IZ7u7rRx98LHqx0tGxdwZu9XxP7PVjKsaeBmOaFTz0gmH7uXTj3caVKvWOf4xSPsPXQBu9Zt8fL1w9e7DY71z5Pyw+cs/ecPSuO0auQKz0LoTI7phNCZhE4InUnohNCZhE4InUnohNCZhE4InUnohNCZhE4InUnohNCZhE4InUnohNCZhE4IndULCQmRAc9C6EhqOiF0Bf8fFNYNVh0EiPkAAAAASUVORK5CYII=)\n",
        "\n",
        "<br>\n",
        "AFTER:\n",
        "\n",
        "![7b.png](data:image/png;base64,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)"
      ],
      "metadata": {
        "id": "gRmPT_YsBgOK"
      }
    },
    {
      "cell_type": "markdown",
      "source": [
        "The final data wrangling was to observe the relation between International plans with Churn; And also with Voice mail plan and Churn. This is done using crosstab module. The following was observed:\n",
        "\n",
        "![8.png](data:image/png;base64,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)\n",
        "\n",
        "![9.png](data:image/png;base64,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)"
      ],
      "metadata": {
        "id": "sxnOCO-ECqBA"
      }
    },
    {
      "cell_type": "markdown",
      "source": [
        "Simplifying the above data to lay-man terms:\n",
        "\n",
        "The number of customers using International plan and were retained : 186 <br>\n",
        "The number of customers using International plan and were churned : 137 <br>\n",
        "The number of customers not using International plan and were retained : 2664 <br>\n",
        "The number of customers not using International plan and were churned : 346 <br> \n",
        "<br>\n",
        "The number of customers using Voice mail plan and were retained : 842 <br>\n",
        "The number of customers using Voice mail plan and were churned : 80 <br>\n",
        "The number of customers not using Voice mail plan and were retained : 2008 <br>\n",
        "The number of customers not using Voice mail plan and were churned : 403 "
      ],
      "metadata": {
        "id": "3q_NXlBlDiRM"
      }
    },
    {
      "cell_type": "markdown",
      "source": [
        "## ***4. Data Vizualization, Storytelling & Experimenting with charts : Understand the relationships between variables***"
      ],
      "metadata": {
        "id": "GF8Ens_Soomf"
      }
    },
    {
      "cell_type": "markdown",
      "source": [
        "#### Chart - 1"
      ],
      "metadata": {
        "id": "0wOQAZs5pc--"
      }
    },
    {
      "cell_type": "code",
      "source": [
        "# Chart - 1 visualization code"
      ],
      "metadata": {
        "id": "7v_ESjsspbW7"
      },
      "execution_count": null,
      "outputs": []
    },
    {
      "cell_type": "markdown",
      "source": [
        "##### 1. Why did you pick the specific chart?"
      ],
      "metadata": {
        "id": "K5QZ13OEpz2H"
      }
    },
    {
      "cell_type": "markdown",
      "source": [
        "Answer Here."
      ],
      "metadata": {
        "id": "XESiWehPqBRc"
      }
    },
    {
      "cell_type": "markdown",
      "source": [
        "##### 2. What is/are the insight(s) found from the chart?"
      ],
      "metadata": {
        "id": "lQ7QKXXCp7Bj"
      }
    },
    {
      "cell_type": "markdown",
      "source": [
        "Answer Here"
      ],
      "metadata": {
        "id": "C_j1G7yiqdRP"
      }
    },
    {
      "cell_type": "markdown",
      "source": [
        "##### 3. Will the gained insights help creating a positive business impact? \n",
        "Are there any insights that lead to negative growth? Justify with specific reason."
      ],
      "metadata": {
        "id": "448CDAPjqfQr"
      }
    },
    {
      "cell_type": "markdown",
      "source": [
        "Answer Here"
      ],
      "metadata": {
        "id": "3cspy4FjqxJW"
      }
    },
    {
      "cell_type": "markdown",
      "source": [
        "#### Chart - 2"
      ],
      "metadata": {
        "id": "KSlN3yHqYklG"
      }
    },
    {
      "cell_type": "code",
      "source": [
        "# Chart - 2 visualization code"
      ],
      "metadata": {
        "id": "R4YgtaqtYklH"
      },
      "execution_count": null,
      "outputs": []
    },
    {
      "cell_type": "markdown",
      "source": [
        "##### 1. Why did you pick the specific chart?"
      ],
      "metadata": {
        "id": "t6dVpIINYklI"
      }
    },
    {
      "cell_type": "markdown",
      "source": [
        "Answer Here."
      ],
      "metadata": {
        "id": "5aaW0BYyYklI"
      }
    },
    {
      "cell_type": "markdown",
      "source": [
        "##### 2. What is/are the insight(s) found from the chart?"
      ],
      "metadata": {
        "id": "ijmpgYnKYklI"
      }
    },
    {
      "cell_type": "markdown",
      "source": [
        "Answer Here"
      ],
      "metadata": {
        "id": "PSx9atu2YklI"
      }
    },
    {
      "cell_type": "markdown",
      "source": [
        "##### 3. Will the gained insights help creating a positive business impact? \n",
        "Are there any insights that lead to negative growth? Justify with specific reason."
      ],
      "metadata": {
        "id": "-JiQyfWJYklI"
      }
    },
    {
      "cell_type": "markdown",
      "source": [
        "Answer Here"
      ],
      "metadata": {
        "id": "BcBbebzrYklV"
      }
    },
    {
      "cell_type": "markdown",
      "source": [
        "#### Chart - 3"
      ],
      "metadata": {
        "id": "EM7whBJCYoAo"
      }
    },
    {
      "cell_type": "code",
      "source": [
        "# Chart - 3 visualization code"
      ],
      "metadata": {
        "id": "t6GMdE67YoAp"
      },
      "execution_count": null,
      "outputs": []
    },
    {
      "cell_type": "markdown",
      "source": [
        "##### 1. Why did you pick the specific chart?"
      ],
      "metadata": {
        "id": "fge-S5ZAYoAp"
      }
    },
    {
      "cell_type": "markdown",
      "source": [
        "Answer Here."
      ],
      "metadata": {
        "id": "5dBItgRVYoAp"
      }
    },
    {
      "cell_type": "markdown",
      "source": [
        "##### 2. What is/are the insight(s) found from the chart?"
      ],
      "metadata": {
        "id": "85gYPyotYoAp"
      }
    },
    {
      "cell_type": "markdown",
      "source": [
        "Answer Here"
      ],
      "metadata": {
        "id": "4jstXR6OYoAp"
      }
    },
    {
      "cell_type": "markdown",
      "source": [
        "##### 3. Will the gained insights help creating a positive business impact? \n",
        "Are there any insights that lead to negative growth? Justify with specific reason."
      ],
      "metadata": {
        "id": "RoGjAbkUYoAp"
      }
    },
    {
      "cell_type": "markdown",
      "source": [
        "Answer Here"
      ],
      "metadata": {
        "id": "zfJ8IqMcYoAp"
      }
    },
    {
      "cell_type": "markdown",
      "source": [
        "#### Chart - 4"
      ],
      "metadata": {
        "id": "4Of9eVA-YrdM"
      }
    },
    {
      "cell_type": "code",
      "source": [
        "# Chart - 4 visualization code"
      ],
      "metadata": {
        "id": "irlUoxc8YrdO"
      },
      "execution_count": null,
      "outputs": []
    },
    {
      "cell_type": "markdown",
      "source": [
        "##### 1. Why did you pick the specific chart?"
      ],
      "metadata": {
        "id": "iky9q4vBYrdO"
      }
    },
    {
      "cell_type": "markdown",
      "source": [
        "Answer Here."
      ],
      "metadata": {
        "id": "aJRCwT6DYrdO"
      }
    },
    {
      "cell_type": "markdown",
      "source": [
        "##### 2. What is/are the insight(s) found from the chart?"
      ],
      "metadata": {
        "id": "F6T5p64dYrdO"
      }
    },
    {
      "cell_type": "markdown",
      "source": [
        "Answer Here"
      ],
      "metadata": {
        "id": "Xx8WAJvtYrdO"
      }
    },
    {
      "cell_type": "markdown",
      "source": [
        "##### 3. Will the gained insights help creating a positive business impact? \n",
        "Are there any insights that lead to negative growth? Justify with specific reason."
      ],
      "metadata": {
        "id": "y-Ehk30pYrdP"
      }
    },
    {
      "cell_type": "markdown",
      "source": [
        "Answer Here"
      ],
      "metadata": {
        "id": "jLNxxz7MYrdP"
      }
    },
    {
      "cell_type": "markdown",
      "source": [
        "#### Chart - 5"
      ],
      "metadata": {
        "id": "bamQiAODYuh1"
      }
    },
    {
      "cell_type": "code",
      "source": [
        "# Chart - 5 visualization code"
      ],
      "metadata": {
        "id": "TIJwrbroYuh3"
      },
      "execution_count": null,
      "outputs": []
    },
    {
      "cell_type": "markdown",
      "source": [
        "##### 1. Why did you pick the specific chart?"
      ],
      "metadata": {
        "id": "QHF8YVU7Yuh3"
      }
    },
    {
      "cell_type": "markdown",
      "source": [
        "Answer Here."
      ],
      "metadata": {
        "id": "dcxuIMRPYuh3"
      }
    },
    {
      "cell_type": "markdown",
      "source": [
        "##### 2. What is/are the insight(s) found from the chart?"
      ],
      "metadata": {
        "id": "GwzvFGzlYuh3"
      }
    },
    {
      "cell_type": "markdown",
      "source": [
        "Answer Here"
      ],
      "metadata": {
        "id": "uyqkiB8YYuh3"
      }
    },
    {
      "cell_type": "markdown",
      "source": [
        "##### 3. Will the gained insights help creating a positive business impact? \n",
        "Are there any insights that lead to negative growth? Justify with specific reason."
      ],
      "metadata": {
        "id": "qYpmQ266Yuh3"
      }
    },
    {
      "cell_type": "markdown",
      "source": [
        "Answer Here"
      ],
      "metadata": {
        "id": "_WtzZ_hCYuh4"
      }
    },
    {
      "cell_type": "markdown",
      "source": [
        "#### Chart - 6"
      ],
      "metadata": {
        "id": "OH-pJp9IphqM"
      }
    },
    {
      "cell_type": "code",
      "source": [
        "# Chart - 6 visualization code"
      ],
      "metadata": {
        "id": "kuRf4wtuphqN"
      },
      "execution_count": null,
      "outputs": []
    },
    {
      "cell_type": "markdown",
      "source": [
        "##### 1. Why did you pick the specific chart?"
      ],
      "metadata": {
        "id": "bbFf2-_FphqN"
      }
    },
    {
      "cell_type": "markdown",
      "source": [
        "Answer Here."
      ],
      "metadata": {
        "id": "loh7H2nzphqN"
      }
    },
    {
      "cell_type": "markdown",
      "source": [
        "##### 2. What is/are the insight(s) found from the chart?"
      ],
      "metadata": {
        "id": "_ouA3fa0phqN"
      }
    },
    {
      "cell_type": "markdown",
      "source": [
        "Answer Here"
      ],
      "metadata": {
        "id": "VECbqPI7phqN"
      }
    },
    {
      "cell_type": "markdown",
      "source": [
        "##### 3. Will the gained insights help creating a positive business impact? \n",
        "Are there any insights that lead to negative growth? Justify with specific reason."
      ],
      "metadata": {
        "id": "Seke61FWphqN"
      }
    },
    {
      "cell_type": "markdown",
      "source": [
        "Answer Here"
      ],
      "metadata": {
        "id": "DW4_bGpfphqN"
      }
    },
    {
      "cell_type": "markdown",
      "source": [
        "#### Chart - 7"
      ],
      "metadata": {
        "id": "PIIx-8_IphqN"
      }
    },
    {
      "cell_type": "code",
      "source": [
        "# Chart - 7 visualization code"
      ],
      "metadata": {
        "id": "lqAIGUfyphqO"
      },
      "execution_count": null,
      "outputs": []
    },
    {
      "cell_type": "markdown",
      "source": [
        "##### 1. Why did you pick the specific chart?"
      ],
      "metadata": {
        "id": "t27r6nlMphqO"
      }
    },
    {
      "cell_type": "markdown",
      "source": [
        "Answer Here."
      ],
      "metadata": {
        "id": "iv6ro40sphqO"
      }
    },
    {
      "cell_type": "markdown",
      "source": [
        "##### 2. What is/are the insight(s) found from the chart?"
      ],
      "metadata": {
        "id": "r2jJGEOYphqO"
      }
    },
    {
      "cell_type": "markdown",
      "source": [
        "Answer Here"
      ],
      "metadata": {
        "id": "Po6ZPi4hphqO"
      }
    },
    {
      "cell_type": "markdown",
      "source": [
        "##### 3. Will the gained insights help creating a positive business impact? \n",
        "Are there any insights that lead to negative growth? Justify with specific reason."
      ],
      "metadata": {
        "id": "b0JNsNcRphqO"
      }
    },
    {
      "cell_type": "markdown",
      "source": [
        "Answer Here"
      ],
      "metadata": {
        "id": "xvSq8iUTphqO"
      }
    },
    {
      "cell_type": "markdown",
      "source": [
        "#### Chart - 8"
      ],
      "metadata": {
        "id": "BZR9WyysphqO"
      }
    },
    {
      "cell_type": "code",
      "source": [
        "# Chart - 8 visualization code"
      ],
      "metadata": {
        "id": "TdPTWpAVphqO"
      },
      "execution_count": null,
      "outputs": []
    },
    {
      "cell_type": "markdown",
      "source": [
        "##### 1. Why did you pick the specific chart?"
      ],
      "metadata": {
        "id": "jj7wYXLtphqO"
      }
    },
    {
      "cell_type": "markdown",
      "source": [
        "Answer Here."
      ],
      "metadata": {
        "id": "Ob8u6rCTphqO"
      }
    },
    {
      "cell_type": "markdown",
      "source": [
        "##### 2. What is/are the insight(s) found from the chart?"
      ],
      "metadata": {
        "id": "eZrbJ2SmphqO"
      }
    },
    {
      "cell_type": "markdown",
      "source": [
        "Answer Here"
      ],
      "metadata": {
        "id": "mZtgC_hjphqO"
      }
    },
    {
      "cell_type": "markdown",
      "source": [
        "##### 3. Will the gained insights help creating a positive business impact? \n",
        "Are there any insights that lead to negative growth? Justify with specific reason."
      ],
      "metadata": {
        "id": "rFu4xreNphqO"
      }
    },
    {
      "cell_type": "markdown",
      "source": [
        "Answer Here"
      ],
      "metadata": {
        "id": "ey_0qi68phqO"
      }
    },
    {
      "cell_type": "markdown",
      "source": [
        "#### Chart - 9"
      ],
      "metadata": {
        "id": "YJ55k-q6phqO"
      }
    },
    {
      "cell_type": "code",
      "source": [
        "# Chart - 9 visualization code"
      ],
      "metadata": {
        "id": "B2aS4O1ophqO"
      },
      "execution_count": null,
      "outputs": []
    },
    {
      "cell_type": "markdown",
      "source": [
        "##### 1. Why did you pick the specific chart?"
      ],
      "metadata": {
        "id": "gCFgpxoyphqP"
      }
    },
    {
      "cell_type": "markdown",
      "source": [
        "Answer Here."
      ],
      "metadata": {
        "id": "TVxDimi2phqP"
      }
    },
    {
      "cell_type": "markdown",
      "source": [
        "##### 2. What is/are the insight(s) found from the chart?"
      ],
      "metadata": {
        "id": "OVtJsKN_phqQ"
      }
    },
    {
      "cell_type": "markdown",
      "source": [
        "Answer Here"
      ],
      "metadata": {
        "id": "ngGi97qjphqQ"
      }
    },
    {
      "cell_type": "markdown",
      "source": [
        "##### 3. Will the gained insights help creating a positive business impact? \n",
        "Are there any insights that lead to negative growth? Justify with specific reason."
      ],
      "metadata": {
        "id": "lssrdh5qphqQ"
      }
    },
    {
      "cell_type": "markdown",
      "source": [
        "Answer Here"
      ],
      "metadata": {
        "id": "tBpY5ekJphqQ"
      }
    },
    {
      "cell_type": "markdown",
      "source": [
        "#### Chart - 10"
      ],
      "metadata": {
        "id": "U2RJ9gkRphqQ"
      }
    },
    {
      "cell_type": "code",
      "source": [
        "# Chart - 10 visualization code"
      ],
      "metadata": {
        "id": "GM7a4YP4phqQ"
      },
      "execution_count": null,
      "outputs": []
    },
    {
      "cell_type": "markdown",
      "source": [
        "##### 1. Why did you pick the specific chart?"
      ],
      "metadata": {
        "id": "1M8mcRywphqQ"
      }
    },
    {
      "cell_type": "markdown",
      "source": [
        "Answer Here."
      ],
      "metadata": {
        "id": "8agQvks0phqQ"
      }
    },
    {
      "cell_type": "markdown",
      "source": [
        "##### 2. What is/are the insight(s) found from the chart?"
      ],
      "metadata": {
        "id": "tgIPom80phqQ"
      }
    },
    {
      "cell_type": "markdown",
      "source": [
        "Answer Here"
      ],
      "metadata": {
        "id": "Qp13pnNzphqQ"
      }
    },
    {
      "cell_type": "markdown",
      "source": [
        "##### 3. Will the gained insights help creating a positive business impact? \n",
        "Are there any insights that lead to negative growth? Justify with specific reason."
      ],
      "metadata": {
        "id": "JMzcOPDDphqR"
      }
    },
    {
      "cell_type": "markdown",
      "source": [
        "Answer Here"
      ],
      "metadata": {
        "id": "R4Ka1PC2phqR"
      }
    },
    {
      "cell_type": "markdown",
      "source": [
        "#### Chart - 11"
      ],
      "metadata": {
        "id": "x-EpHcCOp1ci"
      }
    },
    {
      "cell_type": "code",
      "source": [
        "# Chart - 11 visualization code"
      ],
      "metadata": {
        "id": "mAQTIvtqp1cj"
      },
      "execution_count": null,
      "outputs": []
    },
    {
      "cell_type": "markdown",
      "source": [
        "##### 1. Why did you pick the specific chart?"
      ],
      "metadata": {
        "id": "X_VqEhTip1ck"
      }
    },
    {
      "cell_type": "markdown",
      "source": [
        "Answer Here."
      ],
      "metadata": {
        "id": "-vsMzt_np1ck"
      }
    },
    {
      "cell_type": "markdown",
      "source": [
        "##### 2. What is/are the insight(s) found from the chart?"
      ],
      "metadata": {
        "id": "8zGJKyg5p1ck"
      }
    },
    {
      "cell_type": "markdown",
      "source": [
        "Answer Here"
      ],
      "metadata": {
        "id": "ZYdMsrqVp1ck"
      }
    },
    {
      "cell_type": "markdown",
      "source": [
        "##### 3. Will the gained insights help creating a positive business impact? \n",
        "Are there any insights that lead to negative growth? Justify with specific reason."
      ],
      "metadata": {
        "id": "PVzmfK_Ep1ck"
      }
    },
    {
      "cell_type": "markdown",
      "source": [
        "Answer Here"
      ],
      "metadata": {
        "id": "druuKYZpp1ck"
      }
    },
    {
      "cell_type": "markdown",
      "source": [
        "#### Chart - 12"
      ],
      "metadata": {
        "id": "n3dbpmDWp1ck"
      }
    },
    {
      "cell_type": "code",
      "source": [
        "# Chart - 12 visualization code"
      ],
      "metadata": {
        "id": "bwevp1tKp1ck"
      },
      "execution_count": null,
      "outputs": []
    },
    {
      "cell_type": "markdown",
      "source": [
        "##### 1. Why did you pick the specific chart?"
      ],
      "metadata": {
        "id": "ylSl6qgtp1ck"
      }
    },
    {
      "cell_type": "markdown",
      "source": [
        "Answer Here."
      ],
      "metadata": {
        "id": "m2xqNkiQp1ck"
      }
    },
    {
      "cell_type": "markdown",
      "source": [
        "##### 2. What is/are the insight(s) found from the chart?"
      ],
      "metadata": {
        "id": "ZWILFDl5p1ck"
      }
    },
    {
      "cell_type": "markdown",
      "source": [
        "Answer Here"
      ],
      "metadata": {
        "id": "x-lUsV2mp1ck"
      }
    },
    {
      "cell_type": "markdown",
      "source": [
        "##### 3. Will the gained insights help creating a positive business impact? \n",
        "Are there any insights that lead to negative growth? Justify with specific reason."
      ],
      "metadata": {
        "id": "M7G43BXep1ck"
      }
    },
    {
      "cell_type": "markdown",
      "source": [
        "Answer Here"
      ],
      "metadata": {
        "id": "5wwDJXsLp1cl"
      }
    },
    {
      "cell_type": "markdown",
      "source": [
        "#### Chart - 13"
      ],
      "metadata": {
        "id": "Ag9LCva-p1cl"
      }
    },
    {
      "cell_type": "code",
      "source": [
        "# Chart - 13 visualization code"
      ],
      "metadata": {
        "id": "EUfxeq9-p1cl"
      },
      "execution_count": null,
      "outputs": []
    },
    {
      "cell_type": "markdown",
      "source": [
        "##### 1. Why did you pick the specific chart?"
      ],
      "metadata": {
        "id": "E6MkPsBcp1cl"
      }
    },
    {
      "cell_type": "markdown",
      "source": [
        "Answer Here."
      ],
      "metadata": {
        "id": "V22bRsFWp1cl"
      }
    },
    {
      "cell_type": "markdown",
      "source": [
        "##### 2. What is/are the insight(s) found from the chart?"
      ],
      "metadata": {
        "id": "2cELzS2fp1cl"
      }
    },
    {
      "cell_type": "markdown",
      "source": [
        "Answer Here"
      ],
      "metadata": {
        "id": "ozQPc2_Ip1cl"
      }
    },
    {
      "cell_type": "markdown",
      "source": [
        "##### 3. Will the gained insights help creating a positive business impact? \n",
        "Are there any insights that lead to negative growth? Justify with specific reason."
      ],
      "metadata": {
        "id": "3MPXvC8up1cl"
      }
    },
    {
      "cell_type": "markdown",
      "source": [
        "Answer Here"
      ],
      "metadata": {
        "id": "GL8l1tdLp1cl"
      }
    },
    {
      "cell_type": "markdown",
      "source": [
        "#### Chart - 14 - Correlation Heatmap"
      ],
      "metadata": {
        "id": "NC_X3p0fY2L0"
      }
    },
    {
      "cell_type": "code",
      "source": [
        "# Correlation Heatmap visualization code"
      ],
      "metadata": {
        "id": "xyC9zolEZNRQ"
      },
      "execution_count": null,
      "outputs": []
    },
    {
      "cell_type": "markdown",
      "source": [
        "##### 1. Why did you pick the specific chart?"
      ],
      "metadata": {
        "id": "UV0SzAkaZNRQ"
      }
    },
    {
      "cell_type": "markdown",
      "source": [
        "Answer Here."
      ],
      "metadata": {
        "id": "DVPuT8LYZNRQ"
      }
    },
    {
      "cell_type": "markdown",
      "source": [
        "##### 2. What is/are the insight(s) found from the chart?"
      ],
      "metadata": {
        "id": "YPEH6qLeZNRQ"
      }
    },
    {
      "cell_type": "markdown",
      "source": [
        "Answer Here"
      ],
      "metadata": {
        "id": "bfSqtnDqZNRR"
      }
    },
    {
      "cell_type": "markdown",
      "source": [
        "#### Chart - 15 - Pair Plot "
      ],
      "metadata": {
        "id": "q29F0dvdveiT"
      }
    },
    {
      "cell_type": "code",
      "source": [
        "# Pair Plot visualization code"
      ],
      "metadata": {
        "id": "o58-TEIhveiU"
      },
      "execution_count": null,
      "outputs": []
    },
    {
      "cell_type": "markdown",
      "source": [
        "##### 1. Why did you pick the specific chart?"
      ],
      "metadata": {
        "id": "EXh0U9oCveiU"
      }
    },
    {
      "cell_type": "markdown",
      "source": [
        "Answer Here."
      ],
      "metadata": {
        "id": "eMmPjTByveiU"
      }
    },
    {
      "cell_type": "markdown",
      "source": [
        "##### 2. What is/are the insight(s) found from the chart?"
      ],
      "metadata": {
        "id": "22aHeOlLveiV"
      }
    },
    {
      "cell_type": "markdown",
      "source": [
        "Answer Here"
      ],
      "metadata": {
        "id": "uPQ8RGwHveiV"
      }
    },
    {
      "cell_type": "markdown",
      "source": [
        "## **5. Solution to Business Objective**"
      ],
      "metadata": {
        "id": "JcMwzZxoAimU"
      }
    },
    {
      "cell_type": "markdown",
      "source": [
        "#### What do you suggest the client to achieve Business Objective ? \n",
        "Explain Briefly."
      ],
      "metadata": {
        "id": "8G2x9gOozGDZ"
      }
    },
    {
      "cell_type": "markdown",
      "source": [
        "Answer Here."
      ],
      "metadata": {
        "id": "pASKb0qOza21"
      }
    },
    {
      "cell_type": "markdown",
      "source": [
        "# **Conclusion**"
      ],
      "metadata": {
        "id": "gCX9965dhzqZ"
      }
    },
    {
      "cell_type": "markdown",
      "source": [
        "Write the conclusion here."
      ],
      "metadata": {
        "id": "Fjb1IsQkh3yE"
      }
    },
    {
      "cell_type": "markdown",
      "source": [
        "### ***Hurrah! You have successfully completed your EDA Capstone Project !!!***"
      ],
      "metadata": {
        "id": "gIfDvo9L0UH2"
      }
    }
  ]
}